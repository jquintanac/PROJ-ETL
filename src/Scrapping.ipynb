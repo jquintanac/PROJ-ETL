{
 "cells": [
  {
   "cell_type": "code",
   "execution_count": 2,
   "id": "f4c536a4",
   "metadata": {},
   "outputs": [
    {
     "name": "stdout",
     "output_type": "stream",
     "text": [
      "Collecting webdriver-managerNote: you may need to restart the kernel to use updated packages.\n"
     ]
    },
    {
     "name": "stderr",
     "output_type": "stream",
     "text": [
      "  WARNING: The script tqdm.exe is installed in 'C:\\Users\\Nonito\\anaconda3\\envs\\Clase\\Scripts' which is not on PATH.\n",
      "  Consider adding this directory to PATH or, if you prefer to suppress this warning, use --no-warn-script-location.\n",
      "  WARNING: The script dotenv.exe is installed in 'C:\\Users\\Nonito\\anaconda3\\envs\\Clase\\Scripts' which is not on PATH.\n",
      "  Consider adding this directory to PATH or, if you prefer to suppress this warning, use --no-warn-script-location.\n"
     ]
    },
    {
     "name": "stdout",
     "output_type": "stream",
     "text": [
      "\n",
      "  Using cached webdriver_manager-3.8.4-py2.py3-none-any.whl (27 kB)\n",
      "Collecting tqdm\n",
      "  Downloading tqdm-4.64.1-py2.py3-none-any.whl (78 kB)\n",
      "     ---------------------------------------- 78.5/78.5 kB 4.5 MB/s eta 0:00:00\n",
      "Requirement already satisfied: requests in c:\\users\\nonito\\anaconda3\\envs\\clase\\lib\\site-packages (from webdriver-manager) (2.28.1)\n",
      "Collecting python-dotenv\n",
      "  Using cached python_dotenv-0.21.0-py3-none-any.whl (18 kB)\n",
      "Requirement already satisfied: urllib3<1.27,>=1.21.1 in c:\\users\\nonito\\anaconda3\\envs\\clase\\lib\\site-packages (from requests->webdriver-manager) (1.26.12)\n",
      "Requirement already satisfied: certifi>=2017.4.17 in c:\\users\\nonito\\anaconda3\\envs\\clase\\lib\\site-packages (from requests->webdriver-manager) (2022.9.24)\n",
      "Requirement already satisfied: idna<4,>=2.5 in c:\\users\\nonito\\anaconda3\\envs\\clase\\lib\\site-packages (from requests->webdriver-manager) (3.4)\n",
      "Requirement already satisfied: charset-normalizer<3,>=2 in c:\\users\\nonito\\anaconda3\\envs\\clase\\lib\\site-packages (from requests->webdriver-manager) (2.1.1)\n",
      "Requirement already satisfied: colorama in c:\\users\\nonito\\anaconda3\\envs\\clase\\lib\\site-packages (from tqdm->webdriver-manager) (0.4.5)\n",
      "Installing collected packages: tqdm, python-dotenv, webdriver-manager\n",
      "Successfully installed python-dotenv-0.21.0 tqdm-4.64.1 webdriver-manager-3.8.4\n"
     ]
    }
   ],
   "source": [
    "%pip install webdriver-manager"
   ]
  },
  {
   "cell_type": "code",
   "execution_count": 5,
   "id": "c9f1188e",
   "metadata": {},
   "outputs": [],
   "source": [
    "from webdriver_manager.chrome import ChromeDriverManager"
   ]
  },
  {
   "cell_type": "code",
   "execution_count": 6,
   "id": "2aab0866",
   "metadata": {},
   "outputs": [
    {
     "name": "stderr",
     "output_type": "stream",
     "text": [
      "[WDM] - Downloading: 100%|████████████████████████████████████████████████████████| 6.46M/6.46M [00:00<00:00, 98.2MB/s]\n"
     ]
    }
   ],
   "source": [
    "PATH=ChromeDriverManager().install() "
   ]
  },
  {
   "cell_type": "code",
   "execution_count": 14,
   "id": "6ee06eae",
   "metadata": {},
   "outputs": [],
   "source": [
    "import pandas as pd\n",
    "from selenium import webdriver\n",
    "from selenium.webdriver.chrome.options import Options\n",
    "from selenium.webdriver.common.by import By\n",
    "import warnings\n",
    "warnings.filterwarnings('ignore')\n",
    "import time"
   ]
  },
  {
   "cell_type": "code",
   "execution_count": 9,
   "id": "a8c811aa",
   "metadata": {},
   "outputs": [
    {
     "name": "stderr",
     "output_type": "stream",
     "text": [
      "C:\\Users\\Nonito\\AppData\\Local\\Temp\\ipykernel_24972\\797652658.py:1: DeprecationWarning: executable_path has been deprecated, please pass in a Service object\n",
      "  driver = webdriver.Chrome(PATH)\n"
     ]
    }
   ],
   "source": [
    "driver = webdriver.Chrome(PATH)"
   ]
  },
  {
   "cell_type": "markdown",
   "id": "013fc08b",
   "metadata": {},
   "source": [
    "El scrapping se va a realizar en Wikipedia, buscando información de personajes de la película \"El señor de los anillos\", concretamente el nombre del personaje y su raza. Se van a escoger tres al azar: Frodo, Gimli y Legolas."
   ]
  },
  {
   "cell_type": "code",
   "execution_count": 63,
   "id": "3141b41b",
   "metadata": {},
   "outputs": [],
   "source": [
    "url=\"https://en.wikipedia.org/wiki/Main_Page\""
   ]
  },
  {
   "cell_type": "code",
   "execution_count": 64,
   "id": "c4b85765",
   "metadata": {},
   "outputs": [
    {
     "name": "stdout",
     "output_type": "stream",
     "text": [
      "Frodo Baggins is a Hobbit\n",
      "Gimli (Middle-earth) is a Dwarf\n",
      "Legolas is a Sindar Elf\n"
     ]
    }
   ],
   "source": [
    "#Entrar en Wikipedia\n",
    "\n",
    "driver = webdriver.Chrome(PATH)\n",
    "driver.get(url)\n",
    "\n",
    "time.sleep(2)\n",
    "\n",
    "#Buscar película\n",
    "\n",
    "texto=driver.find_element(By.XPATH, '//*[@id=\"searchInput\"]')\n",
    "\n",
    "texto.click()\n",
    "\n",
    "texto.send_keys('The Lord of the Rings: The Fellowship of the Ring')\n",
    "\n",
    "texto.send_keys(u'\\ue007')\n",
    "\n",
    "time.sleep(2)\n",
    "\n",
    "driver.find_element(By.XPATH, '//*[@id=\"mw-content-text\"]/div[3]/div[2]/ul/li[1]/table/tbody/tr/td[2]/div[1]/a').click()\n",
    "\n",
    "time.sleep(2)\n",
    "\n",
    "\n",
    "# Frodo\n",
    "\n",
    "driver.find_element(By.XPATH, '//*[@id=\"mw-content-text\"]/div[1]/ul[1]/li[1]/a[2]').click()\n",
    "\n",
    "time.sleep(2)\n",
    "\n",
    "frodorace= driver.find_element(By.XPATH, '//*[@id=\"mw-content-text\"]/div[1]/table[1]/tbody/tr[6]/td').text\n",
    "frodoname= driver.find_element(By.XPATH, '//*[@id=\"firstHeading\"]/span').text\n",
    "\n",
    "print(frodoname, \"is a\", frodorace)\n",
    "\n",
    "driver.back()\n",
    "\n",
    "time.sleep(2)\n",
    "\n",
    "\n",
    "#Gimli\n",
    "\n",
    "driver.find_element(By.XPATH, '//*[@id=\"mw-content-text\"]/div[1]/ul[1]/li[8]/a[2]').click()\n",
    "\n",
    "time.sleep(2)\n",
    "\n",
    "gimlirace= driver.find_element(By.XPATH, '//*[@id=\"mw-content-text\"]/div[1]/table[1]/tbody/tr[5]/td/a').text\n",
    "gimliname= driver.find_element(By.XPATH, '//*[@id=\"firstHeading\"]/span').text\n",
    "\n",
    "print(gimliname, \"is a\", gimlirace)\n",
    "\n",
    "driver.back()\n",
    "\n",
    "time.sleep(2)\n",
    "\n",
    "\n",
    "#Legolas\n",
    "\n",
    "driver.find_element(By.XPATH, '//*[@id=\"mw-content-text\"]/div[1]/ul[1]/li[9]/a[2]').click()\n",
    "\n",
    "time.sleep(2)\n",
    "\n",
    "legolasrace= driver.find_element(By.XPATH, '//*[@id=\"mw-content-text\"]/div[1]/table/tbody/tr[5]/td').text\n",
    "legolasname= driver.find_element(By.XPATH, '//*[@id=\"firstHeading\"]/span').text\n",
    "\n",
    "print(legolasname, \"is a\", legolasrace)\n",
    "\n",
    "driver.back()\n",
    "\n",
    "time.sleep(2)\n"
   ]
  },
  {
   "cell_type": "markdown",
   "id": "08b9d6d2",
   "metadata": {},
   "source": [
    "Se crea una pequeña tabla para estos datos."
   ]
  },
  {
   "cell_type": "code",
   "execution_count": 59,
   "id": "5ab261f8",
   "metadata": {},
   "outputs": [
    {
     "data": {
      "text/html": [
       "<div>\n",
       "<style scoped>\n",
       "    .dataframe tbody tr th:only-of-type {\n",
       "        vertical-align: middle;\n",
       "    }\n",
       "\n",
       "    .dataframe tbody tr th {\n",
       "        vertical-align: top;\n",
       "    }\n",
       "\n",
       "    .dataframe thead th {\n",
       "        text-align: right;\n",
       "    }\n",
       "</style>\n",
       "<table border=\"1\" class=\"dataframe\">\n",
       "  <thead>\n",
       "    <tr style=\"text-align: right;\">\n",
       "      <th></th>\n",
       "      <th>player_name</th>\n",
       "      <th>race_name</th>\n",
       "    </tr>\n",
       "  </thead>\n",
       "  <tbody>\n",
       "  </tbody>\n",
       "</table>\n",
       "</div>"
      ],
      "text/plain": [
       "Empty DataFrame\n",
       "Columns: [player_name, race_name]\n",
       "Index: []"
      ]
     },
     "execution_count": 59,
     "metadata": {},
     "output_type": "execute_result"
    }
   ],
   "source": [
    "columns=['player_name', 'race_name']\n",
    "lotrpj=pd.DataFrame(columns=columns)\n",
    "lotrpj"
   ]
  },
  {
   "cell_type": "markdown",
   "id": "87a48458",
   "metadata": {},
   "source": [
    "Se buscan coincidencias en las razas de DnD. En el caso de Frodo, se denominan hobbits a los halfling, por lo que hay que justificarlo en el bucle."
   ]
  },
  {
   "cell_type": "code",
   "execution_count": 32,
   "id": "f6bafbc9",
   "metadata": {},
   "outputs": [],
   "source": [
    "races=['Dragonborn', 'Dwarf','Elf','Gnome','Half-Elf','Half-Orc','Halfling','Human','Tiefling',]"
   ]
  },
  {
   "cell_type": "code",
   "execution_count": 56,
   "id": "43429175",
   "metadata": {},
   "outputs": [
    {
     "name": "stdout",
     "output_type": "stream",
     "text": [
      "['Frodo Baggins', 'Halfling']\n",
      "['Gimli (Middle-earth)', 'Dwarf']\n",
      "['Legolas', 'Elf']\n"
     ]
    }
   ],
   "source": [
    "lotr1=[frodoname]\n",
    "for i in races:\n",
    "    if i in frodorace:\n",
    "        lotr1.append(i) \n",
    "    if frodorace == 'Hobbit':\n",
    "        lotr1.append('Halfling')\n",
    "    if len(lotr1)==2:\n",
    "        break\n",
    "\n",
    "print(lotr1)\n",
    "\n",
    "lotr2=[gimliname]\n",
    "for i in races:\n",
    "    if i in gimlirace:\n",
    "        lotr2.append(i) \n",
    "    if len(lotr2)==2:\n",
    "        break\n",
    "\n",
    "print(lotr2)\n",
    "\n",
    "lotr3=[legolasname]\n",
    "for i in races:\n",
    "    if i in legolasrace:\n",
    "        lotr3.append(i) \n",
    "    if len(lotr3)==2:\n",
    "        break\n",
    "\n",
    "print(lotr3)"
   ]
  },
  {
   "cell_type": "code",
   "execution_count": 60,
   "id": "a94e6edf",
   "metadata": {},
   "outputs": [],
   "source": [
    "lotrpj.loc[len(lotrpj)]= lotr1\n",
    "lotrpj.loc[len(lotrpj)]= lotr2\n",
    "lotrpj.loc[len(lotrpj)]= lotr3"
   ]
  },
  {
   "cell_type": "code",
   "execution_count": 61,
   "id": "46814f01",
   "metadata": {},
   "outputs": [
    {
     "data": {
      "text/html": [
       "<div>\n",
       "<style scoped>\n",
       "    .dataframe tbody tr th:only-of-type {\n",
       "        vertical-align: middle;\n",
       "    }\n",
       "\n",
       "    .dataframe tbody tr th {\n",
       "        vertical-align: top;\n",
       "    }\n",
       "\n",
       "    .dataframe thead th {\n",
       "        text-align: right;\n",
       "    }\n",
       "</style>\n",
       "<table border=\"1\" class=\"dataframe\">\n",
       "  <thead>\n",
       "    <tr style=\"text-align: right;\">\n",
       "      <th></th>\n",
       "      <th>player_name</th>\n",
       "      <th>race_name</th>\n",
       "    </tr>\n",
       "  </thead>\n",
       "  <tbody>\n",
       "    <tr>\n",
       "      <th>0</th>\n",
       "      <td>Frodo Baggins</td>\n",
       "      <td>Halfling</td>\n",
       "    </tr>\n",
       "    <tr>\n",
       "      <th>1</th>\n",
       "      <td>Gimli (Middle-earth)</td>\n",
       "      <td>Dwarf</td>\n",
       "    </tr>\n",
       "    <tr>\n",
       "      <th>2</th>\n",
       "      <td>Legolas</td>\n",
       "      <td>Elf</td>\n",
       "    </tr>\n",
       "  </tbody>\n",
       "</table>\n",
       "</div>"
      ],
      "text/plain": [
       "            player_name race_name\n",
       "0         Frodo Baggins  Halfling\n",
       "1  Gimli (Middle-earth)     Dwarf\n",
       "2               Legolas       Elf"
      ]
     },
     "execution_count": 61,
     "metadata": {},
     "output_type": "execute_result"
    }
   ],
   "source": [
    "lotrpj"
   ]
  },
  {
   "cell_type": "code",
   "execution_count": 62,
   "id": "7b309f27",
   "metadata": {},
   "outputs": [],
   "source": [
    "lotrpj.to_csv('../data/clean/lotrpj.csv', index=False)"
   ]
  }
 ],
 "metadata": {
  "kernelspec": {
   "display_name": "Clase",
   "language": "python",
   "name": "clase"
  },
  "language_info": {
   "codemirror_mode": {
    "name": "ipython",
    "version": 3
   },
   "file_extension": ".py",
   "mimetype": "text/x-python",
   "name": "python",
   "nbconvert_exporter": "python",
   "pygments_lexer": "ipython3",
   "version": "3.8.13"
  }
 },
 "nbformat": 4,
 "nbformat_minor": 5
}

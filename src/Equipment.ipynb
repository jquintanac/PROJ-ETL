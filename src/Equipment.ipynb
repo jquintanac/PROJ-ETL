{
 "cells": [
  {
   "cell_type": "code",
   "execution_count": 1,
   "id": "0af583f5",
   "metadata": {},
   "outputs": [],
   "source": [
    "import pandas as pd\n",
    "pd.set_option('display.max_columns', None)\n",
    "\n",
    "import numpy as np\n",
    "\n",
    "import warnings\n",
    "warnings.filterwarnings('ignore')\n",
    "\n",
    "import json\n",
    "from pandas.io.json import json_normalize"
   ]
  },
  {
   "cell_type": "code",
   "execution_count": 2,
   "id": "43220a41",
   "metadata": {},
   "outputs": [],
   "source": [
    "equip = pd.read_csv('../data/equipment.csv')"
   ]
  },
  {
   "cell_type": "code",
   "execution_count": 4,
   "id": "7d91ac60",
   "metadata": {
    "scrolled": false
   },
   "outputs": [
    {
     "data": {
      "text/html": [
       "<div>\n",
       "<style scoped>\n",
       "    .dataframe tbody tr th:only-of-type {\n",
       "        vertical-align: middle;\n",
       "    }\n",
       "\n",
       "    .dataframe tbody tr th {\n",
       "        vertical-align: top;\n",
       "    }\n",
       "\n",
       "    .dataframe thead th {\n",
       "        text-align: right;\n",
       "    }\n",
       "</style>\n",
       "<table border=\"1\" class=\"dataframe\">\n",
       "  <thead>\n",
       "    <tr style=\"text-align: right;\">\n",
       "      <th></th>\n",
       "      <th>Unnamed: 0</th>\n",
       "      <th>_id</th>\n",
       "      <th>index</th>\n",
       "      <th>name</th>\n",
       "      <th>equipment_category</th>\n",
       "      <th>gear_category</th>\n",
       "      <th>cost</th>\n",
       "      <th>weight</th>\n",
       "      <th>url</th>\n",
       "      <th>desc</th>\n",
       "      <th>tool_category</th>\n",
       "      <th>vehicle_category</th>\n",
       "      <th>quantity</th>\n",
       "      <th>weapon_category</th>\n",
       "      <th>weapon_range</th>\n",
       "      <th>category_range</th>\n",
       "      <th>damage</th>\n",
       "      <th>range</th>\n",
       "      <th>properties</th>\n",
       "      <th>2h_damage</th>\n",
       "      <th>armor_category</th>\n",
       "      <th>armor_class</th>\n",
       "      <th>str_minimum</th>\n",
       "      <th>stealth_disadvantage</th>\n",
       "      <th>contents</th>\n",
       "      <th>speed</th>\n",
       "      <th>capacity</th>\n",
       "      <th>throw_range</th>\n",
       "      <th>special</th>\n",
       "    </tr>\n",
       "  </thead>\n",
       "  <tbody>\n",
       "    <tr>\n",
       "      <th>0</th>\n",
       "      <td>0</td>\n",
       "      <td>5f2329a90b1bb138c5940de2</td>\n",
       "      <td>abacus</td>\n",
       "      <td>Abacus</td>\n",
       "      <td>{'name': 'Adventuring Gear', 'url': '/api/equi...</td>\n",
       "      <td>Standard Gear</td>\n",
       "      <td>{'quantity': 2, 'unit': 'gp'}</td>\n",
       "      <td>2.0</td>\n",
       "      <td>/api/equipment/abacus</td>\n",
       "      <td>NaN</td>\n",
       "      <td>NaN</td>\n",
       "      <td>NaN</td>\n",
       "      <td>NaN</td>\n",
       "      <td>NaN</td>\n",
       "      <td>NaN</td>\n",
       "      <td>NaN</td>\n",
       "      <td>NaN</td>\n",
       "      <td>NaN</td>\n",
       "      <td>NaN</td>\n",
       "      <td>NaN</td>\n",
       "      <td>NaN</td>\n",
       "      <td>NaN</td>\n",
       "      <td>NaN</td>\n",
       "      <td>NaN</td>\n",
       "      <td>NaN</td>\n",
       "      <td>NaN</td>\n",
       "      <td>NaN</td>\n",
       "      <td>NaN</td>\n",
       "      <td>NaN</td>\n",
       "    </tr>\n",
       "    <tr>\n",
       "      <th>1</th>\n",
       "      <td>1</td>\n",
       "      <td>5f2329a90b1bb138c5940de3</td>\n",
       "      <td>acid-vial</td>\n",
       "      <td>Acid (vial)</td>\n",
       "      <td>{'name': 'Adventuring Gear', 'url': '/api/equi...</td>\n",
       "      <td>Standard Gear</td>\n",
       "      <td>{'quantity': 25, 'unit': 'gp'}</td>\n",
       "      <td>1.0</td>\n",
       "      <td>/api/equipment/acid-vial</td>\n",
       "      <td>['As an action, you can splash the contents of...</td>\n",
       "      <td>NaN</td>\n",
       "      <td>NaN</td>\n",
       "      <td>NaN</td>\n",
       "      <td>NaN</td>\n",
       "      <td>NaN</td>\n",
       "      <td>NaN</td>\n",
       "      <td>NaN</td>\n",
       "      <td>NaN</td>\n",
       "      <td>NaN</td>\n",
       "      <td>NaN</td>\n",
       "      <td>NaN</td>\n",
       "      <td>NaN</td>\n",
       "      <td>NaN</td>\n",
       "      <td>NaN</td>\n",
       "      <td>NaN</td>\n",
       "      <td>NaN</td>\n",
       "      <td>NaN</td>\n",
       "      <td>NaN</td>\n",
       "      <td>NaN</td>\n",
       "    </tr>\n",
       "    <tr>\n",
       "      <th>2</th>\n",
       "      <td>2</td>\n",
       "      <td>5f2329a90b1bb138c5940de4</td>\n",
       "      <td>alchemists-fire-flask</td>\n",
       "      <td>Alchemist's fire (flask)</td>\n",
       "      <td>{'name': 'Adventuring Gear', 'url': '/api/equi...</td>\n",
       "      <td>Standard Gear</td>\n",
       "      <td>{'quantity': 50, 'unit': 'gp'}</td>\n",
       "      <td>1.0</td>\n",
       "      <td>/api/equipment/alchemists-fire-flask</td>\n",
       "      <td>['This sticky, adhesive fluid ignites when exp...</td>\n",
       "      <td>NaN</td>\n",
       "      <td>NaN</td>\n",
       "      <td>NaN</td>\n",
       "      <td>NaN</td>\n",
       "      <td>NaN</td>\n",
       "      <td>NaN</td>\n",
       "      <td>NaN</td>\n",
       "      <td>NaN</td>\n",
       "      <td>NaN</td>\n",
       "      <td>NaN</td>\n",
       "      <td>NaN</td>\n",
       "      <td>NaN</td>\n",
       "      <td>NaN</td>\n",
       "      <td>NaN</td>\n",
       "      <td>NaN</td>\n",
       "      <td>NaN</td>\n",
       "      <td>NaN</td>\n",
       "      <td>NaN</td>\n",
       "      <td>NaN</td>\n",
       "    </tr>\n",
       "    <tr>\n",
       "      <th>3</th>\n",
       "      <td>3</td>\n",
       "      <td>5f2329a90b1bb138c5940e51</td>\n",
       "      <td>alchemists-supplies</td>\n",
       "      <td>Alchemist's supplies</td>\n",
       "      <td>{'name': 'Tools', 'url': '/api/equipment-categ...</td>\n",
       "      <td>NaN</td>\n",
       "      <td>{'quantity': 50, 'unit': 'gp'}</td>\n",
       "      <td>8.0</td>\n",
       "      <td>/api/equipment/alchemists-supplies</td>\n",
       "      <td>[\"These special tools include the items needed...</td>\n",
       "      <td>Artisan's Tools</td>\n",
       "      <td>NaN</td>\n",
       "      <td>NaN</td>\n",
       "      <td>NaN</td>\n",
       "      <td>NaN</td>\n",
       "      <td>NaN</td>\n",
       "      <td>NaN</td>\n",
       "      <td>NaN</td>\n",
       "      <td>NaN</td>\n",
       "      <td>NaN</td>\n",
       "      <td>NaN</td>\n",
       "      <td>NaN</td>\n",
       "      <td>NaN</td>\n",
       "      <td>NaN</td>\n",
       "      <td>NaN</td>\n",
       "      <td>NaN</td>\n",
       "      <td>NaN</td>\n",
       "      <td>NaN</td>\n",
       "      <td>NaN</td>\n",
       "    </tr>\n",
       "    <tr>\n",
       "      <th>4</th>\n",
       "      <td>4</td>\n",
       "      <td>5f2329a90b1bb138c5940dea</td>\n",
       "      <td>amulet</td>\n",
       "      <td>Amulet</td>\n",
       "      <td>{'name': 'Adventuring Gear', 'url': '/api/equi...</td>\n",
       "      <td>Holy Symbol</td>\n",
       "      <td>{'quantity': 5, 'unit': 'gp'}</td>\n",
       "      <td>1.0</td>\n",
       "      <td>/api/equipment/amulet</td>\n",
       "      <td>['A holy symbol is a representation of a god o...</td>\n",
       "      <td>NaN</td>\n",
       "      <td>NaN</td>\n",
       "      <td>NaN</td>\n",
       "      <td>NaN</td>\n",
       "      <td>NaN</td>\n",
       "      <td>NaN</td>\n",
       "      <td>NaN</td>\n",
       "      <td>NaN</td>\n",
       "      <td>NaN</td>\n",
       "      <td>NaN</td>\n",
       "      <td>NaN</td>\n",
       "      <td>NaN</td>\n",
       "      <td>NaN</td>\n",
       "      <td>NaN</td>\n",
       "      <td>NaN</td>\n",
       "      <td>NaN</td>\n",
       "      <td>NaN</td>\n",
       "      <td>NaN</td>\n",
       "      <td>NaN</td>\n",
       "    </tr>\n",
       "  </tbody>\n",
       "</table>\n",
       "</div>"
      ],
      "text/plain": [
       "   Unnamed: 0                       _id                  index  \\\n",
       "0           0  5f2329a90b1bb138c5940de2                 abacus   \n",
       "1           1  5f2329a90b1bb138c5940de3              acid-vial   \n",
       "2           2  5f2329a90b1bb138c5940de4  alchemists-fire-flask   \n",
       "3           3  5f2329a90b1bb138c5940e51    alchemists-supplies   \n",
       "4           4  5f2329a90b1bb138c5940dea                 amulet   \n",
       "\n",
       "                       name  \\\n",
       "0                    Abacus   \n",
       "1               Acid (vial)   \n",
       "2  Alchemist's fire (flask)   \n",
       "3      Alchemist's supplies   \n",
       "4                    Amulet   \n",
       "\n",
       "                                  equipment_category  gear_category  \\\n",
       "0  {'name': 'Adventuring Gear', 'url': '/api/equi...  Standard Gear   \n",
       "1  {'name': 'Adventuring Gear', 'url': '/api/equi...  Standard Gear   \n",
       "2  {'name': 'Adventuring Gear', 'url': '/api/equi...  Standard Gear   \n",
       "3  {'name': 'Tools', 'url': '/api/equipment-categ...            NaN   \n",
       "4  {'name': 'Adventuring Gear', 'url': '/api/equi...    Holy Symbol   \n",
       "\n",
       "                             cost  weight  \\\n",
       "0   {'quantity': 2, 'unit': 'gp'}     2.0   \n",
       "1  {'quantity': 25, 'unit': 'gp'}     1.0   \n",
       "2  {'quantity': 50, 'unit': 'gp'}     1.0   \n",
       "3  {'quantity': 50, 'unit': 'gp'}     8.0   \n",
       "4   {'quantity': 5, 'unit': 'gp'}     1.0   \n",
       "\n",
       "                                    url  \\\n",
       "0                 /api/equipment/abacus   \n",
       "1              /api/equipment/acid-vial   \n",
       "2  /api/equipment/alchemists-fire-flask   \n",
       "3    /api/equipment/alchemists-supplies   \n",
       "4                 /api/equipment/amulet   \n",
       "\n",
       "                                                desc    tool_category  \\\n",
       "0                                                NaN              NaN   \n",
       "1  ['As an action, you can splash the contents of...              NaN   \n",
       "2  ['This sticky, adhesive fluid ignites when exp...              NaN   \n",
       "3  [\"These special tools include the items needed...  Artisan's Tools   \n",
       "4  ['A holy symbol is a representation of a god o...              NaN   \n",
       "\n",
       "  vehicle_category  quantity weapon_category weapon_range category_range  \\\n",
       "0              NaN       NaN             NaN          NaN            NaN   \n",
       "1              NaN       NaN             NaN          NaN            NaN   \n",
       "2              NaN       NaN             NaN          NaN            NaN   \n",
       "3              NaN       NaN             NaN          NaN            NaN   \n",
       "4              NaN       NaN             NaN          NaN            NaN   \n",
       "\n",
       "  damage range properties 2h_damage armor_category armor_class  str_minimum  \\\n",
       "0    NaN   NaN        NaN       NaN            NaN         NaN          NaN   \n",
       "1    NaN   NaN        NaN       NaN            NaN         NaN          NaN   \n",
       "2    NaN   NaN        NaN       NaN            NaN         NaN          NaN   \n",
       "3    NaN   NaN        NaN       NaN            NaN         NaN          NaN   \n",
       "4    NaN   NaN        NaN       NaN            NaN         NaN          NaN   \n",
       "\n",
       "  stealth_disadvantage contents speed capacity throw_range special  \n",
       "0                  NaN      NaN   NaN      NaN         NaN     NaN  \n",
       "1                  NaN      NaN   NaN      NaN         NaN     NaN  \n",
       "2                  NaN      NaN   NaN      NaN         NaN     NaN  \n",
       "3                  NaN      NaN   NaN      NaN         NaN     NaN  \n",
       "4                  NaN      NaN   NaN      NaN         NaN     NaN  "
      ]
     },
     "execution_count": 4,
     "metadata": {},
     "output_type": "execute_result"
    }
   ],
   "source": [
    "equip.head()"
   ]
  },
  {
   "cell_type": "markdown",
   "id": "391be892",
   "metadata": {},
   "source": [
    "# Equipment cleaning"
   ]
  },
  {
   "cell_type": "markdown",
   "id": "ebf6e28e",
   "metadata": {},
   "source": [
    "## Equipment_category "
   ]
  },
  {
   "cell_type": "code",
   "execution_count": 5,
   "id": "f9b301f3",
   "metadata": {},
   "outputs": [
    {
     "data": {
      "text/plain": [
       "\"{'name': 'Adventuring Gear', 'url': '/api/equipment-categories/adventuring-gear'}\""
      ]
     },
     "execution_count": 5,
     "metadata": {},
     "output_type": "execute_result"
    }
   ],
   "source": [
    "equip.equipment_category[0]"
   ]
  },
  {
   "cell_type": "code",
   "execution_count": 6,
   "id": "350a8c63",
   "metadata": {},
   "outputs": [],
   "source": [
    "a = [json.loads(i.replace(\"'\", '\"')) for i in equip.equipment_category]"
   ]
  },
  {
   "cell_type": "code",
   "execution_count": 7,
   "id": "6b6873ea",
   "metadata": {},
   "outputs": [],
   "source": [
    "abc=[]\n",
    "\n",
    "for i in a:\n",
    "    abc.append(i['name'])\n",
    "\n",
    "equip['category']= abc"
   ]
  },
  {
   "cell_type": "markdown",
   "id": "19320a08",
   "metadata": {},
   "source": [
    "## Cost"
   ]
  },
  {
   "cell_type": "code",
   "execution_count": 8,
   "id": "6b22c98d",
   "metadata": {},
   "outputs": [
    {
     "data": {
      "text/plain": [
       "\"{'quantity': 2, 'unit': 'gp'}\""
      ]
     },
     "execution_count": 8,
     "metadata": {},
     "output_type": "execute_result"
    }
   ],
   "source": [
    "equip.cost[0]"
   ]
  },
  {
   "cell_type": "code",
   "execution_count": 9,
   "id": "c6aabcdb",
   "metadata": {},
   "outputs": [],
   "source": [
    "a = [json.loads(i.replace(\"'\", '\"')) for i in equip.cost]"
   ]
  },
  {
   "cell_type": "code",
   "execution_count": 10,
   "id": "eb290762",
   "metadata": {},
   "outputs": [],
   "source": [
    "abc=[]\n",
    "\n",
    "for i in a:\n",
    "    abc.append(str(i['quantity'])+' '+i['unit'])\n",
    "\n",
    "equip = equip.drop('cost', axis=1)\n",
    "equip['cost']=abc"
   ]
  },
  {
   "cell_type": "markdown",
   "id": "aa276cb5",
   "metadata": {},
   "source": [
    "## Description"
   ]
  },
  {
   "cell_type": "code",
   "execution_count": 11,
   "id": "70a19ef7",
   "metadata": {},
   "outputs": [
    {
     "data": {
      "text/plain": [
       "\"['As an action, you can splash the contents of this vial onto a creature within 5 feet of you or throw the vial up to 20 feet, shattering it on impact. In either case, make a ranged attack against a creature or object, treating the acid as an improvised weapon.', 'On a hit, the target takes 2d6 acid damage.']\""
      ]
     },
     "execution_count": 11,
     "metadata": {},
     "output_type": "execute_result"
    }
   ],
   "source": [
    "equip.desc[1]"
   ]
  },
  {
   "cell_type": "code",
   "execution_count": 12,
   "id": "c1a3d577",
   "metadata": {},
   "outputs": [],
   "source": [
    "equip.desc.fillna('None', inplace=True)"
   ]
  },
  {
   "cell_type": "code",
   "execution_count": 13,
   "id": "0d97cb75",
   "metadata": {},
   "outputs": [],
   "source": [
    "desc=[]\n",
    "\n",
    "for i in equip.desc:\n",
    "    if len(i) == 4:\n",
    "        desc.append('None')\n",
    "    else:\n",
    "        i=i.replace(\"[\",\"\").replace(\"]\",\"\").replace(\"'\",\"\").replace('\"',\"\")\n",
    "        desc.append(i)\n",
    "\n",
    "equip = equip.drop('desc', axis=1)\n",
    "equip['desc']=desc"
   ]
  },
  {
   "cell_type": "markdown",
   "id": "04c05d05",
   "metadata": {},
   "source": [
    "## Damage "
   ]
  },
  {
   "cell_type": "code",
   "execution_count": 14,
   "id": "d3a36967",
   "metadata": {},
   "outputs": [],
   "source": [
    "equip.damage.fillna('None', inplace=True)"
   ]
  },
  {
   "cell_type": "code",
   "execution_count": 15,
   "id": "48369e5b",
   "metadata": {},
   "outputs": [],
   "source": [
    "dam=[]\n",
    "damt=[]\n",
    "for i in equip.damage:\n",
    "    if len(i) ==4:\n",
    "        dam.append('None')\n",
    "        damt.append('None')\n",
    "    else:\n",
    "        i=json.loads(i.replace(\"'\", '\"'))\n",
    "        dam.append(i['damage_dice'])\n",
    "        damt.append(i['damage_type']['name'])\n",
    "\n",
    "equip = equip.drop('damage', axis=1)\n",
    "equip['damage']=dam\n",
    "equip['damage_type']=damt"
   ]
  },
  {
   "cell_type": "markdown",
   "id": "0e05aee3",
   "metadata": {},
   "source": [
    "## Range"
   ]
  },
  {
   "cell_type": "code",
   "execution_count": 16,
   "id": "c0118804",
   "metadata": {},
   "outputs": [],
   "source": [
    "equip.range.fillna('None', inplace=True)"
   ]
  },
  {
   "cell_type": "code",
   "execution_count": 17,
   "id": "02ba007f",
   "metadata": {},
   "outputs": [],
   "source": [
    "import ast\n",
    "rang=[]\n",
    "\n",
    "for i in equip.range:\n",
    "    \n",
    "    if i == 'None':\n",
    "        rang.append('None')\n",
    "\n",
    "    else:\n",
    "        i=ast.literal_eval(i.replace(\"'\", '\"'))\n",
    "        rang.append('Range: '+str(i['normal'])+';'+' Long: '+str(i['long']))\n",
    "        \n",
    "equip = equip.drop('range', axis=1)\n",
    "equip['range']=rang"
   ]
  },
  {
   "cell_type": "markdown",
   "id": "ea7bfd4e",
   "metadata": {},
   "source": [
    "## Properties "
   ]
  },
  {
   "cell_type": "code",
   "execution_count": 18,
   "id": "637ecf41",
   "metadata": {},
   "outputs": [
    {
     "data": {
      "text/plain": [
       "\"[{'name': 'Ammunition', 'url': '/api/weapon-properties/ammunition'}, {'name': 'Loading', 'url': '/api/weapon-properties/loading'}]\""
      ]
     },
     "execution_count": 18,
     "metadata": {},
     "output_type": "execute_result"
    }
   ],
   "source": [
    "equip.properties[31]"
   ]
  },
  {
   "cell_type": "code",
   "execution_count": 19,
   "id": "a85475d8",
   "metadata": {},
   "outputs": [],
   "source": [
    "equip.properties.fillna('None', inplace=True)"
   ]
  },
  {
   "cell_type": "code",
   "execution_count": 20,
   "id": "5dc7d174",
   "metadata": {},
   "outputs": [],
   "source": [
    "prop=[]\n",
    "prop2=[]\n",
    "\n",
    "for i in equip.properties:\n",
    "   \n",
    "    if (len(i)) == 4 or str(i) == \"[]\":\n",
    "        prop2.append('None')\n",
    "\n",
    "    else:\n",
    "        i=json.loads(i.replace(\"'\", '\"'))\n",
    "        for j in i:\n",
    "            prop.append(j['name'])\n",
    "            if len(prop)==len(i):\n",
    "                prop2.append(prop)\n",
    "                prop=[]        \n",
    "        \n",
    "prop3=[]\n",
    "\n",
    "for i in prop2:\n",
    "    i=str(i)\n",
    "    i=i.replace(\"[\",\"\").replace(\"]\",\"\").replace(\"'\",\"\")\n",
    "    prop3.append(i)\n",
    "\n",
    "equip = equip.drop('properties', axis=1)\n",
    "equip['properties']=prop3"
   ]
  },
  {
   "cell_type": "markdown",
   "id": "85359595",
   "metadata": {},
   "source": [
    "## Armor class"
   ]
  },
  {
   "cell_type": "code",
   "execution_count": 21,
   "id": "ef217b39",
   "metadata": {},
   "outputs": [
    {
     "data": {
      "text/plain": [
       "{'base': 14, 'dex_bonus': True, 'max_bonus': 2}        2\n",
       "{'base': 11, 'dex_bonus': True, 'max_bonus': None}     2\n",
       "{'base': 16, 'dex_bonus': False, 'max_bonus': None}    1\n",
       "{'base': 13, 'dex_bonus': True, 'max_bonus': 2}        1\n",
       "{'base': 15, 'dex_bonus': True, 'max_bonus': 2}        1\n",
       "{'base': 12, 'dex_bonus': True, 'max_bonus': 2}        1\n",
       "{'base': 18, 'dex_bonus': False, 'max_bonus': None}    1\n",
       "{'base': 14, 'dex_bonus': False, 'max_bonus': None}    1\n",
       "{'base': 2, 'dex_bonus': False, 'max_bonus': None}     1\n",
       "{'base': 17, 'dex_bonus': False, 'max_bonus': None}    1\n",
       "{'base': 12, 'dex_bonus': True, 'max_bonus': None}     1\n",
       "Name: armor_class, dtype: int64"
      ]
     },
     "execution_count": 21,
     "metadata": {},
     "output_type": "execute_result"
    }
   ],
   "source": [
    "equip.armor_class.value_counts()"
   ]
  },
  {
   "cell_type": "code",
   "execution_count": 22,
   "id": "ec47bf9e",
   "metadata": {},
   "outputs": [],
   "source": [
    "equip.armor_class.fillna('None', inplace=True)"
   ]
  },
  {
   "cell_type": "code",
   "execution_count": 23,
   "id": "6c7410b9",
   "metadata": {},
   "outputs": [],
   "source": [
    "import ast\n",
    "clas=[]\n",
    "\n",
    "for i in equip.armor_class:\n",
    "    \n",
    "    if i == 'None':\n",
    "        clas.append('None')\n",
    "\n",
    "    else:\n",
    "        i=ast.literal_eval(i.replace(\"'\", '\"'))\n",
    "        clas.append('Base: '+str(i['base'])+';'+' Max bonus: '+str(i['max_bonus']))\n",
    "\n",
    "equip = equip.drop('armor_class', axis=1)\n",
    "equip['armor_class']=clas"
   ]
  },
  {
   "cell_type": "markdown",
   "id": "e4078164",
   "metadata": {},
   "source": [
    "## Speed "
   ]
  },
  {
   "cell_type": "code",
   "execution_count": 24,
   "id": "4ed94562",
   "metadata": {},
   "outputs": [
    {
     "data": {
      "text/plain": [
       "{'quantity': 40, 'unit': 'ft/round'}    6\n",
       "{'quantity': 60, 'unit': 'ft/round'}    2\n",
       "{'quantity': 50, 'unit': 'ft/round'}    1\n",
       "{'quantity': 4, 'unit': 'mph'}          1\n",
       "{'quantity': 1, 'unit': 'mph'}          1\n",
       "{'quantity': 3, 'unit': 'mph'}          1\n",
       "{'quantity': 1.5, 'unit': 'mph'}        1\n",
       "{'quantity': 2, 'unit': 'mph'}          1\n",
       "{'quantity': 2.5, 'unit': 'mph'}        1\n",
       "Name: speed, dtype: int64"
      ]
     },
     "execution_count": 24,
     "metadata": {},
     "output_type": "execute_result"
    }
   ],
   "source": [
    "equip.speed.value_counts()"
   ]
  },
  {
   "cell_type": "code",
   "execution_count": 25,
   "id": "25c6b923",
   "metadata": {},
   "outputs": [],
   "source": [
    "equip.speed.fillna('None', inplace=True)"
   ]
  },
  {
   "cell_type": "code",
   "execution_count": 26,
   "id": "c64f4551",
   "metadata": {},
   "outputs": [],
   "source": [
    "import ast\n",
    "spe=[]\n",
    "\n",
    "for i in equip.speed:\n",
    "    \n",
    "    if i == 'None':\n",
    "        spe.append('None')\n",
    "\n",
    "    else:\n",
    "        i=ast.literal_eval(i.replace(\"'\", '\"'))\n",
    "        spe.append(str(i['quantity'])+' '+(i['unit']))\n",
    "\n",
    "equip = equip.drop('speed', axis=1)\n",
    "equip['speed']=spe"
   ]
  },
  {
   "cell_type": "markdown",
   "id": "7e62f1b4",
   "metadata": {},
   "source": [
    "## Throw range "
   ]
  },
  {
   "cell_type": "code",
   "execution_count": 27,
   "id": "b80abd1c",
   "metadata": {},
   "outputs": [
    {
     "data": {
      "text/plain": [
       "{'normal': 20, 'long': 60}     6\n",
       "{'normal': 30, 'long': 120}    1\n",
       "{'normal': 5, 'long': 15}      1\n",
       "Name: throw_range, dtype: int64"
      ]
     },
     "execution_count": 27,
     "metadata": {},
     "output_type": "execute_result"
    }
   ],
   "source": [
    "equip.throw_range.value_counts()"
   ]
  },
  {
   "cell_type": "code",
   "execution_count": 28,
   "id": "a12df95b",
   "metadata": {},
   "outputs": [],
   "source": [
    "equip.throw_range.fillna('None', inplace=True)"
   ]
  },
  {
   "cell_type": "code",
   "execution_count": 29,
   "id": "b9005524",
   "metadata": {},
   "outputs": [],
   "source": [
    "import ast\n",
    "ran=[]\n",
    "\n",
    "for i in equip.throw_range:\n",
    "    \n",
    "    if i == 'None':\n",
    "        ran.append('None')\n",
    "\n",
    "    else:\n",
    "        i=ast.literal_eval(i.replace(\"'\", '\"'))\n",
    "        ran.append('Range: '+str(i['normal'])+';'+' Long: '+str(i['long']))\n",
    "\n",
    "equip = equip.drop('throw_range', axis=1)\n",
    "equip['throw_range']=ran"
   ]
  },
  {
   "cell_type": "markdown",
   "id": "eeae5398",
   "metadata": {},
   "source": [
    "# Nulos"
   ]
  },
  {
   "cell_type": "code",
   "execution_count": 30,
   "id": "4759e2a9",
   "metadata": {},
   "outputs": [],
   "source": [
    "equip.tool_category.fillna('None', inplace=True)\n",
    "equip.vehicle_category.fillna('None', inplace=True)\n",
    "equip.weapon_category.fillna('None', inplace=True)\n",
    "equip.weapon_range.fillna('None', inplace=True)\n",
    "equip.category_range.fillna('None', inplace=True)\n",
    "equip.armor_category.fillna('None', inplace=True)\n",
    "equip.capacity.fillna('None', inplace=True)"
   ]
  },
  {
   "cell_type": "markdown",
   "id": "d3fbad34",
   "metadata": {},
   "source": [
    "## Eliminación de columnas / creación columnas / cambio nombre"
   ]
  },
  {
   "cell_type": "markdown",
   "id": "dc95410c",
   "metadata": {},
   "source": [
    "En base a la información aportada y que sea relevante, se eliminan/crean:"
   ]
  },
  {
   "cell_type": "code",
   "execution_count": 31,
   "id": "4aa13de7",
   "metadata": {},
   "outputs": [],
   "source": [
    "equip['id_equipment']=[i for i in range(1,len(equip)+1)]\n",
    "equip = equip.drop(equip.columns[0], axis=1)\n",
    "equip = equip.drop('special', axis=1)\n",
    "equip = equip.drop('stealth_disadvantage', axis=1)\n",
    "equip = equip.drop('str_minimum', axis=1)\n",
    "equip = equip.drop('2h_damage', axis=1)\n",
    "equip = equip.drop('quantity', axis=1)\n",
    "equip = equip.drop('url', axis=1)\n",
    "equip = equip.drop('index', axis=1)\n",
    "equip = equip.drop('_id', axis=1)\n",
    "equip = equip.drop('equipment_category', axis=1)\n",
    "equip = equip.drop('contents', axis=1)"
   ]
  },
  {
   "cell_type": "code",
   "execution_count": 36,
   "id": "9a983542",
   "metadata": {},
   "outputs": [],
   "source": [
    "equip = equip[['id_equipment', 'name', 'desc', 'category', 'gear_category','cost', 'weight', 'speed', 'range', 'capacity', 'properties', 'damage', 'damage_type', 'category_range', 'throw_range', 'weapon_category', 'weapon_range', 'armor_category', 'armor_class' , 'tool_category', 'vehicle_category' ]]"
   ]
  },
  {
   "cell_type": "code",
   "execution_count": 37,
   "id": "3e057803",
   "metadata": {},
   "outputs": [
    {
     "data": {
      "text/html": [
       "<div>\n",
       "<style scoped>\n",
       "    .dataframe tbody tr th:only-of-type {\n",
       "        vertical-align: middle;\n",
       "    }\n",
       "\n",
       "    .dataframe tbody tr th {\n",
       "        vertical-align: top;\n",
       "    }\n",
       "\n",
       "    .dataframe thead th {\n",
       "        text-align: right;\n",
       "    }\n",
       "</style>\n",
       "<table border=\"1\" class=\"dataframe\">\n",
       "  <thead>\n",
       "    <tr style=\"text-align: right;\">\n",
       "      <th></th>\n",
       "      <th>id_equipment</th>\n",
       "      <th>name</th>\n",
       "      <th>desc</th>\n",
       "      <th>category</th>\n",
       "      <th>gear_category</th>\n",
       "      <th>cost</th>\n",
       "      <th>weight</th>\n",
       "      <th>speed</th>\n",
       "      <th>range</th>\n",
       "      <th>capacity</th>\n",
       "      <th>properties</th>\n",
       "      <th>damage</th>\n",
       "      <th>damage_type</th>\n",
       "      <th>category_range</th>\n",
       "      <th>throw_range</th>\n",
       "      <th>weapon_category</th>\n",
       "      <th>weapon_range</th>\n",
       "      <th>armor_category</th>\n",
       "      <th>armor_class</th>\n",
       "      <th>tool_category</th>\n",
       "      <th>vehicle_category</th>\n",
       "    </tr>\n",
       "  </thead>\n",
       "  <tbody>\n",
       "    <tr>\n",
       "      <th>0</th>\n",
       "      <td>1</td>\n",
       "      <td>Abacus</td>\n",
       "      <td>None</td>\n",
       "      <td>Adventuring Gear</td>\n",
       "      <td>Standard Gear</td>\n",
       "      <td>2 gp</td>\n",
       "      <td>2.0</td>\n",
       "      <td>None</td>\n",
       "      <td>None</td>\n",
       "      <td>None</td>\n",
       "      <td>None</td>\n",
       "      <td>None</td>\n",
       "      <td>None</td>\n",
       "      <td>None</td>\n",
       "      <td>None</td>\n",
       "      <td>None</td>\n",
       "      <td>None</td>\n",
       "      <td>None</td>\n",
       "      <td>None</td>\n",
       "      <td>None</td>\n",
       "      <td>None</td>\n",
       "    </tr>\n",
       "    <tr>\n",
       "      <th>1</th>\n",
       "      <td>2</td>\n",
       "      <td>Acid (vial)</td>\n",
       "      <td>As an action, you can splash the contents of t...</td>\n",
       "      <td>Adventuring Gear</td>\n",
       "      <td>Standard Gear</td>\n",
       "      <td>25 gp</td>\n",
       "      <td>1.0</td>\n",
       "      <td>None</td>\n",
       "      <td>None</td>\n",
       "      <td>None</td>\n",
       "      <td>None</td>\n",
       "      <td>None</td>\n",
       "      <td>None</td>\n",
       "      <td>None</td>\n",
       "      <td>None</td>\n",
       "      <td>None</td>\n",
       "      <td>None</td>\n",
       "      <td>None</td>\n",
       "      <td>None</td>\n",
       "      <td>None</td>\n",
       "      <td>None</td>\n",
       "    </tr>\n",
       "    <tr>\n",
       "      <th>2</th>\n",
       "      <td>3</td>\n",
       "      <td>Alchemist's fire (flask)</td>\n",
       "      <td>This sticky, adhesive fluid ignites when expos...</td>\n",
       "      <td>Adventuring Gear</td>\n",
       "      <td>Standard Gear</td>\n",
       "      <td>50 gp</td>\n",
       "      <td>1.0</td>\n",
       "      <td>None</td>\n",
       "      <td>None</td>\n",
       "      <td>None</td>\n",
       "      <td>None</td>\n",
       "      <td>None</td>\n",
       "      <td>None</td>\n",
       "      <td>None</td>\n",
       "      <td>None</td>\n",
       "      <td>None</td>\n",
       "      <td>None</td>\n",
       "      <td>None</td>\n",
       "      <td>None</td>\n",
       "      <td>None</td>\n",
       "      <td>None</td>\n",
       "    </tr>\n",
       "    <tr>\n",
       "      <th>3</th>\n",
       "      <td>4</td>\n",
       "      <td>Alchemist's supplies</td>\n",
       "      <td>These special tools include the items needed t...</td>\n",
       "      <td>Tools</td>\n",
       "      <td>NaN</td>\n",
       "      <td>50 gp</td>\n",
       "      <td>8.0</td>\n",
       "      <td>None</td>\n",
       "      <td>None</td>\n",
       "      <td>None</td>\n",
       "      <td>None</td>\n",
       "      <td>None</td>\n",
       "      <td>None</td>\n",
       "      <td>None</td>\n",
       "      <td>None</td>\n",
       "      <td>None</td>\n",
       "      <td>None</td>\n",
       "      <td>None</td>\n",
       "      <td>None</td>\n",
       "      <td>Artisan's Tools</td>\n",
       "      <td>None</td>\n",
       "    </tr>\n",
       "    <tr>\n",
       "      <th>4</th>\n",
       "      <td>5</td>\n",
       "      <td>Amulet</td>\n",
       "      <td>A holy symbol is a representation of a god or ...</td>\n",
       "      <td>Adventuring Gear</td>\n",
       "      <td>Holy Symbol</td>\n",
       "      <td>5 gp</td>\n",
       "      <td>1.0</td>\n",
       "      <td>None</td>\n",
       "      <td>None</td>\n",
       "      <td>None</td>\n",
       "      <td>None</td>\n",
       "      <td>None</td>\n",
       "      <td>None</td>\n",
       "      <td>None</td>\n",
       "      <td>None</td>\n",
       "      <td>None</td>\n",
       "      <td>None</td>\n",
       "      <td>None</td>\n",
       "      <td>None</td>\n",
       "      <td>None</td>\n",
       "      <td>None</td>\n",
       "    </tr>\n",
       "  </tbody>\n",
       "</table>\n",
       "</div>"
      ],
      "text/plain": [
       "   id_equipment                      name  \\\n",
       "0             1                    Abacus   \n",
       "1             2               Acid (vial)   \n",
       "2             3  Alchemist's fire (flask)   \n",
       "3             4      Alchemist's supplies   \n",
       "4             5                    Amulet   \n",
       "\n",
       "                                                desc          category  \\\n",
       "0                                               None  Adventuring Gear   \n",
       "1  As an action, you can splash the contents of t...  Adventuring Gear   \n",
       "2  This sticky, adhesive fluid ignites when expos...  Adventuring Gear   \n",
       "3  These special tools include the items needed t...             Tools   \n",
       "4  A holy symbol is a representation of a god or ...  Adventuring Gear   \n",
       "\n",
       "   gear_category   cost  weight speed range capacity properties damage  \\\n",
       "0  Standard Gear   2 gp     2.0  None  None     None       None   None   \n",
       "1  Standard Gear  25 gp     1.0  None  None     None       None   None   \n",
       "2  Standard Gear  50 gp     1.0  None  None     None       None   None   \n",
       "3            NaN  50 gp     8.0  None  None     None       None   None   \n",
       "4    Holy Symbol   5 gp     1.0  None  None     None       None   None   \n",
       "\n",
       "  damage_type category_range throw_range weapon_category weapon_range  \\\n",
       "0        None           None        None            None         None   \n",
       "1        None           None        None            None         None   \n",
       "2        None           None        None            None         None   \n",
       "3        None           None        None            None         None   \n",
       "4        None           None        None            None         None   \n",
       "\n",
       "  armor_category armor_class    tool_category vehicle_category  \n",
       "0           None        None             None             None  \n",
       "1           None        None             None             None  \n",
       "2           None        None             None             None  \n",
       "3           None        None  Artisan's Tools             None  \n",
       "4           None        None             None             None  "
      ]
     },
     "execution_count": 37,
     "metadata": {},
     "output_type": "execute_result"
    }
   ],
   "source": [
    "equip.head()"
   ]
  },
  {
   "cell_type": "markdown",
   "id": "e1c49a0a",
   "metadata": {},
   "source": [
    "## Exportación "
   ]
  },
  {
   "cell_type": "code",
   "execution_count": 38,
   "id": "bbb610ab",
   "metadata": {},
   "outputs": [],
   "source": [
    "equip.to_csv('../data/clean/cl_equip.csv', index=False)"
   ]
  },
  {
   "cell_type": "markdown",
   "id": "9c3d3cce",
   "metadata": {},
   "source": [
    "Finalmente, esta tabla será informativa ya que no puede relacionarse directamente con el resto de tablas."
   ]
  }
 ],
 "metadata": {
  "kernelspec": {
   "display_name": "Clase",
   "language": "python",
   "name": "clase"
  },
  "language_info": {
   "codemirror_mode": {
    "name": "ipython",
    "version": 3
   },
   "file_extension": ".py",
   "mimetype": "text/x-python",
   "name": "python",
   "nbconvert_exporter": "python",
   "pygments_lexer": "ipython3",
   "version": "3.8.13"
  }
 },
 "nbformat": 4,
 "nbformat_minor": 5
}

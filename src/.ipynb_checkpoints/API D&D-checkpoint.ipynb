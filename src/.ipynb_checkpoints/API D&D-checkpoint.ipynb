{
 "cells": [
  {
   "cell_type": "code",
   "execution_count": 1,
   "id": "4d884da4",
   "metadata": {},
   "outputs": [],
   "source": [
    "import requests as req\n",
    "\n",
    "import pandas as pd\n",
    "pd.set_option('display.max_columns', None)\n",
    "\n",
    "import numpy as np\n",
    "\n",
    "import warnings\n",
    "warnings.filterwarnings('ignore')\n",
    "\n",
    "import json\n",
    "from pandas.io.json import json_normalize"
   ]
  },
  {
   "cell_type": "code",
   "execution_count": 2,
   "id": "59dc8eff",
   "metadata": {},
   "outputs": [],
   "source": [
    "url='https://www.dnd5eapi.co/docs/#overview'"
   ]
  },
  {
   "cell_type": "code",
   "execution_count": 3,
   "id": "60bcd15f",
   "metadata": {},
   "outputs": [
    {
     "data": {
      "text/plain": [
       "<Response [200]>"
      ]
     },
     "execution_count": 3,
     "metadata": {},
     "output_type": "execute_result"
    }
   ],
   "source": [
    "req.get(url)"
   ]
  },
  {
   "cell_type": "markdown",
   "id": "4d20a236",
   "metadata": {},
   "source": [
    "## Character data "
   ]
  },
  {
   "cell_type": "markdown",
   "id": "9554d620",
   "metadata": {},
   "source": [
    "Hay seis parámetros que adquirir: Carisma (CHA, charisma), Constitución (CON, constitution), Destreza (DEX, dexterity), Inteligencia (INT, intelligence), Fuerza (STR, strength) y Sabiduría (WIS, wisdom). Se importa en base a las respectivas APIS. Es #mejorable que podría realizarse la búsqueda del propio enlace en el API, pero dada la cantidad de información y limpieza que requería, se ha optado por coger la URL directamente."
   ]
  },
  {
   "cell_type": "markdown",
   "id": "f0d634ce",
   "metadata": {},
   "source": [
    "### Constitución"
   ]
  },
  {
   "cell_type": "code",
   "execution_count": 4,
   "id": "6efc8197",
   "metadata": {},
   "outputs": [],
   "source": [
    "url='https://www.dnd5eapi.co/api/ability-scores/con'"
   ]
  },
  {
   "cell_type": "code",
   "execution_count": 5,
   "id": "a32d5098",
   "metadata": {},
   "outputs": [],
   "source": [
    "con=req.get(url)"
   ]
  },
  {
   "cell_type": "code",
   "execution_count": 6,
   "id": "0f2bdf4d",
   "metadata": {},
   "outputs": [],
   "source": [
    "con=con.json()"
   ]
  },
  {
   "cell_type": "code",
   "execution_count": 7,
   "id": "c2b18067",
   "metadata": {},
   "outputs": [
    {
     "data": {
      "text/plain": [
       "{'index': 'con',\n",
       " 'name': 'CON',\n",
       " 'full_name': 'Constitution',\n",
       " 'desc': ['Constitution measures health, stamina, and vital force.',\n",
       "  'Constitution checks are uncommon, and no skills apply to Constitution checks, because the endurance this ability represents is largely passive rather than involving a specific effort on the part of a character or monster.'],\n",
       " 'skills': [],\n",
       " 'url': '/api/ability-scores/con'}"
      ]
     },
     "execution_count": 7,
     "metadata": {},
     "output_type": "execute_result"
    }
   ],
   "source": [
    "con"
   ]
  },
  {
   "cell_type": "code",
   "execution_count": 8,
   "id": "2b25428d",
   "metadata": {},
   "outputs": [],
   "source": [
    "con=[1, con['full_name'], con['name'], str(con['desc']).replace(\"[\",\"\").replace(\"]\",\"\").replace(\"'\",\"\"), con['skills']]"
   ]
  },
  {
   "cell_type": "code",
   "execution_count": 9,
   "id": "9648c5c8",
   "metadata": {},
   "outputs": [
    {
     "data": {
      "text/plain": [
       "[1,\n",
       " 'Constitution',\n",
       " 'CON',\n",
       " 'Constitution measures health, stamina, and vital force., Constitution checks are uncommon, and no skills apply to Constitution checks, because the endurance this ability represents is largely passive rather than involving a specific effort on the part of a character or monster.',\n",
       " []]"
      ]
     },
     "execution_count": 9,
     "metadata": {},
     "output_type": "execute_result"
    }
   ],
   "source": [
    "con"
   ]
  },
  {
   "cell_type": "markdown",
   "id": "6d7914b3",
   "metadata": {},
   "source": [
    "### Carisma"
   ]
  },
  {
   "cell_type": "code",
   "execution_count": 10,
   "id": "18396822",
   "metadata": {},
   "outputs": [],
   "source": [
    "url=\"https://www.dnd5eapi.co/api/ability-scores/cha\""
   ]
  },
  {
   "cell_type": "code",
   "execution_count": 11,
   "id": "687a22af",
   "metadata": {},
   "outputs": [],
   "source": [
    "car=req.get(url)"
   ]
  },
  {
   "cell_type": "code",
   "execution_count": 12,
   "id": "6ff01f01",
   "metadata": {},
   "outputs": [],
   "source": [
    "car=car.json()"
   ]
  },
  {
   "cell_type": "code",
   "execution_count": 13,
   "id": "04025a61",
   "metadata": {},
   "outputs": [
    {
     "data": {
      "text/plain": [
       "{'index': 'cha',\n",
       " 'name': 'CHA',\n",
       " 'full_name': 'Charisma',\n",
       " 'desc': ['Charisma measures your ability to interact effectively with others. It includes such factors as confidence and eloquence, and it can represent a charming or commanding personality.',\n",
       "  'A Charisma check might arise when you try to influence or entertain others, when you try to make an impression or tell a convincing lie, or when you are navigating a tricky social situation. The Deception, Intimidation, Performance, and Persuasion skills reflect aptitude in certain kinds of Charisma checks.'],\n",
       " 'skills': [{'name': 'Deception',\n",
       "   'index': 'deception',\n",
       "   'url': '/api/skills/deception'},\n",
       "  {'name': 'Intimidation',\n",
       "   'index': 'intimidation',\n",
       "   'url': '/api/skills/intimidation'},\n",
       "  {'name': 'Performance',\n",
       "   'index': 'performance',\n",
       "   'url': '/api/skills/performance'},\n",
       "  {'name': 'Persuasion',\n",
       "   'index': 'persuasion',\n",
       "   'url': '/api/skills/persuasion'}],\n",
       " 'url': '/api/ability-scores/cha'}"
      ]
     },
     "execution_count": 13,
     "metadata": {},
     "output_type": "execute_result"
    }
   ],
   "source": [
    "car"
   ]
  },
  {
   "cell_type": "code",
   "execution_count": 14,
   "id": "f0eb0b8b",
   "metadata": {},
   "outputs": [],
   "source": [
    "car=[2, car['full_name'], car['name'], str(car['desc']).replace(\"[\",\"\").replace(\"]\",\"\").replace(\"'\",\"\"), str([e['name'] for e in car['skills']]).replace(\"[\",\"\").replace(\"]\",\"\").replace(\"'\",\"\")]"
   ]
  },
  {
   "cell_type": "code",
   "execution_count": 15,
   "id": "1d9c8176",
   "metadata": {},
   "outputs": [
    {
     "data": {
      "text/plain": [
       "[2,\n",
       " 'Charisma',\n",
       " 'CHA',\n",
       " 'Charisma measures your ability to interact effectively with others. It includes such factors as confidence and eloquence, and it can represent a charming or commanding personality., A Charisma check might arise when you try to influence or entertain others, when you try to make an impression or tell a convincing lie, or when you are navigating a tricky social situation. The Deception, Intimidation, Performance, and Persuasion skills reflect aptitude in certain kinds of Charisma checks.',\n",
       " 'Deception, Intimidation, Performance, Persuasion']"
      ]
     },
     "execution_count": 15,
     "metadata": {},
     "output_type": "execute_result"
    }
   ],
   "source": [
    "car\n"
   ]
  },
  {
   "cell_type": "markdown",
   "id": "6a2da039",
   "metadata": {},
   "source": [
    "## Destreza "
   ]
  },
  {
   "cell_type": "code",
   "execution_count": 16,
   "id": "066d12c7",
   "metadata": {},
   "outputs": [],
   "source": [
    "url='https://www.dnd5eapi.co/api/ability-scores/dex'"
   ]
  },
  {
   "cell_type": "code",
   "execution_count": 17,
   "id": "63724418",
   "metadata": {},
   "outputs": [],
   "source": [
    "des=req.get(url)"
   ]
  },
  {
   "cell_type": "code",
   "execution_count": 18,
   "id": "8092f818",
   "metadata": {},
   "outputs": [],
   "source": [
    "des=des.json()"
   ]
  },
  {
   "cell_type": "code",
   "execution_count": 19,
   "id": "063ed8c8",
   "metadata": {},
   "outputs": [
    {
     "data": {
      "text/plain": [
       "{'index': 'dex',\n",
       " 'name': 'DEX',\n",
       " 'full_name': 'Dexterity',\n",
       " 'desc': ['Dexterity measures agility, reflexes, and balance.',\n",
       "  'A Dexterity check can model any attempt to move nimbly, quickly, or quietly, or to keep from falling on tricky footing. The Acrobatics, Sleight of Hand, and Stealth skills reflect aptitude in certain kinds of Dexterity checks.'],\n",
       " 'skills': [{'name': 'Acrobatics',\n",
       "   'index': 'acrobatics',\n",
       "   'url': '/api/skills/acrobatics'},\n",
       "  {'name': 'Sleight of Hand',\n",
       "   'index': 'sleight-of-hand',\n",
       "   'url': '/api/skills/sleight-of-hand'},\n",
       "  {'name': 'Stealth', 'index': 'stealth', 'url': '/api/skills/stealth'}],\n",
       " 'url': '/api/ability-scores/dex'}"
      ]
     },
     "execution_count": 19,
     "metadata": {},
     "output_type": "execute_result"
    }
   ],
   "source": [
    "des"
   ]
  },
  {
   "cell_type": "code",
   "execution_count": 20,
   "id": "0e473712",
   "metadata": {},
   "outputs": [],
   "source": [
    "des=[3, des['full_name'], des['name'], str(des['desc']).replace(\"[\",\"\").replace(\"]\",\"\").replace(\"'\",\"\"), str([e['name'] for e in des['skills']]).replace(\"[\",\"\").replace(\"]\",\"\").replace(\"'\",\"\")]"
   ]
  },
  {
   "cell_type": "code",
   "execution_count": 21,
   "id": "9e5d590e",
   "metadata": {},
   "outputs": [
    {
     "data": {
      "text/plain": [
       "[3,\n",
       " 'Dexterity',\n",
       " 'DEX',\n",
       " 'Dexterity measures agility, reflexes, and balance., A Dexterity check can model any attempt to move nimbly, quickly, or quietly, or to keep from falling on tricky footing. The Acrobatics, Sleight of Hand, and Stealth skills reflect aptitude in certain kinds of Dexterity checks.',\n",
       " 'Acrobatics, Sleight of Hand, Stealth']"
      ]
     },
     "execution_count": 21,
     "metadata": {},
     "output_type": "execute_result"
    }
   ],
   "source": [
    "des"
   ]
  },
  {
   "cell_type": "markdown",
   "id": "8fe9d5d5",
   "metadata": {},
   "source": [
    "## Inteligencia"
   ]
  },
  {
   "cell_type": "code",
   "execution_count": 22,
   "id": "e95508b1",
   "metadata": {},
   "outputs": [],
   "source": [
    "url='https://www.dnd5eapi.co/api/ability-scores/int'"
   ]
  },
  {
   "cell_type": "code",
   "execution_count": 23,
   "id": "a44c45a8",
   "metadata": {},
   "outputs": [],
   "source": [
    "inte=req.get(url)"
   ]
  },
  {
   "cell_type": "code",
   "execution_count": 24,
   "id": "04206858",
   "metadata": {},
   "outputs": [],
   "source": [
    "inte=inte.json()"
   ]
  },
  {
   "cell_type": "code",
   "execution_count": 25,
   "id": "c5d44900",
   "metadata": {},
   "outputs": [
    {
     "data": {
      "text/plain": [
       "{'index': 'int',\n",
       " 'name': 'INT',\n",
       " 'full_name': 'Intelligence',\n",
       " 'desc': ['Intelligence measures mental acuity, accuracy of recall, and the ability to reason.',\n",
       "  'An Intelligence check comes into play when you need to draw on logic, education, memory, or deductive reasoning. The Arcana, History, Investigation, Nature, and Religion skills reflect aptitude in certain kinds of Intelligence checks.'],\n",
       " 'skills': [{'name': 'Arcana', 'index': 'arcana', 'url': '/api/skills/arcana'},\n",
       "  {'name': 'History', 'index': 'history', 'url': '/api/skills/history'},\n",
       "  {'name': 'Investigation',\n",
       "   'index': 'investigation',\n",
       "   'url': '/api/skills/investigation'},\n",
       "  {'name': 'Nature', 'index': 'nature', 'url': '/api/skills/nature'},\n",
       "  {'name': 'Religion', 'index': 'religion', 'url': '/api/skills/religion'}],\n",
       " 'url': '/api/ability-scores/int'}"
      ]
     },
     "execution_count": 25,
     "metadata": {},
     "output_type": "execute_result"
    }
   ],
   "source": [
    "inte"
   ]
  },
  {
   "cell_type": "code",
   "execution_count": 26,
   "id": "ef7d5c4d",
   "metadata": {},
   "outputs": [],
   "source": [
    "inte=[4, inte['full_name'], inte['name'], str(inte['desc']).replace(\"[\",\"\").replace(\"]\",\"\").replace(\"'\",\"\"), str([e['name'] for e in inte['skills']]).replace(\"[\",\"\").replace(\"]\",\"\").replace(\"'\",\"\")]"
   ]
  },
  {
   "cell_type": "code",
   "execution_count": 27,
   "id": "4c189ea5",
   "metadata": {},
   "outputs": [
    {
     "data": {
      "text/plain": [
       "[4,\n",
       " 'Intelligence',\n",
       " 'INT',\n",
       " 'Intelligence measures mental acuity, accuracy of recall, and the ability to reason., An Intelligence check comes into play when you need to draw on logic, education, memory, or deductive reasoning. The Arcana, History, Investigation, Nature, and Religion skills reflect aptitude in certain kinds of Intelligence checks.',\n",
       " 'Arcana, History, Investigation, Nature, Religion']"
      ]
     },
     "execution_count": 27,
     "metadata": {},
     "output_type": "execute_result"
    }
   ],
   "source": [
    "inte"
   ]
  },
  {
   "cell_type": "markdown",
   "id": "eeee0d81",
   "metadata": {},
   "source": [
    "## Fuerza"
   ]
  },
  {
   "cell_type": "code",
   "execution_count": 28,
   "id": "a588c17e",
   "metadata": {},
   "outputs": [],
   "source": [
    "url='https://www.dnd5eapi.co/api/ability-scores/str'"
   ]
  },
  {
   "cell_type": "code",
   "execution_count": 29,
   "id": "edc031ee",
   "metadata": {},
   "outputs": [],
   "source": [
    "fuer=req.get(url)"
   ]
  },
  {
   "cell_type": "code",
   "execution_count": 30,
   "id": "74b8526a",
   "metadata": {},
   "outputs": [],
   "source": [
    "fuer=fuer.json()"
   ]
  },
  {
   "cell_type": "code",
   "execution_count": 31,
   "id": "db9f620b",
   "metadata": {},
   "outputs": [
    {
     "data": {
      "text/plain": [
       "{'index': 'str',\n",
       " 'name': 'STR',\n",
       " 'full_name': 'Strength',\n",
       " 'desc': ['Strength measures bodily power, athletic training, and the extent to which you can exert raw physical force.',\n",
       "  'A Strength check can model any attempt to lift, push, pull, or break something, to force your body through a space, or to otherwise apply brute force to a situation. The Athletics skill reflects aptitude in certain kinds of Strength checks.'],\n",
       " 'skills': [{'name': 'Athletics',\n",
       "   'index': 'athletics',\n",
       "   'url': '/api/skills/athletics'}],\n",
       " 'url': '/api/ability-scores/str'}"
      ]
     },
     "execution_count": 31,
     "metadata": {},
     "output_type": "execute_result"
    }
   ],
   "source": [
    "fuer"
   ]
  },
  {
   "cell_type": "code",
   "execution_count": 32,
   "id": "1daa5ab7",
   "metadata": {},
   "outputs": [],
   "source": [
    "fuer=[5, fuer['full_name'], fuer['name'], str(fuer['desc']).replace(\"[\",\"\").replace(\"]\",\"\").replace(\"'\",\"\"), str([e['name'] for e in fuer['skills']]).replace(\"[\",\"\").replace(\"]\",\"\").replace(\"'\",\"\")]"
   ]
  },
  {
   "cell_type": "code",
   "execution_count": 33,
   "id": "22e72f39",
   "metadata": {},
   "outputs": [
    {
     "data": {
      "text/plain": [
       "[5,\n",
       " 'Strength',\n",
       " 'STR',\n",
       " 'Strength measures bodily power, athletic training, and the extent to which you can exert raw physical force., A Strength check can model any attempt to lift, push, pull, or break something, to force your body through a space, or to otherwise apply brute force to a situation. The Athletics skill reflects aptitude in certain kinds of Strength checks.',\n",
       " 'Athletics']"
      ]
     },
     "execution_count": 33,
     "metadata": {},
     "output_type": "execute_result"
    }
   ],
   "source": [
    "fuer"
   ]
  },
  {
   "cell_type": "markdown",
   "id": "64d3cb02",
   "metadata": {},
   "source": [
    "## Sabiduría"
   ]
  },
  {
   "cell_type": "code",
   "execution_count": 34,
   "id": "46375a8c",
   "metadata": {},
   "outputs": [],
   "source": [
    "url=\"https://www.dnd5eapi.co/api/ability-scores/wis\""
   ]
  },
  {
   "cell_type": "code",
   "execution_count": 35,
   "id": "61242138",
   "metadata": {},
   "outputs": [],
   "source": [
    "sab=req.get(url)"
   ]
  },
  {
   "cell_type": "code",
   "execution_count": 36,
   "id": "6937500c",
   "metadata": {},
   "outputs": [],
   "source": [
    "sab=sab.json()"
   ]
  },
  {
   "cell_type": "code",
   "execution_count": 37,
   "id": "5ca15770",
   "metadata": {},
   "outputs": [
    {
     "data": {
      "text/plain": [
       "{'index': 'wis',\n",
       " 'name': 'WIS',\n",
       " 'full_name': 'Wisdom',\n",
       " 'desc': ['Wisdom reflects how attuned you are to the world around you and represents perceptiveness and intuition.',\n",
       "  \"A Wisdom check might reflect an effort to read body language, understand someone's feelings, notice things about the environment, or care for an injured person. The Animal Handling, Insight, Medicine, Perception, and Survival skills reflect aptitude in certain kinds of Wisdom checks.\"],\n",
       " 'skills': [{'name': 'Animal Handling',\n",
       "   'index': 'animal-handling',\n",
       "   'url': '/api/skills/animal-handling'},\n",
       "  {'name': 'Insight', 'index': 'insight', 'url': '/api/skills/insight'},\n",
       "  {'name': 'Medicine', 'index': 'medicine', 'url': '/api/skills/medicine'},\n",
       "  {'name': 'Perception',\n",
       "   'index': 'perception',\n",
       "   'url': '/api/skills/perception'},\n",
       "  {'name': 'Survival', 'index': 'survival', 'url': '/api/skills/survival'}],\n",
       " 'url': '/api/ability-scores/wis'}"
      ]
     },
     "execution_count": 37,
     "metadata": {},
     "output_type": "execute_result"
    }
   ],
   "source": [
    "sab"
   ]
  },
  {
   "cell_type": "code",
   "execution_count": 38,
   "id": "cff5413d",
   "metadata": {},
   "outputs": [],
   "source": [
    "sab=[6, sab['full_name'], sab['name'], str(sab['desc']).replace(\"[\",\"\").replace(\"]\",\"\").replace(\"'\",\"\").replace('\"',\"\"), str([e['name'] for e in sab['skills']]).replace(\"[\",\"\").replace(\"]\",\"\").replace(\"'\",\"\")]"
   ]
  },
  {
   "cell_type": "code",
   "execution_count": 39,
   "id": "7c114f1e",
   "metadata": {},
   "outputs": [
    {
     "data": {
      "text/plain": [
       "[6,\n",
       " 'Wisdom',\n",
       " 'WIS',\n",
       " 'Wisdom reflects how attuned you are to the world around you and represents perceptiveness and intuition., A Wisdom check might reflect an effort to read body language, understand someones feelings, notice things about the environment, or care for an injured person. The Animal Handling, Insight, Medicine, Perception, and Survival skills reflect aptitude in certain kinds of Wisdom checks.',\n",
       " 'Animal Handling, Insight, Medicine, Perception, Survival']"
      ]
     },
     "execution_count": 39,
     "metadata": {},
     "output_type": "execute_result"
    }
   ],
   "source": [
    "sab"
   ]
  },
  {
   "cell_type": "markdown",
   "id": "89508586",
   "metadata": {},
   "source": [
    "## Construcción dataframe Characteristics "
   ]
  },
  {
   "cell_type": "code",
   "execution_count": 40,
   "id": "1a7479df",
   "metadata": {},
   "outputs": [
    {
     "data": {
      "text/html": [
       "<div>\n",
       "<style scoped>\n",
       "    .dataframe tbody tr th:only-of-type {\n",
       "        vertical-align: middle;\n",
       "    }\n",
       "\n",
       "    .dataframe tbody tr th {\n",
       "        vertical-align: top;\n",
       "    }\n",
       "\n",
       "    .dataframe thead th {\n",
       "        text-align: right;\n",
       "    }\n",
       "</style>\n",
       "<table border=\"1\" class=\"dataframe\">\n",
       "  <thead>\n",
       "    <tr style=\"text-align: right;\">\n",
       "      <th></th>\n",
       "      <th>id_char</th>\n",
       "      <th>name</th>\n",
       "      <th>abrv</th>\n",
       "      <th>description</th>\n",
       "      <th>skills</th>\n",
       "    </tr>\n",
       "  </thead>\n",
       "  <tbody>\n",
       "  </tbody>\n",
       "</table>\n",
       "</div>"
      ],
      "text/plain": [
       "Empty DataFrame\n",
       "Columns: [id_char, name, abrv, description, skills]\n",
       "Index: []"
      ]
     },
     "execution_count": 40,
     "metadata": {},
     "output_type": "execute_result"
    }
   ],
   "source": [
    "columns=['id_char', 'name', 'abrv', 'description', 'skills']\n",
    "char=pd.DataFrame(columns=columns)\n",
    "char"
   ]
  },
  {
   "cell_type": "code",
   "execution_count": 41,
   "id": "a08d4327",
   "metadata": {},
   "outputs": [],
   "source": [
    "char.loc[len(char)]= con\n",
    "char.loc[len(char)]= car\n",
    "char.loc[len(char)]= des\n",
    "char.loc[len(char)]= inte\n",
    "char.loc[len(char)]= fuer\n",
    "char.loc[len(char)]= sab"
   ]
  },
  {
   "cell_type": "code",
   "execution_count": 42,
   "id": "ab293e3e",
   "metadata": {},
   "outputs": [
    {
     "data": {
      "text/html": [
       "<div>\n",
       "<style scoped>\n",
       "    .dataframe tbody tr th:only-of-type {\n",
       "        vertical-align: middle;\n",
       "    }\n",
       "\n",
       "    .dataframe tbody tr th {\n",
       "        vertical-align: top;\n",
       "    }\n",
       "\n",
       "    .dataframe thead th {\n",
       "        text-align: right;\n",
       "    }\n",
       "</style>\n",
       "<table border=\"1\" class=\"dataframe\">\n",
       "  <thead>\n",
       "    <tr style=\"text-align: right;\">\n",
       "      <th></th>\n",
       "      <th>id_char</th>\n",
       "      <th>name</th>\n",
       "      <th>abrv</th>\n",
       "      <th>description</th>\n",
       "      <th>skills</th>\n",
       "    </tr>\n",
       "  </thead>\n",
       "  <tbody>\n",
       "    <tr>\n",
       "      <th>0</th>\n",
       "      <td>1</td>\n",
       "      <td>Constitution</td>\n",
       "      <td>CON</td>\n",
       "      <td>Constitution measures health, stamina, and vit...</td>\n",
       "      <td>[]</td>\n",
       "    </tr>\n",
       "    <tr>\n",
       "      <th>1</th>\n",
       "      <td>2</td>\n",
       "      <td>Charisma</td>\n",
       "      <td>CHA</td>\n",
       "      <td>Charisma measures your ability to interact eff...</td>\n",
       "      <td>Deception, Intimidation, Performance, Persuasion</td>\n",
       "    </tr>\n",
       "    <tr>\n",
       "      <th>2</th>\n",
       "      <td>3</td>\n",
       "      <td>Dexterity</td>\n",
       "      <td>DEX</td>\n",
       "      <td>Dexterity measures agility, reflexes, and bala...</td>\n",
       "      <td>Acrobatics, Sleight of Hand, Stealth</td>\n",
       "    </tr>\n",
       "    <tr>\n",
       "      <th>3</th>\n",
       "      <td>4</td>\n",
       "      <td>Intelligence</td>\n",
       "      <td>INT</td>\n",
       "      <td>Intelligence measures mental acuity, accuracy ...</td>\n",
       "      <td>Arcana, History, Investigation, Nature, Religion</td>\n",
       "    </tr>\n",
       "    <tr>\n",
       "      <th>4</th>\n",
       "      <td>5</td>\n",
       "      <td>Strength</td>\n",
       "      <td>STR</td>\n",
       "      <td>Strength measures bodily power, athletic train...</td>\n",
       "      <td>Athletics</td>\n",
       "    </tr>\n",
       "    <tr>\n",
       "      <th>5</th>\n",
       "      <td>6</td>\n",
       "      <td>Wisdom</td>\n",
       "      <td>WIS</td>\n",
       "      <td>Wisdom reflects how attuned you are to the wor...</td>\n",
       "      <td>Animal Handling, Insight, Medicine, Perception...</td>\n",
       "    </tr>\n",
       "  </tbody>\n",
       "</table>\n",
       "</div>"
      ],
      "text/plain": [
       "   id_char          name abrv  \\\n",
       "0        1  Constitution  CON   \n",
       "1        2      Charisma  CHA   \n",
       "2        3     Dexterity  DEX   \n",
       "3        4  Intelligence  INT   \n",
       "4        5      Strength  STR   \n",
       "5        6        Wisdom  WIS   \n",
       "\n",
       "                                         description  \\\n",
       "0  Constitution measures health, stamina, and vit...   \n",
       "1  Charisma measures your ability to interact eff...   \n",
       "2  Dexterity measures agility, reflexes, and bala...   \n",
       "3  Intelligence measures mental acuity, accuracy ...   \n",
       "4  Strength measures bodily power, athletic train...   \n",
       "5  Wisdom reflects how attuned you are to the wor...   \n",
       "\n",
       "                                              skills  \n",
       "0                                                 []  \n",
       "1   Deception, Intimidation, Performance, Persuasion  \n",
       "2               Acrobatics, Sleight of Hand, Stealth  \n",
       "3   Arcana, History, Investigation, Nature, Religion  \n",
       "4                                          Athletics  \n",
       "5  Animal Handling, Insight, Medicine, Perception...  "
      ]
     },
     "execution_count": 42,
     "metadata": {},
     "output_type": "execute_result"
    }
   ],
   "source": [
    "char"
   ]
  },
  {
   "cell_type": "code",
   "execution_count": 43,
   "id": "d127bc70",
   "metadata": {},
   "outputs": [],
   "source": [
    "char.skills[0]='None'"
   ]
  },
  {
   "cell_type": "code",
   "execution_count": 44,
   "id": "e3496fc8",
   "metadata": {},
   "outputs": [
    {
     "data": {
      "text/html": [
       "<div>\n",
       "<style scoped>\n",
       "    .dataframe tbody tr th:only-of-type {\n",
       "        vertical-align: middle;\n",
       "    }\n",
       "\n",
       "    .dataframe tbody tr th {\n",
       "        vertical-align: top;\n",
       "    }\n",
       "\n",
       "    .dataframe thead th {\n",
       "        text-align: right;\n",
       "    }\n",
       "</style>\n",
       "<table border=\"1\" class=\"dataframe\">\n",
       "  <thead>\n",
       "    <tr style=\"text-align: right;\">\n",
       "      <th></th>\n",
       "      <th>id_char</th>\n",
       "      <th>name</th>\n",
       "      <th>abrv</th>\n",
       "      <th>description</th>\n",
       "      <th>skills</th>\n",
       "    </tr>\n",
       "  </thead>\n",
       "  <tbody>\n",
       "    <tr>\n",
       "      <th>0</th>\n",
       "      <td>1</td>\n",
       "      <td>Constitution</td>\n",
       "      <td>CON</td>\n",
       "      <td>Constitution measures health, stamina, and vit...</td>\n",
       "      <td>None</td>\n",
       "    </tr>\n",
       "    <tr>\n",
       "      <th>1</th>\n",
       "      <td>2</td>\n",
       "      <td>Charisma</td>\n",
       "      <td>CHA</td>\n",
       "      <td>Charisma measures your ability to interact eff...</td>\n",
       "      <td>Deception, Intimidation, Performance, Persuasion</td>\n",
       "    </tr>\n",
       "    <tr>\n",
       "      <th>2</th>\n",
       "      <td>3</td>\n",
       "      <td>Dexterity</td>\n",
       "      <td>DEX</td>\n",
       "      <td>Dexterity measures agility, reflexes, and bala...</td>\n",
       "      <td>Acrobatics, Sleight of Hand, Stealth</td>\n",
       "    </tr>\n",
       "    <tr>\n",
       "      <th>3</th>\n",
       "      <td>4</td>\n",
       "      <td>Intelligence</td>\n",
       "      <td>INT</td>\n",
       "      <td>Intelligence measures mental acuity, accuracy ...</td>\n",
       "      <td>Arcana, History, Investigation, Nature, Religion</td>\n",
       "    </tr>\n",
       "    <tr>\n",
       "      <th>4</th>\n",
       "      <td>5</td>\n",
       "      <td>Strength</td>\n",
       "      <td>STR</td>\n",
       "      <td>Strength measures bodily power, athletic train...</td>\n",
       "      <td>Athletics</td>\n",
       "    </tr>\n",
       "    <tr>\n",
       "      <th>5</th>\n",
       "      <td>6</td>\n",
       "      <td>Wisdom</td>\n",
       "      <td>WIS</td>\n",
       "      <td>Wisdom reflects how attuned you are to the wor...</td>\n",
       "      <td>Animal Handling, Insight, Medicine, Perception...</td>\n",
       "    </tr>\n",
       "  </tbody>\n",
       "</table>\n",
       "</div>"
      ],
      "text/plain": [
       "   id_char          name abrv  \\\n",
       "0        1  Constitution  CON   \n",
       "1        2      Charisma  CHA   \n",
       "2        3     Dexterity  DEX   \n",
       "3        4  Intelligence  INT   \n",
       "4        5      Strength  STR   \n",
       "5        6        Wisdom  WIS   \n",
       "\n",
       "                                         description  \\\n",
       "0  Constitution measures health, stamina, and vit...   \n",
       "1  Charisma measures your ability to interact eff...   \n",
       "2  Dexterity measures agility, reflexes, and bala...   \n",
       "3  Intelligence measures mental acuity, accuracy ...   \n",
       "4  Strength measures bodily power, athletic train...   \n",
       "5  Wisdom reflects how attuned you are to the wor...   \n",
       "\n",
       "                                              skills  \n",
       "0                                               None  \n",
       "1   Deception, Intimidation, Performance, Persuasion  \n",
       "2               Acrobatics, Sleight of Hand, Stealth  \n",
       "3   Arcana, History, Investigation, Nature, Religion  \n",
       "4                                          Athletics  \n",
       "5  Animal Handling, Insight, Medicine, Perception...  "
      ]
     },
     "execution_count": 44,
     "metadata": {},
     "output_type": "execute_result"
    }
   ],
   "source": [
    "char"
   ]
  },
  {
   "cell_type": "code",
   "execution_count": 121,
   "id": "651d557a",
   "metadata": {},
   "outputs": [],
   "source": [
    "char.to_csv('../data/clean/cl_char.csv', index=False)"
   ]
  },
  {
   "cell_type": "markdown",
   "id": "18382ec9",
   "metadata": {},
   "source": [
    "Finalmente, será una tabla informativa para el jugador."
   ]
  },
  {
   "cell_type": "markdown",
   "id": "5c9f4315",
   "metadata": {},
   "source": [
    "# Subclasses"
   ]
  },
  {
   "cell_type": "markdown",
   "id": "4a2cb067",
   "metadata": {},
   "source": [
    "## Fiend "
   ]
  },
  {
   "cell_type": "code",
   "execution_count": 45,
   "id": "92dfead3",
   "metadata": {},
   "outputs": [],
   "source": [
    "url=\"https://www.dnd5eapi.co/api/subclasses/fiend\""
   ]
  },
  {
   "cell_type": "code",
   "execution_count": 46,
   "id": "59f4049e",
   "metadata": {},
   "outputs": [],
   "source": [
    "fiend=req.get(url)"
   ]
  },
  {
   "cell_type": "code",
   "execution_count": 47,
   "id": "84d263c7",
   "metadata": {},
   "outputs": [],
   "source": [
    "fiend=fiend.json()"
   ]
  },
  {
   "cell_type": "code",
   "execution_count": 58,
   "id": "56620296",
   "metadata": {},
   "outputs": [],
   "source": [
    "fiend=[1, fiend['name'], fiend['class']['name'], str(fiend['desc']).replace(\"[\",\"\").replace(\"]\",\"\").replace(\"'\",\"\").replace('\"',\"\")]"
   ]
  },
  {
   "cell_type": "code",
   "execution_count": 59,
   "id": "24e7f8c0",
   "metadata": {},
   "outputs": [
    {
     "data": {
      "text/plain": [
       "[1,\n",
       " 'Fiend',\n",
       " 'Warlock',\n",
       " 'You have made a pact with a fiend from the lower planes of existence, a being whose aims are evil, even if you strive against those aims. Such beings desire the corruption or destruction of all things, ultimately including you. Fiends powerful enough to forge a pact include demon lords such as Demogorgon, Orcus, FrazUrb-luu, and Baphomet; archdevils such as Asmodeus, Dispater, Mephistopheles, and Belial; pit fiends and balors that are especially mighty; and ultroloths and other lords of the yugoloths.']"
      ]
     },
     "execution_count": 59,
     "metadata": {},
     "output_type": "execute_result"
    }
   ],
   "source": [
    "fiend"
   ]
  },
  {
   "cell_type": "markdown",
   "id": "792ec74d",
   "metadata": {},
   "source": [
    "## Berseker "
   ]
  },
  {
   "cell_type": "code",
   "execution_count": 60,
   "id": "909c1469",
   "metadata": {},
   "outputs": [],
   "source": [
    "url=\"https://www.dnd5eapi.co/api/subclasses/berserker\""
   ]
  },
  {
   "cell_type": "code",
   "execution_count": 61,
   "id": "a44a198a",
   "metadata": {},
   "outputs": [],
   "source": [
    "bers=req.get(url)"
   ]
  },
  {
   "cell_type": "code",
   "execution_count": 62,
   "id": "9573bd7b",
   "metadata": {},
   "outputs": [],
   "source": [
    "bers=bers.json()"
   ]
  },
  {
   "cell_type": "code",
   "execution_count": 63,
   "id": "1bfad97f",
   "metadata": {},
   "outputs": [],
   "source": [
    "bers=[2, bers['name'], bers['class']['name'], str(bers['desc']).replace(\"[\",\"\").replace(\"]\",\"\").replace(\"'\",\"\").replace('\"',\"\")]"
   ]
  },
  {
   "cell_type": "code",
   "execution_count": 64,
   "id": "c42e4239",
   "metadata": {},
   "outputs": [
    {
     "data": {
      "text/plain": [
       "[2,\n",
       " 'Berserker',\n",
       " 'Barbarian',\n",
       " 'For some barbarians, rage is a means to an end--that end being violence. The Path of the Berserker is a path of untrammeled fury, slick with blood. As you enter the berserkers rage, you thrill in the chaos of battle, heedless of your own health or well-being.']"
      ]
     },
     "execution_count": 64,
     "metadata": {},
     "output_type": "execute_result"
    }
   ],
   "source": [
    "bers"
   ]
  },
  {
   "cell_type": "markdown",
   "id": "b7b1e1d3",
   "metadata": {},
   "source": [
    "## Champion "
   ]
  },
  {
   "cell_type": "code",
   "execution_count": 65,
   "id": "abea0c0f",
   "metadata": {},
   "outputs": [],
   "source": [
    "url=\"https://www.dnd5eapi.co/api/subclasses/champion\""
   ]
  },
  {
   "cell_type": "code",
   "execution_count": 66,
   "id": "e29aa03c",
   "metadata": {},
   "outputs": [],
   "source": [
    "champ=req.get(url)"
   ]
  },
  {
   "cell_type": "code",
   "execution_count": 67,
   "id": "8c51be65",
   "metadata": {},
   "outputs": [],
   "source": [
    "champ=champ.json()"
   ]
  },
  {
   "cell_type": "code",
   "execution_count": 68,
   "id": "6cfa0293",
   "metadata": {},
   "outputs": [],
   "source": [
    "champ=[3, champ['name'], champ['class']['name'], str(champ['desc']).replace(\"[\",\"\").replace(\"]\",\"\").replace(\"'\",\"\").replace('\"',\"\")]"
   ]
  },
  {
   "cell_type": "code",
   "execution_count": 69,
   "id": "174fea4a",
   "metadata": {},
   "outputs": [
    {
     "data": {
      "text/plain": [
       "[3,\n",
       " 'Champion',\n",
       " 'Fighter',\n",
       " 'The archetypal Champion focuses on the development of raw physical power honed to deadly perfection. Those who model themselves on this archetype combine rigorous training with physical excellence to deal devastating blows.']"
      ]
     },
     "execution_count": 69,
     "metadata": {},
     "output_type": "execute_result"
    }
   ],
   "source": [
    "champ"
   ]
  },
  {
   "cell_type": "markdown",
   "id": "25c3e35b",
   "metadata": {},
   "source": [
    "## Devotion "
   ]
  },
  {
   "cell_type": "code",
   "execution_count": 70,
   "id": "6023da1f",
   "metadata": {},
   "outputs": [],
   "source": [
    "url=\"https://www.dnd5eapi.co/api/subclasses/devotion\""
   ]
  },
  {
   "cell_type": "code",
   "execution_count": 71,
   "id": "93f18822",
   "metadata": {},
   "outputs": [],
   "source": [
    "dev=req.get(url)"
   ]
  },
  {
   "cell_type": "code",
   "execution_count": 72,
   "id": "2de18629",
   "metadata": {},
   "outputs": [],
   "source": [
    "dev=dev.json()"
   ]
  },
  {
   "cell_type": "code",
   "execution_count": 73,
   "id": "8d856f16",
   "metadata": {},
   "outputs": [],
   "source": [
    "dev=[4, dev['name'], dev['class']['name'], str(dev['desc']).replace(\"[\",\"\").replace(\"]\",\"\").replace(\"'\",\"\").replace('\"',\"\")]"
   ]
  },
  {
   "cell_type": "code",
   "execution_count": 74,
   "id": "0aed989d",
   "metadata": {},
   "outputs": [
    {
     "data": {
      "text/plain": [
       "[4,\n",
       " 'Devotion',\n",
       " 'Paladin',\n",
       " 'The Oath of Devotion binds a paladin to the loftiest ideals of justice, virtue, and order. Sometimes called cavaliers, white knights, or holy warriors, these paladins meet the ideal of the knight in shining armor, acting with honor in pursuit of justice and the greater good. They hold themselves to the highest standards of conduct, and some, for better or worse, hold the rest of the world to the same standards. Many who swear this oath are devoted to gods of law and good and use their gods tenets as the measure of their devotion. They hold angels--the perfect servants of good--as their ideals, and incorporate images of angelic wings into their helmets or coats of arms.']"
      ]
     },
     "execution_count": 74,
     "metadata": {},
     "output_type": "execute_result"
    }
   ],
   "source": [
    "dev"
   ]
  },
  {
   "cell_type": "markdown",
   "id": "507fb837",
   "metadata": {},
   "source": [
    "## Evocation "
   ]
  },
  {
   "cell_type": "code",
   "execution_count": 75,
   "id": "0ca75d5f",
   "metadata": {},
   "outputs": [],
   "source": [
    "url=\"https://www.dnd5eapi.co/api/subclasses/evocation\""
   ]
  },
  {
   "cell_type": "code",
   "execution_count": 76,
   "id": "b52ac2b5",
   "metadata": {},
   "outputs": [],
   "source": [
    "evo=req.get(url)"
   ]
  },
  {
   "cell_type": "code",
   "execution_count": 77,
   "id": "9458087a",
   "metadata": {},
   "outputs": [],
   "source": [
    "evo=evo.json()"
   ]
  },
  {
   "cell_type": "code",
   "execution_count": 78,
   "id": "e0916b7c",
   "metadata": {},
   "outputs": [],
   "source": [
    "evo=[5, evo['name'], evo['class']['name'], str(evo['desc']).replace(\"[\",\"\").replace(\"]\",\"\").replace(\"'\",\"\").replace('\"',\"\")]"
   ]
  },
  {
   "cell_type": "code",
   "execution_count": 79,
   "id": "21b7b09a",
   "metadata": {},
   "outputs": [
    {
     "data": {
      "text/plain": [
       "[5,\n",
       " 'Evocation',\n",
       " 'Wizard',\n",
       " 'You focus your study on magic that creates powerful elemental effects such as bitter cold, searing flame, rolling thunder, crackling lightning, and burning acid. Some evokers find employment in military forces, serving as artillery to blast enemy armies from afar. Others use their spectacular power to protect the weak, while some seek their own gain as bandits, adventurers, or aspiring tyrants.']"
      ]
     },
     "execution_count": 79,
     "metadata": {},
     "output_type": "execute_result"
    }
   ],
   "source": [
    "evo"
   ]
  },
  {
   "cell_type": "markdown",
   "id": "cdd27fc7",
   "metadata": {},
   "source": [
    "## Hunter "
   ]
  },
  {
   "cell_type": "code",
   "execution_count": 80,
   "id": "7537d1c2",
   "metadata": {},
   "outputs": [],
   "source": [
    "url=\"https://www.dnd5eapi.co/api/subclasses/hunter\""
   ]
  },
  {
   "cell_type": "code",
   "execution_count": 81,
   "id": "59005cf6",
   "metadata": {},
   "outputs": [],
   "source": [
    "hunt=req.get(url)"
   ]
  },
  {
   "cell_type": "code",
   "execution_count": 82,
   "id": "bf946996",
   "metadata": {},
   "outputs": [],
   "source": [
    "hunt=hunt.json()"
   ]
  },
  {
   "cell_type": "code",
   "execution_count": 83,
   "id": "12d8ec63",
   "metadata": {},
   "outputs": [],
   "source": [
    "hunt=[6, hunt['name'], hunt['class']['name'], str(hunt['desc']).replace(\"[\",\"\").replace(\"]\",\"\").replace(\"'\",\"\").replace('\"',\"\")]"
   ]
  },
  {
   "cell_type": "code",
   "execution_count": 84,
   "id": "c5d7dd0f",
   "metadata": {},
   "outputs": [
    {
     "data": {
      "text/plain": [
       "[6,\n",
       " 'Hunter',\n",
       " 'Ranger',\n",
       " 'Emulating the Hunter archetype means accepting your place as a bulwark between civilization and the terrors of the wilderness. As you walk the Hunters path, you learn specialized techniques for fighting the threats you face, from rampaging ogres and hordes of orcs to towering giants and terrifying dragons.']"
      ]
     },
     "execution_count": 84,
     "metadata": {},
     "output_type": "execute_result"
    }
   ],
   "source": [
    "hunt"
   ]
  },
  {
   "cell_type": "markdown",
   "id": "5e89db87",
   "metadata": {},
   "source": [
    "## Land "
   ]
  },
  {
   "cell_type": "code",
   "execution_count": 85,
   "id": "de2d00a2",
   "metadata": {},
   "outputs": [],
   "source": [
    "url=\"https://www.dnd5eapi.co/api/subclasses/land\""
   ]
  },
  {
   "cell_type": "code",
   "execution_count": 86,
   "id": "241ea2a8",
   "metadata": {},
   "outputs": [],
   "source": [
    "land=req.get(url)"
   ]
  },
  {
   "cell_type": "code",
   "execution_count": 87,
   "id": "5f2b79d3",
   "metadata": {},
   "outputs": [],
   "source": [
    "land=land.json()"
   ]
  },
  {
   "cell_type": "code",
   "execution_count": 88,
   "id": "72590353",
   "metadata": {},
   "outputs": [],
   "source": [
    "land=[7, land['name'], land['class']['name'], str(land['desc']).replace(\"[\",\"\").replace(\"]\",\"\").replace(\"'\",\"\").replace('\"',\"\")]"
   ]
  },
  {
   "cell_type": "code",
   "execution_count": 89,
   "id": "3f9da341",
   "metadata": {},
   "outputs": [
    {
     "data": {
      "text/plain": [
       "[7,\n",
       " 'Land',\n",
       " 'Druid',\n",
       " 'The Circle of the Land is made up of mystics and sages who safeguard ancient knowledge and rites through a vast oral tradition. These druids meet within sacred circles of trees or standing stones to whisper primal secrets in Druidic. The circles wisest members preside as the chief priests of communities that hold to the Old Faith and serve as advisors to the rulers of those folk. As a member of this circle, your magic is influenced by the land where you were initiated into the circles mysterious rites.']"
      ]
     },
     "execution_count": 89,
     "metadata": {},
     "output_type": "execute_result"
    }
   ],
   "source": [
    "land"
   ]
  },
  {
   "cell_type": "markdown",
   "id": "f93c599b",
   "metadata": {},
   "source": [
    "## Life "
   ]
  },
  {
   "cell_type": "code",
   "execution_count": 95,
   "id": "ebd5acc7",
   "metadata": {},
   "outputs": [],
   "source": [
    "url=\"https://www.dnd5eapi.co/api/subclasses/life\""
   ]
  },
  {
   "cell_type": "code",
   "execution_count": 96,
   "id": "e51e223b",
   "metadata": {},
   "outputs": [],
   "source": [
    "life=req.get(url)"
   ]
  },
  {
   "cell_type": "code",
   "execution_count": 97,
   "id": "f74755df",
   "metadata": {},
   "outputs": [],
   "source": [
    "life=life.json()"
   ]
  },
  {
   "cell_type": "code",
   "execution_count": 98,
   "id": "76c0d277",
   "metadata": {},
   "outputs": [],
   "source": [
    "life=[8, life['name'], life['class']['name'], str(life['desc']).replace(\"[\",\"\").replace(\"]\",\"\").replace(\"'\",\"\").replace('\"',\"\")]"
   ]
  },
  {
   "cell_type": "code",
   "execution_count": 99,
   "id": "f2f5d8df",
   "metadata": {},
   "outputs": [
    {
     "data": {
      "text/plain": [
       "[8,\n",
       " 'Life',\n",
       " 'Cleric',\n",
       " 'The Life domain focuses on the vibrant positive energy--one of the fundamental forces of the universe--that sustains all life. The gods of life promote vitality and health through healing the sick and wounded, caring for those in need, and driving away the forces of death and undeath. Almost any non-evil deity can claim influence over this domain, particularly agricultural deities, sun gods, gods of healing or endurance, and gods of home and community.']"
      ]
     },
     "execution_count": 99,
     "metadata": {},
     "output_type": "execute_result"
    }
   ],
   "source": [
    "life"
   ]
  },
  {
   "cell_type": "markdown",
   "id": "cf4500b4",
   "metadata": {},
   "source": [
    "## Lore "
   ]
  },
  {
   "cell_type": "code",
   "execution_count": 100,
   "id": "4b3c78ed",
   "metadata": {},
   "outputs": [],
   "source": [
    "url=\"https://www.dnd5eapi.co/api/subclasses/lore\""
   ]
  },
  {
   "cell_type": "code",
   "execution_count": 101,
   "id": "27c966c2",
   "metadata": {},
   "outputs": [],
   "source": [
    "lore=req.get(url)"
   ]
  },
  {
   "cell_type": "code",
   "execution_count": 102,
   "id": "f5c87bb0",
   "metadata": {},
   "outputs": [],
   "source": [
    "lore=lore.json()"
   ]
  },
  {
   "cell_type": "code",
   "execution_count": 104,
   "id": "a4fe51c0",
   "metadata": {},
   "outputs": [],
   "source": [
    "lore=[9, lore['name'], lore['class']['name'], str(lore['desc']).replace(\"[\",\"\").replace(\"]\",\"\").replace(\"'\",\"\").replace('\"',\"\")]"
   ]
  },
  {
   "cell_type": "code",
   "execution_count": 105,
   "id": "5c058a8c",
   "metadata": {},
   "outputs": [
    {
     "data": {
      "text/plain": [
       "[9,\n",
       " 'Lore',\n",
       " 'Bard',\n",
       " 'Bards of the College of Lore know something about most things, collecting bits of knowledge from sources as diverse as scholarly tomes and peasant tales. Whether singing folk ballads in taverns or elaborate compositions in royal courts, these bards use their gifts to hold audiences spellbound. When the applause dies down, the audience members might find themselves questioning everything they held to be true, from their faith in the priesthood of the local temple to their loyalty to the king. The loyalty of these bards lies in the pursuit of beauty and truth, not in fealty to a monarch or following the tenets of a deity. A noble who keeps such a bard as a herald or advisor knows that the bard would rather be honest than politic. The colleges members gather in libraries and sometimes in actual colleges, complete with classrooms and dormitories, to share their lore with one another. They also meet at festivals or affairs of state, where they can expose corruption, unravel lies, and poke fun at self-important figures of authority.']"
      ]
     },
     "execution_count": 105,
     "metadata": {},
     "output_type": "execute_result"
    }
   ],
   "source": [
    "lore"
   ]
  },
  {
   "cell_type": "markdown",
   "id": "6e59b804",
   "metadata": {},
   "source": [
    "## Open-hand "
   ]
  },
  {
   "cell_type": "code",
   "execution_count": 106,
   "id": "779d2838",
   "metadata": {},
   "outputs": [],
   "source": [
    "url=\"https://www.dnd5eapi.co/api/subclasses/open-hand\""
   ]
  },
  {
   "cell_type": "code",
   "execution_count": 107,
   "id": "b1a3c1e0",
   "metadata": {},
   "outputs": [],
   "source": [
    "openhand=req.get(url)"
   ]
  },
  {
   "cell_type": "code",
   "execution_count": 108,
   "id": "84227eda",
   "metadata": {},
   "outputs": [],
   "source": [
    "openhand=openhand.json()"
   ]
  },
  {
   "cell_type": "code",
   "execution_count": 109,
   "id": "363f4728",
   "metadata": {},
   "outputs": [],
   "source": [
    "openhand=[10, openhand['name'], openhand['class']['name'], str(openhand['desc']).replace(\"[\",\"\").replace(\"]\",\"\").replace(\"'\",\"\").replace('\"',\"\")]"
   ]
  },
  {
   "cell_type": "code",
   "execution_count": 110,
   "id": "4026eb53",
   "metadata": {},
   "outputs": [
    {
     "data": {
      "text/plain": [
       "[10,\n",
       " 'Open Hand',\n",
       " 'Monk',\n",
       " 'Monks of the Way of the Open Hand are the ultimate masters of martial arts combat, whether armed or unarmed. They learn techniques to push and trip their opponents, manipulate ki to heal damage to their bodies, and practice advanced meditation that can protect them from harm.']"
      ]
     },
     "execution_count": 110,
     "metadata": {},
     "output_type": "execute_result"
    }
   ],
   "source": [
    "openhand"
   ]
  },
  {
   "cell_type": "markdown",
   "id": "b3a149e7",
   "metadata": {},
   "source": [
    "## Thief "
   ]
  },
  {
   "cell_type": "code",
   "execution_count": 111,
   "id": "d1b086f2",
   "metadata": {},
   "outputs": [],
   "source": [
    "url=\"https://www.dnd5eapi.co/api/subclasses/thief\""
   ]
  },
  {
   "cell_type": "code",
   "execution_count": 112,
   "id": "c4fa30da",
   "metadata": {},
   "outputs": [],
   "source": [
    "thief=req.get(url)"
   ]
  },
  {
   "cell_type": "code",
   "execution_count": 113,
   "id": "29cfc53a",
   "metadata": {},
   "outputs": [],
   "source": [
    "thief=thief.json()"
   ]
  },
  {
   "cell_type": "code",
   "execution_count": 114,
   "id": "5d45afec",
   "metadata": {},
   "outputs": [],
   "source": [
    "thief=[11, thief['name'], thief['class']['name'], str(thief['desc']).replace(\"[\",\"\").replace(\"]\",\"\").replace(\"'\",\"\").replace('\"',\"\")]"
   ]
  },
  {
   "cell_type": "code",
   "execution_count": 115,
   "id": "dcd0595c",
   "metadata": {},
   "outputs": [
    {
     "data": {
      "text/plain": [
       "[11,\n",
       " 'Thief',\n",
       " 'Rogue',\n",
       " 'You hone your skills in the larcenous arts. Burglars, bandits, cutpurses, and other criminals typically follow this archetype, but so do rogues who prefer to think of themselves as professional treasure seekers, explorers, delvers, and investigators. In addition to improving your agility and stealth, you learn skills useful for delving into ancient ruins, reading unfamiliar languages, and using magic items you normally couldnt employ.']"
      ]
     },
     "execution_count": 115,
     "metadata": {},
     "output_type": "execute_result"
    }
   ],
   "source": [
    "thief"
   ]
  },
  {
   "cell_type": "markdown",
   "id": "c49b28fc",
   "metadata": {},
   "source": [
    "## Creación dataframe "
   ]
  },
  {
   "cell_type": "code",
   "execution_count": 118,
   "id": "2dd2c84c",
   "metadata": {},
   "outputs": [
    {
     "data": {
      "text/html": [
       "<div>\n",
       "<style scoped>\n",
       "    .dataframe tbody tr th:only-of-type {\n",
       "        vertical-align: middle;\n",
       "    }\n",
       "\n",
       "    .dataframe tbody tr th {\n",
       "        vertical-align: top;\n",
       "    }\n",
       "\n",
       "    .dataframe thead th {\n",
       "        text-align: right;\n",
       "    }\n",
       "</style>\n",
       "<table border=\"1\" class=\"dataframe\">\n",
       "  <thead>\n",
       "    <tr style=\"text-align: right;\">\n",
       "      <th></th>\n",
       "      <th>id_subclass</th>\n",
       "      <th>subclass_name</th>\n",
       "      <th>class_name</th>\n",
       "      <th>description</th>\n",
       "    </tr>\n",
       "  </thead>\n",
       "  <tbody>\n",
       "  </tbody>\n",
       "</table>\n",
       "</div>"
      ],
      "text/plain": [
       "Empty DataFrame\n",
       "Columns: [id_subclass, subclass_name, class_name, description]\n",
       "Index: []"
      ]
     },
     "execution_count": 118,
     "metadata": {},
     "output_type": "execute_result"
    }
   ],
   "source": [
    "columns=['id_subclass', 'subclass_name', 'class_name', 'description']\n",
    "subclass=pd.DataFrame(columns=columns)\n",
    "subclass"
   ]
  },
  {
   "cell_type": "code",
   "execution_count": 119,
   "id": "00813127",
   "metadata": {},
   "outputs": [],
   "source": [
    "subclass.loc[len(subclass)]= fiend\n",
    "subclass.loc[len(subclass)]= bers\n",
    "subclass.loc[len(subclass)]= champ\n",
    "subclass.loc[len(subclass)]= dev\n",
    "subclass.loc[len(subclass)]= evo\n",
    "subclass.loc[len(subclass)]= hunt\n",
    "subclass.loc[len(subclass)]= life\n",
    "subclass.loc[len(subclass)]= land\n",
    "subclass.loc[len(subclass)]= lore\n",
    "subclass.loc[len(subclass)]= openhand\n",
    "subclass.loc[len(subclass)]= thief"
   ]
  },
  {
   "cell_type": "code",
   "execution_count": 120,
   "id": "ff2c05ca",
   "metadata": {},
   "outputs": [
    {
     "data": {
      "text/html": [
       "<div>\n",
       "<style scoped>\n",
       "    .dataframe tbody tr th:only-of-type {\n",
       "        vertical-align: middle;\n",
       "    }\n",
       "\n",
       "    .dataframe tbody tr th {\n",
       "        vertical-align: top;\n",
       "    }\n",
       "\n",
       "    .dataframe thead th {\n",
       "        text-align: right;\n",
       "    }\n",
       "</style>\n",
       "<table border=\"1\" class=\"dataframe\">\n",
       "  <thead>\n",
       "    <tr style=\"text-align: right;\">\n",
       "      <th></th>\n",
       "      <th>id_subclass</th>\n",
       "      <th>subclass_name</th>\n",
       "      <th>class_name</th>\n",
       "      <th>description</th>\n",
       "    </tr>\n",
       "  </thead>\n",
       "  <tbody>\n",
       "    <tr>\n",
       "      <th>0</th>\n",
       "      <td>1</td>\n",
       "      <td>Fiend</td>\n",
       "      <td>Warlock</td>\n",
       "      <td>You have made a pact with a fiend from the low...</td>\n",
       "    </tr>\n",
       "    <tr>\n",
       "      <th>1</th>\n",
       "      <td>2</td>\n",
       "      <td>Berserker</td>\n",
       "      <td>Barbarian</td>\n",
       "      <td>For some barbarians, rage is a means to an end...</td>\n",
       "    </tr>\n",
       "    <tr>\n",
       "      <th>2</th>\n",
       "      <td>3</td>\n",
       "      <td>Champion</td>\n",
       "      <td>Fighter</td>\n",
       "      <td>The archetypal Champion focuses on the develop...</td>\n",
       "    </tr>\n",
       "    <tr>\n",
       "      <th>3</th>\n",
       "      <td>4</td>\n",
       "      <td>Devotion</td>\n",
       "      <td>Paladin</td>\n",
       "      <td>The Oath of Devotion binds a paladin to the lo...</td>\n",
       "    </tr>\n",
       "    <tr>\n",
       "      <th>4</th>\n",
       "      <td>5</td>\n",
       "      <td>Evocation</td>\n",
       "      <td>Wizard</td>\n",
       "      <td>You focus your study on magic that creates pow...</td>\n",
       "    </tr>\n",
       "    <tr>\n",
       "      <th>5</th>\n",
       "      <td>6</td>\n",
       "      <td>Hunter</td>\n",
       "      <td>Ranger</td>\n",
       "      <td>Emulating the Hunter archetype means accepting...</td>\n",
       "    </tr>\n",
       "    <tr>\n",
       "      <th>6</th>\n",
       "      <td>8</td>\n",
       "      <td>Life</td>\n",
       "      <td>Cleric</td>\n",
       "      <td>The Life domain focuses on the vibrant positiv...</td>\n",
       "    </tr>\n",
       "    <tr>\n",
       "      <th>7</th>\n",
       "      <td>7</td>\n",
       "      <td>Land</td>\n",
       "      <td>Druid</td>\n",
       "      <td>The Circle of the Land is made up of mystics a...</td>\n",
       "    </tr>\n",
       "    <tr>\n",
       "      <th>8</th>\n",
       "      <td>9</td>\n",
       "      <td>Lore</td>\n",
       "      <td>Bard</td>\n",
       "      <td>Bards of the College of Lore know something ab...</td>\n",
       "    </tr>\n",
       "    <tr>\n",
       "      <th>9</th>\n",
       "      <td>10</td>\n",
       "      <td>Open Hand</td>\n",
       "      <td>Monk</td>\n",
       "      <td>Monks of the Way of the Open Hand are the ulti...</td>\n",
       "    </tr>\n",
       "    <tr>\n",
       "      <th>10</th>\n",
       "      <td>11</td>\n",
       "      <td>Thief</td>\n",
       "      <td>Rogue</td>\n",
       "      <td>You hone your skills in the larcenous arts. Bu...</td>\n",
       "    </tr>\n",
       "  </tbody>\n",
       "</table>\n",
       "</div>"
      ],
      "text/plain": [
       "    id_subclass subclass_name class_name  \\\n",
       "0             1         Fiend    Warlock   \n",
       "1             2     Berserker  Barbarian   \n",
       "2             3      Champion    Fighter   \n",
       "3             4      Devotion    Paladin   \n",
       "4             5     Evocation     Wizard   \n",
       "5             6        Hunter     Ranger   \n",
       "6             8          Life     Cleric   \n",
       "7             7          Land      Druid   \n",
       "8             9          Lore       Bard   \n",
       "9            10     Open Hand       Monk   \n",
       "10           11         Thief      Rogue   \n",
       "\n",
       "                                          description  \n",
       "0   You have made a pact with a fiend from the low...  \n",
       "1   For some barbarians, rage is a means to an end...  \n",
       "2   The archetypal Champion focuses on the develop...  \n",
       "3   The Oath of Devotion binds a paladin to the lo...  \n",
       "4   You focus your study on magic that creates pow...  \n",
       "5   Emulating the Hunter archetype means accepting...  \n",
       "6   The Life domain focuses on the vibrant positiv...  \n",
       "7   The Circle of the Land is made up of mystics a...  \n",
       "8   Bards of the College of Lore know something ab...  \n",
       "9   Monks of the Way of the Open Hand are the ulti...  \n",
       "10  You hone your skills in the larcenous arts. Bu...  "
      ]
     },
     "execution_count": 120,
     "metadata": {},
     "output_type": "execute_result"
    }
   ],
   "source": [
    "subclass"
   ]
  },
  {
   "cell_type": "code",
   "execution_count": 122,
   "id": "5671e7dc",
   "metadata": {},
   "outputs": [],
   "source": [
    "subclass.to_csv('../data/clean/cl_subclass.csv', index=False)"
   ]
  },
  {
   "cell_type": "markdown",
   "id": "a835d4b0",
   "metadata": {},
   "source": [
    "Finalmente, será tabla informativa para el jugador."
   ]
  },
  {
   "cell_type": "markdown",
   "id": "2b693638",
   "metadata": {},
   "source": [
    "# Subraces"
   ]
  },
  {
   "cell_type": "markdown",
   "id": "e1e85ab2",
   "metadata": {},
   "source": [
    "## High-elf "
   ]
  },
  {
   "cell_type": "code",
   "execution_count": 173,
   "id": "14abcbda",
   "metadata": {},
   "outputs": [],
   "source": [
    "url=\"https://www.dnd5eapi.co/api/subraces/high-elf\""
   ]
  },
  {
   "cell_type": "code",
   "execution_count": 174,
   "id": "65e8e8c5",
   "metadata": {},
   "outputs": [],
   "source": [
    "helf=req.get(url)"
   ]
  },
  {
   "cell_type": "code",
   "execution_count": 175,
   "id": "1ab81fc2",
   "metadata": {},
   "outputs": [],
   "source": [
    "helf=helf.json()"
   ]
  },
  {
   "cell_type": "code",
   "execution_count": 178,
   "id": "1d71a455",
   "metadata": {},
   "outputs": [],
   "source": [
    "helf=[1, \n",
    "      helf['name'], \n",
    "      helf['race']['name'], \n",
    "      helf['desc'],\n",
    "      str([e['ability_score']['name']+'+'+str(e['bonus']) for e in helf['ability_bonuses']]).replace(\"[\",\"\").replace(\"]\",\"\").replace(\"'\",\"\").replace('\"',\"\"),\n",
    "      str([e['name'] for e in helf['starting_proficiencies']]).replace(\"[\",\"\").replace(\"]\",\"\").replace(\"'\",\"\").replace('\"',\"\"), \n",
    "      \"Choose \"+str(helf['language_options']['choose'])+'more language',\n",
    "str([e['name'] for e in helf['racial_traits']]).replace(\"[\",\"\").replace(\"]\",\"\").replace(\"'\",\"\").replace('\"',\"\")]"
   ]
  },
  {
   "cell_type": "code",
   "execution_count": 179,
   "id": "34901355",
   "metadata": {},
   "outputs": [
    {
     "data": {
      "text/plain": [
       "[1,\n",
       " 'High Elf',\n",
       " 'Elf',\n",
       " 'As a high elf, you have a keen mind and a mastery of at least the basics of magic. In many fantasy gaming worlds, there are two kinds of high elves. One type is haughty and reclusive, believing themselves to be superior to non-elves and even other elves. The other type is more common and more friendly, and often encountered among humans and other races.',\n",
       " 'INT+1',\n",
       " 'Longswords, Shortswords, Shortbows, Longbows',\n",
       " 'Choose 1more language',\n",
       " 'Elf Weapon Training, High Elf Cantrip, Extra Language']"
      ]
     },
     "execution_count": 179,
     "metadata": {},
     "output_type": "execute_result"
    }
   ],
   "source": [
    "helf"
   ]
  },
  {
   "cell_type": "markdown",
   "id": "f4916960",
   "metadata": {},
   "source": [
    "## Hill-dwarf "
   ]
  },
  {
   "cell_type": "code",
   "execution_count": 143,
   "id": "3dc9bbb0",
   "metadata": {},
   "outputs": [],
   "source": [
    "url=\"https://www.dnd5eapi.co/api/subraces/hill-dwarf\""
   ]
  },
  {
   "cell_type": "code",
   "execution_count": 144,
   "id": "8b77e9ff",
   "metadata": {},
   "outputs": [],
   "source": [
    "hdw=req.get(url)"
   ]
  },
  {
   "cell_type": "code",
   "execution_count": 145,
   "id": "e72f79c5",
   "metadata": {},
   "outputs": [],
   "source": [
    "hdw=hdw.json()"
   ]
  },
  {
   "cell_type": "code",
   "execution_count": 146,
   "id": "ba1c4a5f",
   "metadata": {},
   "outputs": [
    {
     "data": {
      "text/plain": [
       "{'index': 'hill-dwarf',\n",
       " 'name': 'Hill Dwarf',\n",
       " 'race': {'index': 'dwarf', 'name': 'Dwarf', 'url': '/api/races/dwarf'},\n",
       " 'desc': 'As a hill dwarf, you have keen senses, deep intuition, and remarkable resilience.',\n",
       " 'ability_bonuses': [{'ability_score': {'index': 'wis',\n",
       "    'name': 'WIS',\n",
       "    'url': '/api/ability-scores/wis'},\n",
       "   'bonus': 1}],\n",
       " 'starting_proficiencies': [],\n",
       " 'languages': [],\n",
       " 'racial_traits': [{'index': 'dwarven-toughness',\n",
       "   'name': 'Dwarven Toughness',\n",
       "   'url': '/api/traits/dwarven-toughness'}],\n",
       " 'url': '/api/subraces/hill-dwarf'}"
      ]
     },
     "execution_count": 146,
     "metadata": {},
     "output_type": "execute_result"
    }
   ],
   "source": [
    "hdw"
   ]
  },
  {
   "cell_type": "code",
   "execution_count": 181,
   "id": "3f80fcfa",
   "metadata": {},
   "outputs": [],
   "source": [
    "hdw=[2, \n",
    "      hdw['name'], \n",
    "      hdw['race']['name'], \n",
    "      hdw['desc'],\n",
    "      str([e['ability_score']['name']+'+'+str(e['bonus']) for e in hdw['ability_bonuses']]).replace(\"[\",\"\").replace(\"]\",\"\").replace(\"'\",\"\").replace('\"',\"\"),\n",
    "      str(hdw['starting_proficiencies']).replace(\"[]\",\"None\"), \n",
    "      str(hdw['languages']).replace(\"[]\",\"None\"),\n",
    "str([e['name'] for e in hdw['racial_traits']]).replace(\"[\",\"\").replace(\"]\",\"\").replace(\"'\",\"\").replace('\"',\"\")]\n",
    "\n"
   ]
  },
  {
   "cell_type": "code",
   "execution_count": 182,
   "id": "aafb6dff",
   "metadata": {},
   "outputs": [
    {
     "data": {
      "text/plain": [
       "[2,\n",
       " 'Hill Dwarf',\n",
       " 'Dwarf',\n",
       " 'As a hill dwarf, you have keen senses, deep intuition, and remarkable resilience.',\n",
       " 'WIS+1',\n",
       " 'None',\n",
       " 'None',\n",
       " 'Dwarven Toughness']"
      ]
     },
     "execution_count": 182,
     "metadata": {},
     "output_type": "execute_result"
    }
   ],
   "source": [
    "hdw"
   ]
  },
  {
   "cell_type": "markdown",
   "id": "74cd0188",
   "metadata": {},
   "source": [
    "## Lighfoot-halfling "
   ]
  },
  {
   "cell_type": "code",
   "execution_count": 183,
   "id": "5f0c563a",
   "metadata": {},
   "outputs": [],
   "source": [
    "url=\"https://www.dnd5eapi.co/api/subraces/lightfoot-halfling\""
   ]
  },
  {
   "cell_type": "code",
   "execution_count": 184,
   "id": "26913325",
   "metadata": {},
   "outputs": [],
   "source": [
    "half=req.get(url)"
   ]
  },
  {
   "cell_type": "code",
   "execution_count": 185,
   "id": "534829c4",
   "metadata": {},
   "outputs": [],
   "source": [
    "half=half.json()"
   ]
  },
  {
   "cell_type": "code",
   "execution_count": 187,
   "id": "4a58914e",
   "metadata": {},
   "outputs": [],
   "source": [
    "half=[3, \n",
    "      half['name'], \n",
    "      half['race']['name'], \n",
    "      half['desc'],\n",
    "      str([e['ability_score']['name']+'+'+str(e['bonus']) for e in half['ability_bonuses']]).replace(\"[\",\"\").replace(\"]\",\"\").replace(\"'\",\"\").replace('\"',\"\"),\n",
    "      str(half['starting_proficiencies']).replace(\"[]\",\"None\"), \n",
    "      str(half['languages']).replace(\"[]\",\"None\"),\n",
    "str([e['name'] for e in half['racial_traits']]).replace(\"[\",\"\").replace(\"]\",\"\").replace(\"'\",\"\").replace('\"',\"\")]\n",
    "\n"
   ]
  },
  {
   "cell_type": "code",
   "execution_count": 188,
   "id": "0fe38b24",
   "metadata": {},
   "outputs": [
    {
     "data": {
      "text/plain": [
       "[3,\n",
       " 'Lightfoot Halfling',\n",
       " 'Halfling',\n",
       " \"As a lightfoot halfling, you can easily hide from notice, even using other people as cover. You're inclined to be affable and get along well with others. Lightfoots are more prone to wanderlust than other halflings, and often dwell alongside other races or take up a nomadic life.\",\n",
       " 'CHA+1',\n",
       " 'None',\n",
       " 'None',\n",
       " 'Naturally Stealthy']"
      ]
     },
     "execution_count": 188,
     "metadata": {},
     "output_type": "execute_result"
    }
   ],
   "source": [
    "half"
   ]
  },
  {
   "cell_type": "markdown",
   "id": "37be380c",
   "metadata": {},
   "source": [
    "## Rock-gnome "
   ]
  },
  {
   "cell_type": "code",
   "execution_count": 189,
   "id": "29eaaca5",
   "metadata": {},
   "outputs": [],
   "source": [
    "url=\"https://www.dnd5eapi.co/api/subraces/rock-gnome\""
   ]
  },
  {
   "cell_type": "code",
   "execution_count": 190,
   "id": "ebf675f1",
   "metadata": {},
   "outputs": [],
   "source": [
    "gnome=req.get(url)"
   ]
  },
  {
   "cell_type": "code",
   "execution_count": 191,
   "id": "0426fd46",
   "metadata": {},
   "outputs": [],
   "source": [
    "gnome=gnome.json()"
   ]
  },
  {
   "cell_type": "code",
   "execution_count": 194,
   "id": "ec2f0079",
   "metadata": {},
   "outputs": [],
   "source": [
    "gnome=[4, \n",
    "      gnome['name'], \n",
    "      gnome['race']['name'], \n",
    "      gnome['desc'],\n",
    "      str([e['ability_score']['name']+'+'+str(e['bonus']) for e in gnome['ability_bonuses']]).replace(\"[\",\"\").replace(\"]\",\"\").replace(\"'\",\"\").replace('\"',\"\"),\n",
    "      str([e['name'] for e in gnome['starting_proficiencies']]).replace(\"[\",\"\").replace(\"]\",\"\").replace(\"'\",\"\").replace('\"',\"\"), \n",
    "      str(gnome['languages']).replace(\"[]\",\"None\"),\n",
    "str([e['name'] for e in gnome['racial_traits']]).replace(\"[\",\"\").replace(\"]\",\"\").replace(\"'\",\"\").replace('\"',\"\")]"
   ]
  },
  {
   "cell_type": "code",
   "execution_count": 195,
   "id": "cf90cf1b",
   "metadata": {},
   "outputs": [
    {
     "data": {
      "text/plain": [
       "[4,\n",
       " 'Rock Gnome',\n",
       " 'Gnome',\n",
       " 'As a rock gnome, you have a natural inventiveness and hardiness beyond that of other gnomes.',\n",
       " 'CON+1',\n",
       " 'Tinkers Tools',\n",
       " 'None',\n",
       " 'Artificers Lore, Tinker']"
      ]
     },
     "execution_count": 195,
     "metadata": {},
     "output_type": "execute_result"
    }
   ],
   "source": [
    "gnome"
   ]
  },
  {
   "cell_type": "markdown",
   "id": "06279f85",
   "metadata": {},
   "source": [
    "## Creación dataframe "
   ]
  },
  {
   "cell_type": "code",
   "execution_count": 196,
   "id": "bac7a72c",
   "metadata": {},
   "outputs": [
    {
     "data": {
      "text/html": [
       "<div>\n",
       "<style scoped>\n",
       "    .dataframe tbody tr th:only-of-type {\n",
       "        vertical-align: middle;\n",
       "    }\n",
       "\n",
       "    .dataframe tbody tr th {\n",
       "        vertical-align: top;\n",
       "    }\n",
       "\n",
       "    .dataframe thead th {\n",
       "        text-align: right;\n",
       "    }\n",
       "</style>\n",
       "<table border=\"1\" class=\"dataframe\">\n",
       "  <thead>\n",
       "    <tr style=\"text-align: right;\">\n",
       "      <th></th>\n",
       "      <th>id_subrace</th>\n",
       "      <th>subrace_name</th>\n",
       "      <th>race_name</th>\n",
       "      <th>description</th>\n",
       "      <th>bonus</th>\n",
       "      <th>proficiencies_start</th>\n",
       "      <th>language_options</th>\n",
       "      <th>ratial_traits</th>\n",
       "    </tr>\n",
       "  </thead>\n",
       "  <tbody>\n",
       "  </tbody>\n",
       "</table>\n",
       "</div>"
      ],
      "text/plain": [
       "Empty DataFrame\n",
       "Columns: [id_subrace, subrace_name, race_name, description, bonus, proficiencies_start, language_options, ratial_traits]\n",
       "Index: []"
      ]
     },
     "execution_count": 196,
     "metadata": {},
     "output_type": "execute_result"
    }
   ],
   "source": [
    "columns=['id_subrace', 'subrace_name', 'race_name', 'description', 'bonus', 'proficiencies_start', 'language_options', 'ratial_traits']\n",
    "subraces=pd.DataFrame(columns=columns)\n",
    "subraces"
   ]
  },
  {
   "cell_type": "code",
   "execution_count": 197,
   "id": "545128fb",
   "metadata": {},
   "outputs": [],
   "source": [
    "subraces.loc[len(subraces)]= helf\n",
    "subraces.loc[len(subraces)]= hdw\n",
    "subraces.loc[len(subraces)]= half\n",
    "subraces.loc[len(subraces)]= gnome"
   ]
  },
  {
   "cell_type": "code",
   "execution_count": 198,
   "id": "63f15dc8",
   "metadata": {},
   "outputs": [
    {
     "data": {
      "text/html": [
       "<div>\n",
       "<style scoped>\n",
       "    .dataframe tbody tr th:only-of-type {\n",
       "        vertical-align: middle;\n",
       "    }\n",
       "\n",
       "    .dataframe tbody tr th {\n",
       "        vertical-align: top;\n",
       "    }\n",
       "\n",
       "    .dataframe thead th {\n",
       "        text-align: right;\n",
       "    }\n",
       "</style>\n",
       "<table border=\"1\" class=\"dataframe\">\n",
       "  <thead>\n",
       "    <tr style=\"text-align: right;\">\n",
       "      <th></th>\n",
       "      <th>id_subrace</th>\n",
       "      <th>subrace_name</th>\n",
       "      <th>race_name</th>\n",
       "      <th>description</th>\n",
       "      <th>bonus</th>\n",
       "      <th>proficiencies_start</th>\n",
       "      <th>language_options</th>\n",
       "      <th>ratial_traits</th>\n",
       "    </tr>\n",
       "  </thead>\n",
       "  <tbody>\n",
       "    <tr>\n",
       "      <th>0</th>\n",
       "      <td>1</td>\n",
       "      <td>High Elf</td>\n",
       "      <td>Elf</td>\n",
       "      <td>As a high elf, you have a keen mind and a mast...</td>\n",
       "      <td>INT+1</td>\n",
       "      <td>Longswords, Shortswords, Shortbows, Longbows</td>\n",
       "      <td>Choose 1more language</td>\n",
       "      <td>Elf Weapon Training, High Elf Cantrip, Extra L...</td>\n",
       "    </tr>\n",
       "    <tr>\n",
       "      <th>1</th>\n",
       "      <td>2</td>\n",
       "      <td>Hill Dwarf</td>\n",
       "      <td>Dwarf</td>\n",
       "      <td>As a hill dwarf, you have keen senses, deep in...</td>\n",
       "      <td>WIS+1</td>\n",
       "      <td>None</td>\n",
       "      <td>None</td>\n",
       "      <td>Dwarven Toughness</td>\n",
       "    </tr>\n",
       "    <tr>\n",
       "      <th>2</th>\n",
       "      <td>3</td>\n",
       "      <td>Lightfoot Halfling</td>\n",
       "      <td>Halfling</td>\n",
       "      <td>As a lightfoot halfling, you can easily hide f...</td>\n",
       "      <td>CHA+1</td>\n",
       "      <td>None</td>\n",
       "      <td>None</td>\n",
       "      <td>Naturally Stealthy</td>\n",
       "    </tr>\n",
       "    <tr>\n",
       "      <th>3</th>\n",
       "      <td>4</td>\n",
       "      <td>Rock Gnome</td>\n",
       "      <td>Gnome</td>\n",
       "      <td>As a rock gnome, you have a natural inventiven...</td>\n",
       "      <td>CON+1</td>\n",
       "      <td>Tinkers Tools</td>\n",
       "      <td>None</td>\n",
       "      <td>Artificers Lore, Tinker</td>\n",
       "    </tr>\n",
       "  </tbody>\n",
       "</table>\n",
       "</div>"
      ],
      "text/plain": [
       "   id_subrace        subrace_name race_name  \\\n",
       "0           1            High Elf       Elf   \n",
       "1           2          Hill Dwarf     Dwarf   \n",
       "2           3  Lightfoot Halfling  Halfling   \n",
       "3           4          Rock Gnome     Gnome   \n",
       "\n",
       "                                         description  bonus  \\\n",
       "0  As a high elf, you have a keen mind and a mast...  INT+1   \n",
       "1  As a hill dwarf, you have keen senses, deep in...  WIS+1   \n",
       "2  As a lightfoot halfling, you can easily hide f...  CHA+1   \n",
       "3  As a rock gnome, you have a natural inventiven...  CON+1   \n",
       "\n",
       "                            proficiencies_start       language_options  \\\n",
       "0  Longswords, Shortswords, Shortbows, Longbows  Choose 1more language   \n",
       "1                                          None                   None   \n",
       "2                                          None                   None   \n",
       "3                                 Tinkers Tools                   None   \n",
       "\n",
       "                                       ratial_traits  \n",
       "0  Elf Weapon Training, High Elf Cantrip, Extra L...  \n",
       "1                                  Dwarven Toughness  \n",
       "2                                 Naturally Stealthy  \n",
       "3                            Artificers Lore, Tinker  "
      ]
     },
     "execution_count": 198,
     "metadata": {},
     "output_type": "execute_result"
    }
   ],
   "source": [
    "subraces"
   ]
  },
  {
   "cell_type": "code",
   "execution_count": 199,
   "id": "9bc66684",
   "metadata": {},
   "outputs": [],
   "source": [
    "subraces.to_csv('../data/clean/cl_subraces.csv', index=False)"
   ]
  },
  {
   "cell_type": "markdown",
   "id": "b27f2ddb",
   "metadata": {},
   "source": [
    "Finalmente, se emplea como tabla informativa para el jugador."
   ]
  },
  {
   "cell_type": "markdown",
   "id": "823de363",
   "metadata": {},
   "source": [
    "# Languages"
   ]
  },
  {
   "cell_type": "markdown",
   "id": "a7469b33",
   "metadata": {},
   "source": [
    "## Creación de dataframe "
   ]
  },
  {
   "cell_type": "code",
   "execution_count": 235,
   "id": "c6a877a4",
   "metadata": {},
   "outputs": [
    {
     "data": {
      "text/html": [
       "<div>\n",
       "<style scoped>\n",
       "    .dataframe tbody tr th:only-of-type {\n",
       "        vertical-align: middle;\n",
       "    }\n",
       "\n",
       "    .dataframe tbody tr th {\n",
       "        vertical-align: top;\n",
       "    }\n",
       "\n",
       "    .dataframe thead th {\n",
       "        text-align: right;\n",
       "    }\n",
       "</style>\n",
       "<table border=\"1\" class=\"dataframe\">\n",
       "  <thead>\n",
       "    <tr style=\"text-align: right;\">\n",
       "      <th></th>\n",
       "      <th>id_languages</th>\n",
       "      <th>language_name</th>\n",
       "      <th>description</th>\n",
       "      <th>type</th>\n",
       "      <th>speakers</th>\n",
       "      <th>script</th>\n",
       "    </tr>\n",
       "  </thead>\n",
       "  <tbody>\n",
       "  </tbody>\n",
       "</table>\n",
       "</div>"
      ],
      "text/plain": [
       "Empty DataFrame\n",
       "Columns: [id_languages, language_name, description, type, speakers, script]\n",
       "Index: []"
      ]
     },
     "execution_count": 235,
     "metadata": {},
     "output_type": "execute_result"
    }
   ],
   "source": [
    "columns=['id_languages','language_name', 'description', 'type', 'speakers', 'script']\n",
    "languages=pd.DataFrame(columns=columns)\n",
    "languages"
   ]
  },
  {
   "cell_type": "markdown",
   "id": "a152bb0c",
   "metadata": {},
   "source": [
    "## Abyssal "
   ]
  },
  {
   "cell_type": "code",
   "execution_count": 252,
   "id": "47fc7d02",
   "metadata": {},
   "outputs": [],
   "source": [
    "url=\"https://www.dnd5eapi.co/api/languages/abyssal\""
   ]
  },
  {
   "cell_type": "code",
   "execution_count": 253,
   "id": "a53af39b",
   "metadata": {},
   "outputs": [],
   "source": [
    "abc=req.get(url)"
   ]
  },
  {
   "cell_type": "code",
   "execution_count": 254,
   "id": "dacb873e",
   "metadata": {},
   "outputs": [],
   "source": [
    "abc=abc.json()"
   ]
  },
  {
   "cell_type": "code",
   "execution_count": 256,
   "id": "ab0c5456",
   "metadata": {},
   "outputs": [],
   "source": [
    "abc=[1,\n",
    "     abc['name'],\n",
    "     'None',\n",
    "     abc['type'],\n",
    "     str(abc['typical_speakers']).replace(\"[\",\"\").replace(\"]\",\"\").replace(\"'\",\"\"),\n",
    "     abc['script']]"
   ]
  },
  {
   "cell_type": "code",
   "execution_count": 257,
   "id": "3be13774",
   "metadata": {},
   "outputs": [
    {
     "data": {
      "text/plain": [
       "[1, 'Abyssal', 'None', 'Exotic', 'Demons', 'Infernal']"
      ]
     },
     "execution_count": 257,
     "metadata": {},
     "output_type": "execute_result"
    }
   ],
   "source": [
    "abc"
   ]
  },
  {
   "cell_type": "code",
   "execution_count": 258,
   "id": "5aee21a2",
   "metadata": {},
   "outputs": [],
   "source": [
    "languages.loc[len(languages)]= abc"
   ]
  },
  {
   "cell_type": "markdown",
   "id": "a771d9a0",
   "metadata": {},
   "source": [
    "## Celestial "
   ]
  },
  {
   "cell_type": "code",
   "execution_count": 259,
   "id": "d8f292ac",
   "metadata": {},
   "outputs": [],
   "source": [
    "url=\"https://www.dnd5eapi.co/api/languages/abyssal\""
   ]
  },
  {
   "cell_type": "code",
   "execution_count": 260,
   "id": "e55c5c7b",
   "metadata": {},
   "outputs": [],
   "source": [
    "abc=req.get(url)"
   ]
  },
  {
   "cell_type": "code",
   "execution_count": 261,
   "id": "3a437965",
   "metadata": {},
   "outputs": [],
   "source": [
    "abc=abc.json()"
   ]
  },
  {
   "cell_type": "code",
   "execution_count": 263,
   "id": "115e4986",
   "metadata": {},
   "outputs": [],
   "source": [
    "abc=[2,\n",
    "     abc['name'],\n",
    "     'None',\n",
    "     abc['type'],\n",
    "     str(abc['typical_speakers']).replace(\"[\",\"\").replace(\"]\",\"\").replace(\"'\",\"\"),\n",
    "     abc['script']]"
   ]
  },
  {
   "cell_type": "code",
   "execution_count": 264,
   "id": "d5ffe3e6",
   "metadata": {},
   "outputs": [
    {
     "data": {
      "text/plain": [
       "[2, 'Abyssal', 'None', 'Exotic', 'Demons', 'Infernal']"
      ]
     },
     "execution_count": 264,
     "metadata": {},
     "output_type": "execute_result"
    }
   ],
   "source": [
    "abc"
   ]
  },
  {
   "cell_type": "code",
   "execution_count": 265,
   "id": "f28a7654",
   "metadata": {},
   "outputs": [],
   "source": [
    "languages.loc[len(languages)]= abc"
   ]
  },
  {
   "cell_type": "markdown",
   "id": "bca9f48a",
   "metadata": {},
   "source": [
    "## Common "
   ]
  },
  {
   "cell_type": "code",
   "execution_count": 266,
   "id": "4817235d",
   "metadata": {},
   "outputs": [],
   "source": [
    "url=\"https://www.dnd5eapi.co/api/languages/common\""
   ]
  },
  {
   "cell_type": "code",
   "execution_count": 267,
   "id": "413a1a22",
   "metadata": {},
   "outputs": [],
   "source": [
    "abc=req.get(url)"
   ]
  },
  {
   "cell_type": "code",
   "execution_count": 268,
   "id": "2b611e2a",
   "metadata": {},
   "outputs": [],
   "source": [
    "abc=abc.json()"
   ]
  },
  {
   "cell_type": "code",
   "execution_count": 270,
   "id": "735ca4e6",
   "metadata": {},
   "outputs": [],
   "source": [
    "abc=[3,\n",
    "     abc['name'],\n",
    "     'None',\n",
    "     abc['type'],\n",
    "     str(abc['typical_speakers']).replace(\"[\",\"\").replace(\"]\",\"\").replace(\"'\",\"\"),\n",
    "     abc['script']]"
   ]
  },
  {
   "cell_type": "code",
   "execution_count": 271,
   "id": "5e1b7010",
   "metadata": {},
   "outputs": [
    {
     "data": {
      "text/plain": [
       "[3, 'Common', 'None', 'Standard', 'Humans', 'Common']"
      ]
     },
     "execution_count": 271,
     "metadata": {},
     "output_type": "execute_result"
    }
   ],
   "source": [
    "abc"
   ]
  },
  {
   "cell_type": "code",
   "execution_count": 272,
   "id": "c170a52b",
   "metadata": {},
   "outputs": [],
   "source": [
    "languages.loc[len(languages)]= abc"
   ]
  },
  {
   "cell_type": "markdown",
   "id": "3a5a4465",
   "metadata": {},
   "source": [
    "## Deep-speech "
   ]
  },
  {
   "cell_type": "code",
   "execution_count": 273,
   "id": "d61226b0",
   "metadata": {},
   "outputs": [],
   "source": [
    "url=\"https://www.dnd5eapi.co/api/languages/deep-speech\""
   ]
  },
  {
   "cell_type": "code",
   "execution_count": 274,
   "id": "cf454d09",
   "metadata": {},
   "outputs": [],
   "source": [
    "abc=req.get(url)"
   ]
  },
  {
   "cell_type": "code",
   "execution_count": 275,
   "id": "6bea3ed6",
   "metadata": {},
   "outputs": [],
   "source": [
    "abc=abc.json()"
   ]
  },
  {
   "cell_type": "code",
   "execution_count": 278,
   "id": "ee390e11",
   "metadata": {},
   "outputs": [],
   "source": [
    "abc=[4,\n",
    "     abc['name'],\n",
    "     'None',\n",
    "     abc['type'],\n",
    "     str(abc['typical_speakers']).replace(\"[\",\"\").replace(\"]\",\"\").replace(\"'\",\"\"),\n",
    "     'None']"
   ]
  },
  {
   "cell_type": "code",
   "execution_count": 279,
   "id": "6ee83598",
   "metadata": {},
   "outputs": [
    {
     "data": {
      "text/plain": [
       "[4, 'Deep Speech', 'None', 'Exotic', 'Aboleths, Cloakers', 'None']"
      ]
     },
     "execution_count": 279,
     "metadata": {},
     "output_type": "execute_result"
    }
   ],
   "source": [
    "abc"
   ]
  },
  {
   "cell_type": "code",
   "execution_count": 280,
   "id": "da6fb24a",
   "metadata": {},
   "outputs": [],
   "source": [
    "languages.loc[len(languages)]= abc"
   ]
  },
  {
   "cell_type": "markdown",
   "id": "0457b189",
   "metadata": {},
   "source": [
    "## Draconic "
   ]
  },
  {
   "cell_type": "code",
   "execution_count": 281,
   "id": "6b8deb9c",
   "metadata": {},
   "outputs": [],
   "source": [
    "url=\"https://www.dnd5eapi.co/api/languages/draconic\""
   ]
  },
  {
   "cell_type": "code",
   "execution_count": 282,
   "id": "c33b917b",
   "metadata": {},
   "outputs": [],
   "source": [
    "abc=req.get(url)"
   ]
  },
  {
   "cell_type": "code",
   "execution_count": 283,
   "id": "8e627ed6",
   "metadata": {},
   "outputs": [],
   "source": [
    "abc=abc.json()"
   ]
  },
  {
   "cell_type": "code",
   "execution_count": 284,
   "id": "ce7d8022",
   "metadata": {},
   "outputs": [],
   "source": [
    "abc=[5,\n",
    "     abc['name'],\n",
    "     abc['desc'],\n",
    "     abc['type'],\n",
    "     str(abc['typical_speakers']).replace(\"[\",\"\").replace(\"]\",\"\").replace(\"'\",\"\"),\n",
    "     abc['script']]"
   ]
  },
  {
   "cell_type": "code",
   "execution_count": 285,
   "id": "88cb413e",
   "metadata": {},
   "outputs": [
    {
     "data": {
      "text/plain": [
       "[5,\n",
       " 'Draconic',\n",
       " 'Draconic is thought to be one of the oldest languages and is often used in the study of magic. The language sounds harsh to most other creatures and includes numerous hard consonants and sibilants.',\n",
       " 'Exotic',\n",
       " 'Dragons, Dragonborn',\n",
       " 'Draconic']"
      ]
     },
     "execution_count": 285,
     "metadata": {},
     "output_type": "execute_result"
    }
   ],
   "source": [
    "abc"
   ]
  },
  {
   "cell_type": "code",
   "execution_count": 286,
   "id": "ca307081",
   "metadata": {},
   "outputs": [],
   "source": [
    "languages.loc[len(languages)]= abc"
   ]
  },
  {
   "cell_type": "markdown",
   "id": "ef721c7b",
   "metadata": {},
   "source": [
    "## Dwarvish "
   ]
  },
  {
   "cell_type": "code",
   "execution_count": 287,
   "id": "1900d114",
   "metadata": {},
   "outputs": [],
   "source": [
    "url=\"https://www.dnd5eapi.co/api/languages/dwarvish\""
   ]
  },
  {
   "cell_type": "code",
   "execution_count": 288,
   "id": "449f456d",
   "metadata": {},
   "outputs": [],
   "source": [
    "abc=req.get(url)"
   ]
  },
  {
   "cell_type": "code",
   "execution_count": 289,
   "id": "53d1a359",
   "metadata": {},
   "outputs": [],
   "source": [
    "abc=abc.json()"
   ]
  },
  {
   "cell_type": "code",
   "execution_count": 290,
   "id": "7858885f",
   "metadata": {},
   "outputs": [],
   "source": [
    "abc=[6,\n",
    "     abc['name'],\n",
    "     abc['desc'],\n",
    "     abc['type'],\n",
    "     str(abc['typical_speakers']).replace(\"[\",\"\").replace(\"]\",\"\").replace(\"'\",\"\"),\n",
    "     abc['script']]"
   ]
  },
  {
   "cell_type": "code",
   "execution_count": 291,
   "id": "49a38247",
   "metadata": {},
   "outputs": [
    {
     "data": {
      "text/plain": [
       "[6,\n",
       " 'Dwarvish',\n",
       " 'Dwarvish is full of hard consonants and guttural sounds.',\n",
       " 'Standard',\n",
       " 'Dwarves',\n",
       " 'Dwarvish']"
      ]
     },
     "execution_count": 291,
     "metadata": {},
     "output_type": "execute_result"
    }
   ],
   "source": [
    "abc"
   ]
  },
  {
   "cell_type": "code",
   "execution_count": 292,
   "id": "ac60b9e9",
   "metadata": {},
   "outputs": [],
   "source": [
    "languages.loc[len(languages)]= abc"
   ]
  },
  {
   "cell_type": "markdown",
   "id": "d353d60d",
   "metadata": {},
   "source": [
    "## Elvish "
   ]
  },
  {
   "cell_type": "code",
   "execution_count": 293,
   "id": "f6525c14",
   "metadata": {},
   "outputs": [],
   "source": [
    "url=\"https://www.dnd5eapi.co/api/languages/elvish\""
   ]
  },
  {
   "cell_type": "code",
   "execution_count": 294,
   "id": "6fadefcc",
   "metadata": {},
   "outputs": [],
   "source": [
    "abc=req.get(url)"
   ]
  },
  {
   "cell_type": "code",
   "execution_count": 295,
   "id": "86c066af",
   "metadata": {},
   "outputs": [],
   "source": [
    "abc=abc.json()"
   ]
  },
  {
   "cell_type": "code",
   "execution_count": 296,
   "id": "d2218884",
   "metadata": {},
   "outputs": [],
   "source": [
    "abc=[7,\n",
    "     abc['name'],\n",
    "     abc['desc'],\n",
    "     abc['type'],\n",
    "     str(abc['typical_speakers']).replace(\"[\",\"\").replace(\"]\",\"\").replace(\"'\",\"\"),\n",
    "     abc['script']]"
   ]
  },
  {
   "cell_type": "code",
   "execution_count": 297,
   "id": "70a3e376",
   "metadata": {},
   "outputs": [
    {
     "data": {
      "text/plain": [
       "[7,\n",
       " 'Elvish',\n",
       " 'Elvish is fluid, with subtle intonations and intricate grammar. Elven literature is rich and varied, and their songs and poems are famous among other races. Many bards learn their language so they can add Elvish ballads to their repertoires.',\n",
       " 'Standard',\n",
       " 'Elves',\n",
       " 'Elvish']"
      ]
     },
     "execution_count": 297,
     "metadata": {},
     "output_type": "execute_result"
    }
   ],
   "source": [
    "abc"
   ]
  },
  {
   "cell_type": "code",
   "execution_count": 298,
   "id": "b86f0ec6",
   "metadata": {},
   "outputs": [],
   "source": [
    "languages.loc[len(languages)]= abc"
   ]
  },
  {
   "cell_type": "markdown",
   "id": "85e205e9",
   "metadata": {},
   "source": [
    "## Giant "
   ]
  },
  {
   "cell_type": "code",
   "execution_count": 299,
   "id": "2ab08326",
   "metadata": {},
   "outputs": [],
   "source": [
    "url=\"https://www.dnd5eapi.co/api/languages/giant\""
   ]
  },
  {
   "cell_type": "code",
   "execution_count": 300,
   "id": "ea2df3cb",
   "metadata": {},
   "outputs": [],
   "source": [
    "abc=req.get(url)"
   ]
  },
  {
   "cell_type": "code",
   "execution_count": 301,
   "id": "cc3a3ba1",
   "metadata": {},
   "outputs": [],
   "source": [
    "abc=abc.json()"
   ]
  },
  {
   "cell_type": "code",
   "execution_count": 303,
   "id": "d04dee6b",
   "metadata": {},
   "outputs": [],
   "source": [
    "abc=[8,\n",
    "     abc['name'],\n",
    "     'None',\n",
    "     abc['type'],\n",
    "     str(abc['typical_speakers']).replace(\"[\",\"\").replace(\"]\",\"\").replace(\"'\",\"\"),\n",
    "     abc['script']]"
   ]
  },
  {
   "cell_type": "code",
   "execution_count": 304,
   "id": "84670cbc",
   "metadata": {},
   "outputs": [
    {
     "data": {
      "text/plain": [
       "[8, 'Giant', 'None', 'Standard', 'Ogres, Giants', 'Dwarvish']"
      ]
     },
     "execution_count": 304,
     "metadata": {},
     "output_type": "execute_result"
    }
   ],
   "source": [
    "abc"
   ]
  },
  {
   "cell_type": "code",
   "execution_count": 305,
   "id": "c2354be5",
   "metadata": {},
   "outputs": [],
   "source": [
    "languages.loc[len(languages)]= abc"
   ]
  },
  {
   "cell_type": "markdown",
   "id": "1d6011af",
   "metadata": {},
   "source": [
    "##  Gnomish"
   ]
  },
  {
   "cell_type": "code",
   "execution_count": 306,
   "id": "f806a887",
   "metadata": {},
   "outputs": [],
   "source": [
    "url=\"https://www.dnd5eapi.co/api/languages/gnomish\""
   ]
  },
  {
   "cell_type": "code",
   "execution_count": 307,
   "id": "acfaabbf",
   "metadata": {},
   "outputs": [],
   "source": [
    "abc=req.get(url)"
   ]
  },
  {
   "cell_type": "code",
   "execution_count": 308,
   "id": "e5b76c9b",
   "metadata": {},
   "outputs": [],
   "source": [
    "abc=abc.json()"
   ]
  },
  {
   "cell_type": "code",
   "execution_count": 309,
   "id": "2fa754e7",
   "metadata": {},
   "outputs": [],
   "source": [
    "abc=[9,\n",
    "     abc['name'],\n",
    "     abc['desc'],\n",
    "     abc['type'],\n",
    "     str(abc['typical_speakers']).replace(\"[\",\"\").replace(\"]\",\"\").replace(\"'\",\"\"),\n",
    "     abc['script']]"
   ]
  },
  {
   "cell_type": "code",
   "execution_count": 310,
   "id": "255b1391",
   "metadata": {},
   "outputs": [
    {
     "data": {
      "text/plain": [
       "[9,\n",
       " 'Gnomish',\n",
       " 'The Gnomish language, which uses the Dwarvish script, is renowned for its technical treatises and its catalogs of knowledge about the natural world.',\n",
       " 'Standard',\n",
       " 'Gnomes',\n",
       " 'Dwarvish']"
      ]
     },
     "execution_count": 310,
     "metadata": {},
     "output_type": "execute_result"
    }
   ],
   "source": [
    "abc"
   ]
  },
  {
   "cell_type": "code",
   "execution_count": 311,
   "id": "7cf795a1",
   "metadata": {},
   "outputs": [],
   "source": [
    "languages.loc[len(languages)]= abc"
   ]
  },
  {
   "cell_type": "markdown",
   "id": "f0258fd0",
   "metadata": {},
   "source": [
    "## Goblin "
   ]
  },
  {
   "cell_type": "code",
   "execution_count": 312,
   "id": "a6d65e7a",
   "metadata": {},
   "outputs": [],
   "source": [
    "url=\"https://www.dnd5eapi.co/api/languages/goblin\""
   ]
  },
  {
   "cell_type": "code",
   "execution_count": 313,
   "id": "0cbdd53e",
   "metadata": {},
   "outputs": [],
   "source": [
    "abc=req.get(url)"
   ]
  },
  {
   "cell_type": "code",
   "execution_count": 314,
   "id": "983ea3c1",
   "metadata": {},
   "outputs": [],
   "source": [
    "abc=abc.json()"
   ]
  },
  {
   "cell_type": "code",
   "execution_count": 316,
   "id": "f70a8ff0",
   "metadata": {},
   "outputs": [],
   "source": [
    "abc=[10,\n",
    "     abc['name'],\n",
    "     'None',\n",
    "     abc['type'],\n",
    "     str(abc['typical_speakers']).replace(\"[\",\"\").replace(\"]\",\"\").replace(\"'\",\"\"),\n",
    "     abc['script']]"
   ]
  },
  {
   "cell_type": "code",
   "execution_count": 317,
   "id": "9dfc95cf",
   "metadata": {},
   "outputs": [
    {
     "data": {
      "text/plain": [
       "[10, 'Goblin', 'None', 'Standard', 'Goblinoids', 'Dwarvish']"
      ]
     },
     "execution_count": 317,
     "metadata": {},
     "output_type": "execute_result"
    }
   ],
   "source": [
    "abc"
   ]
  },
  {
   "cell_type": "code",
   "execution_count": 318,
   "id": "917a641f",
   "metadata": {},
   "outputs": [],
   "source": [
    "languages.loc[len(languages)]= abc"
   ]
  },
  {
   "cell_type": "markdown",
   "id": "8e662925",
   "metadata": {},
   "source": [
    "## Halfling "
   ]
  },
  {
   "cell_type": "code",
   "execution_count": 319,
   "id": "61304a4b",
   "metadata": {},
   "outputs": [],
   "source": [
    "url=\"https://www.dnd5eapi.co/api/languages/halfling\""
   ]
  },
  {
   "cell_type": "code",
   "execution_count": 320,
   "id": "dc4a3f91",
   "metadata": {},
   "outputs": [],
   "source": [
    "abc=req.get(url)"
   ]
  },
  {
   "cell_type": "code",
   "execution_count": 321,
   "id": "f9e13359",
   "metadata": {},
   "outputs": [],
   "source": [
    "abc=abc.json()"
   ]
  },
  {
   "cell_type": "code",
   "execution_count": 322,
   "id": "8992cf1f",
   "metadata": {},
   "outputs": [],
   "source": [
    "abc=[11,\n",
    "     abc['name'],\n",
    "     abc['desc'],\n",
    "     abc['type'],\n",
    "     str(abc['typical_speakers']).replace(\"[\",\"\").replace(\"]\",\"\").replace(\"'\",\"\"),\n",
    "     abc['script']]"
   ]
  },
  {
   "cell_type": "code",
   "execution_count": 323,
   "id": "cd829a10",
   "metadata": {},
   "outputs": [
    {
     "data": {
      "text/plain": [
       "[11,\n",
       " 'Halfling',\n",
       " \"The Halfling language isn't secret, but halflings are loath to share it with others. They write very little, so they don't have a rich body of literature. Their oral tradition, however, is very strong.\",\n",
       " 'Standard',\n",
       " 'Halflings',\n",
       " 'Common']"
      ]
     },
     "execution_count": 323,
     "metadata": {},
     "output_type": "execute_result"
    }
   ],
   "source": [
    "abc"
   ]
  },
  {
   "cell_type": "code",
   "execution_count": 324,
   "id": "26e0f2a6",
   "metadata": {},
   "outputs": [],
   "source": [
    "languages.loc[len(languages)]= abc"
   ]
  },
  {
   "cell_type": "markdown",
   "id": "8aace147",
   "metadata": {},
   "source": [
    "## Infernal "
   ]
  },
  {
   "cell_type": "code",
   "execution_count": 325,
   "id": "fd468fbc",
   "metadata": {},
   "outputs": [],
   "source": [
    "url=\"https://www.dnd5eapi.co/api/languages/infernal\""
   ]
  },
  {
   "cell_type": "code",
   "execution_count": 326,
   "id": "a3c1d4a3",
   "metadata": {},
   "outputs": [],
   "source": [
    "abc=req.get(url)"
   ]
  },
  {
   "cell_type": "code",
   "execution_count": 327,
   "id": "32a2bd73",
   "metadata": {},
   "outputs": [],
   "source": [
    "abc=abc.json()"
   ]
  },
  {
   "cell_type": "code",
   "execution_count": 329,
   "id": "811cd169",
   "metadata": {},
   "outputs": [],
   "source": [
    "abc=[12,\n",
    "     abc['name'],\n",
    "     'None',\n",
    "     abc['type'],\n",
    "     str(abc['typical_speakers']).replace(\"[\",\"\").replace(\"]\",\"\").replace(\"'\",\"\"),\n",
    "     abc['script']]"
   ]
  },
  {
   "cell_type": "code",
   "execution_count": 330,
   "id": "8fdf9f5f",
   "metadata": {},
   "outputs": [
    {
     "data": {
      "text/plain": [
       "[12, 'Infernal', 'None', 'Exotic', 'Devils', 'Infernal']"
      ]
     },
     "execution_count": 330,
     "metadata": {},
     "output_type": "execute_result"
    }
   ],
   "source": [
    "abc"
   ]
  },
  {
   "cell_type": "code",
   "execution_count": 331,
   "id": "90412958",
   "metadata": {},
   "outputs": [],
   "source": [
    "languages.loc[len(languages)]= abc"
   ]
  },
  {
   "cell_type": "markdown",
   "id": "79993bf3",
   "metadata": {},
   "source": [
    "## Orc "
   ]
  },
  {
   "cell_type": "code",
   "execution_count": 332,
   "id": "cab23e8e",
   "metadata": {},
   "outputs": [],
   "source": [
    "url=\"https://www.dnd5eapi.co/api/languages/orc\""
   ]
  },
  {
   "cell_type": "code",
   "execution_count": 333,
   "id": "c492f045",
   "metadata": {},
   "outputs": [],
   "source": [
    "abc=req.get(url)"
   ]
  },
  {
   "cell_type": "code",
   "execution_count": 334,
   "id": "44080a41",
   "metadata": {},
   "outputs": [],
   "source": [
    "abc=abc.json()"
   ]
  },
  {
   "cell_type": "code",
   "execution_count": 335,
   "id": "d4252876",
   "metadata": {},
   "outputs": [],
   "source": [
    "abc=[13,\n",
    "     abc['name'],\n",
    "     abc['desc'],\n",
    "     abc['type'],\n",
    "     str(abc['typical_speakers']).replace(\"[\",\"\").replace(\"]\",\"\").replace(\"'\",\"\"),\n",
    "     abc['script']]"
   ]
  },
  {
   "cell_type": "code",
   "execution_count": 336,
   "id": "ffc843aa",
   "metadata": {},
   "outputs": [
    {
     "data": {
      "text/plain": [
       "[13,\n",
       " 'Orc',\n",
       " 'Orc is a harsh, grating language with hard consonants. It has no script of its own but is written in the Dwarvish script.',\n",
       " 'Standard',\n",
       " 'Orcs',\n",
       " 'Dwarvish']"
      ]
     },
     "execution_count": 336,
     "metadata": {},
     "output_type": "execute_result"
    }
   ],
   "source": [
    "abc"
   ]
  },
  {
   "cell_type": "code",
   "execution_count": 337,
   "id": "7d35b514",
   "metadata": {},
   "outputs": [],
   "source": [
    "languages.loc[len(languages)]= abc"
   ]
  },
  {
   "cell_type": "markdown",
   "id": "285bdbe4",
   "metadata": {},
   "source": [
    "## Primordial "
   ]
  },
  {
   "cell_type": "code",
   "execution_count": 338,
   "id": "45e17110",
   "metadata": {},
   "outputs": [],
   "source": [
    "url=\"https://www.dnd5eapi.co/api/languages/primordial\""
   ]
  },
  {
   "cell_type": "code",
   "execution_count": 339,
   "id": "ff508abf",
   "metadata": {},
   "outputs": [],
   "source": [
    "abc=req.get(url)"
   ]
  },
  {
   "cell_type": "code",
   "execution_count": 340,
   "id": "94cbcb27",
   "metadata": {},
   "outputs": [],
   "source": [
    "abc=abc.json()"
   ]
  },
  {
   "cell_type": "code",
   "execution_count": 342,
   "id": "5b3db267",
   "metadata": {},
   "outputs": [],
   "source": [
    "abc=[14,\n",
    "     abc['name'],\n",
    "     'None',\n",
    "     abc['type'],\n",
    "     str(abc['typical_speakers']).replace(\"[\",\"\").replace(\"]\",\"\").replace(\"'\",\"\"),\n",
    "     abc['script']]"
   ]
  },
  {
   "cell_type": "code",
   "execution_count": 343,
   "id": "0a8c58f7",
   "metadata": {},
   "outputs": [
    {
     "data": {
      "text/plain": [
       "[14, 'Primordial', 'None', 'Exotic', 'Elementals', 'Dwarvish']"
      ]
     },
     "execution_count": 343,
     "metadata": {},
     "output_type": "execute_result"
    }
   ],
   "source": [
    "abc"
   ]
  },
  {
   "cell_type": "code",
   "execution_count": 344,
   "id": "9ab54e3c",
   "metadata": {},
   "outputs": [],
   "source": [
    "languages.loc[len(languages)]= abc"
   ]
  },
  {
   "cell_type": "markdown",
   "id": "d06558a9",
   "metadata": {},
   "source": [
    "## Sylvan "
   ]
  },
  {
   "cell_type": "code",
   "execution_count": 345,
   "id": "800fb81a",
   "metadata": {},
   "outputs": [],
   "source": [
    "url=\"https://www.dnd5eapi.co/api/languages/sylvan\""
   ]
  },
  {
   "cell_type": "code",
   "execution_count": 346,
   "id": "c26044ad",
   "metadata": {},
   "outputs": [],
   "source": [
    "abc=req.get(url)"
   ]
  },
  {
   "cell_type": "code",
   "execution_count": 347,
   "id": "045ec77a",
   "metadata": {},
   "outputs": [],
   "source": [
    "abc=abc.json()"
   ]
  },
  {
   "cell_type": "code",
   "execution_count": 349,
   "id": "cb6e8dee",
   "metadata": {},
   "outputs": [],
   "source": [
    "abc=[15,\n",
    "     abc['name'],\n",
    "     'None',\n",
    "     abc['type'],\n",
    "     str(abc['typical_speakers']).replace(\"[\",\"\").replace(\"]\",\"\").replace(\"'\",\"\"),\n",
    "     abc['script']]"
   ]
  },
  {
   "cell_type": "code",
   "execution_count": 350,
   "id": "e1ab4581",
   "metadata": {},
   "outputs": [
    {
     "data": {
      "text/plain": [
       "[15, 'Sylvan', 'None', 'Exotic', 'Fey creatures', 'Elvish']"
      ]
     },
     "execution_count": 350,
     "metadata": {},
     "output_type": "execute_result"
    }
   ],
   "source": [
    "abc"
   ]
  },
  {
   "cell_type": "code",
   "execution_count": 351,
   "id": "c8e3c3b3",
   "metadata": {},
   "outputs": [],
   "source": [
    "languages.loc[len(languages)]= abc"
   ]
  },
  {
   "cell_type": "markdown",
   "id": "fa4bf93f",
   "metadata": {},
   "source": [
    "## Undercommon "
   ]
  },
  {
   "cell_type": "code",
   "execution_count": 352,
   "id": "0daca76d",
   "metadata": {},
   "outputs": [],
   "source": [
    "url=\"https://www.dnd5eapi.co/api/languages/undercommon\""
   ]
  },
  {
   "cell_type": "code",
   "execution_count": 353,
   "id": "cce2d104",
   "metadata": {},
   "outputs": [],
   "source": [
    "abc=req.get(url)"
   ]
  },
  {
   "cell_type": "code",
   "execution_count": 354,
   "id": "161a978b",
   "metadata": {},
   "outputs": [],
   "source": [
    "abc=abc.json()"
   ]
  },
  {
   "cell_type": "code",
   "execution_count": 356,
   "id": "32e065b9",
   "metadata": {},
   "outputs": [],
   "source": [
    "abc=[16,\n",
    "     abc['name'],\n",
    "     'None',\n",
    "     abc['type'],\n",
    "     str(abc['typical_speakers']).replace(\"[\",\"\").replace(\"]\",\"\").replace(\"'\",\"\"),\n",
    "     abc['script']]"
   ]
  },
  {
   "cell_type": "code",
   "execution_count": 357,
   "id": "069e2845",
   "metadata": {},
   "outputs": [
    {
     "data": {
      "text/plain": [
       "[16, 'Undercommon', 'None', 'Exotic', 'Underdark traders', 'Elvish']"
      ]
     },
     "execution_count": 357,
     "metadata": {},
     "output_type": "execute_result"
    }
   ],
   "source": [
    "abc"
   ]
  },
  {
   "cell_type": "code",
   "execution_count": 358,
   "id": "ad5714f3",
   "metadata": {},
   "outputs": [],
   "source": [
    "languages.loc[len(languages)]= abc"
   ]
  },
  {
   "cell_type": "markdown",
   "id": "752c2f58",
   "metadata": {},
   "source": [
    "## Exportar"
   ]
  },
  {
   "cell_type": "code",
   "execution_count": 359,
   "id": "5e8734cf",
   "metadata": {},
   "outputs": [
    {
     "data": {
      "text/html": [
       "<div>\n",
       "<style scoped>\n",
       "    .dataframe tbody tr th:only-of-type {\n",
       "        vertical-align: middle;\n",
       "    }\n",
       "\n",
       "    .dataframe tbody tr th {\n",
       "        vertical-align: top;\n",
       "    }\n",
       "\n",
       "    .dataframe thead th {\n",
       "        text-align: right;\n",
       "    }\n",
       "</style>\n",
       "<table border=\"1\" class=\"dataframe\">\n",
       "  <thead>\n",
       "    <tr style=\"text-align: right;\">\n",
       "      <th></th>\n",
       "      <th>id_languages</th>\n",
       "      <th>language_name</th>\n",
       "      <th>description</th>\n",
       "      <th>type</th>\n",
       "      <th>speakers</th>\n",
       "      <th>script</th>\n",
       "    </tr>\n",
       "  </thead>\n",
       "  <tbody>\n",
       "    <tr>\n",
       "      <th>0</th>\n",
       "      <td>1</td>\n",
       "      <td>Abyssal</td>\n",
       "      <td>None</td>\n",
       "      <td>Exotic</td>\n",
       "      <td>Demons</td>\n",
       "      <td>Infernal</td>\n",
       "    </tr>\n",
       "    <tr>\n",
       "      <th>1</th>\n",
       "      <td>2</td>\n",
       "      <td>Abyssal</td>\n",
       "      <td>None</td>\n",
       "      <td>Exotic</td>\n",
       "      <td>Demons</td>\n",
       "      <td>Infernal</td>\n",
       "    </tr>\n",
       "    <tr>\n",
       "      <th>2</th>\n",
       "      <td>3</td>\n",
       "      <td>Common</td>\n",
       "      <td>None</td>\n",
       "      <td>Standard</td>\n",
       "      <td>Humans</td>\n",
       "      <td>Common</td>\n",
       "    </tr>\n",
       "    <tr>\n",
       "      <th>3</th>\n",
       "      <td>4</td>\n",
       "      <td>Deep Speech</td>\n",
       "      <td>None</td>\n",
       "      <td>Exotic</td>\n",
       "      <td>Aboleths, Cloakers</td>\n",
       "      <td>None</td>\n",
       "    </tr>\n",
       "    <tr>\n",
       "      <th>4</th>\n",
       "      <td>5</td>\n",
       "      <td>Draconic</td>\n",
       "      <td>Draconic is thought to be one of the oldest la...</td>\n",
       "      <td>Exotic</td>\n",
       "      <td>Dragons, Dragonborn</td>\n",
       "      <td>Draconic</td>\n",
       "    </tr>\n",
       "    <tr>\n",
       "      <th>5</th>\n",
       "      <td>6</td>\n",
       "      <td>Dwarvish</td>\n",
       "      <td>Dwarvish is full of hard consonants and guttur...</td>\n",
       "      <td>Standard</td>\n",
       "      <td>Dwarves</td>\n",
       "      <td>Dwarvish</td>\n",
       "    </tr>\n",
       "    <tr>\n",
       "      <th>6</th>\n",
       "      <td>7</td>\n",
       "      <td>Elvish</td>\n",
       "      <td>Elvish is fluid, with subtle intonations and i...</td>\n",
       "      <td>Standard</td>\n",
       "      <td>Elves</td>\n",
       "      <td>Elvish</td>\n",
       "    </tr>\n",
       "    <tr>\n",
       "      <th>7</th>\n",
       "      <td>8</td>\n",
       "      <td>Giant</td>\n",
       "      <td>None</td>\n",
       "      <td>Standard</td>\n",
       "      <td>Ogres, Giants</td>\n",
       "      <td>Dwarvish</td>\n",
       "    </tr>\n",
       "    <tr>\n",
       "      <th>8</th>\n",
       "      <td>9</td>\n",
       "      <td>Gnomish</td>\n",
       "      <td>The Gnomish language, which uses the Dwarvish ...</td>\n",
       "      <td>Standard</td>\n",
       "      <td>Gnomes</td>\n",
       "      <td>Dwarvish</td>\n",
       "    </tr>\n",
       "    <tr>\n",
       "      <th>9</th>\n",
       "      <td>10</td>\n",
       "      <td>Goblin</td>\n",
       "      <td>None</td>\n",
       "      <td>Standard</td>\n",
       "      <td>Goblinoids</td>\n",
       "      <td>Dwarvish</td>\n",
       "    </tr>\n",
       "    <tr>\n",
       "      <th>10</th>\n",
       "      <td>11</td>\n",
       "      <td>Halfling</td>\n",
       "      <td>The Halfling language isn't secret, but halfli...</td>\n",
       "      <td>Standard</td>\n",
       "      <td>Halflings</td>\n",
       "      <td>Common</td>\n",
       "    </tr>\n",
       "    <tr>\n",
       "      <th>11</th>\n",
       "      <td>12</td>\n",
       "      <td>Infernal</td>\n",
       "      <td>None</td>\n",
       "      <td>Exotic</td>\n",
       "      <td>Devils</td>\n",
       "      <td>Infernal</td>\n",
       "    </tr>\n",
       "    <tr>\n",
       "      <th>12</th>\n",
       "      <td>13</td>\n",
       "      <td>Orc</td>\n",
       "      <td>Orc is a harsh, grating language with hard con...</td>\n",
       "      <td>Standard</td>\n",
       "      <td>Orcs</td>\n",
       "      <td>Dwarvish</td>\n",
       "    </tr>\n",
       "    <tr>\n",
       "      <th>13</th>\n",
       "      <td>14</td>\n",
       "      <td>Primordial</td>\n",
       "      <td>None</td>\n",
       "      <td>Exotic</td>\n",
       "      <td>Elementals</td>\n",
       "      <td>Dwarvish</td>\n",
       "    </tr>\n",
       "    <tr>\n",
       "      <th>14</th>\n",
       "      <td>15</td>\n",
       "      <td>Sylvan</td>\n",
       "      <td>None</td>\n",
       "      <td>Exotic</td>\n",
       "      <td>Fey creatures</td>\n",
       "      <td>Elvish</td>\n",
       "    </tr>\n",
       "    <tr>\n",
       "      <th>15</th>\n",
       "      <td>16</td>\n",
       "      <td>Undercommon</td>\n",
       "      <td>None</td>\n",
       "      <td>Exotic</td>\n",
       "      <td>Underdark traders</td>\n",
       "      <td>Elvish</td>\n",
       "    </tr>\n",
       "  </tbody>\n",
       "</table>\n",
       "</div>"
      ],
      "text/plain": [
       "    id_languages language_name  \\\n",
       "0              1       Abyssal   \n",
       "1              2       Abyssal   \n",
       "2              3        Common   \n",
       "3              4   Deep Speech   \n",
       "4              5      Draconic   \n",
       "5              6      Dwarvish   \n",
       "6              7        Elvish   \n",
       "7              8         Giant   \n",
       "8              9       Gnomish   \n",
       "9             10        Goblin   \n",
       "10            11      Halfling   \n",
       "11            12      Infernal   \n",
       "12            13           Orc   \n",
       "13            14    Primordial   \n",
       "14            15        Sylvan   \n",
       "15            16   Undercommon   \n",
       "\n",
       "                                          description      type  \\\n",
       "0                                                None    Exotic   \n",
       "1                                                None    Exotic   \n",
       "2                                                None  Standard   \n",
       "3                                                None    Exotic   \n",
       "4   Draconic is thought to be one of the oldest la...    Exotic   \n",
       "5   Dwarvish is full of hard consonants and guttur...  Standard   \n",
       "6   Elvish is fluid, with subtle intonations and i...  Standard   \n",
       "7                                                None  Standard   \n",
       "8   The Gnomish language, which uses the Dwarvish ...  Standard   \n",
       "9                                                None  Standard   \n",
       "10  The Halfling language isn't secret, but halfli...  Standard   \n",
       "11                                               None    Exotic   \n",
       "12  Orc is a harsh, grating language with hard con...  Standard   \n",
       "13                                               None    Exotic   \n",
       "14                                               None    Exotic   \n",
       "15                                               None    Exotic   \n",
       "\n",
       "               speakers    script  \n",
       "0                Demons  Infernal  \n",
       "1                Demons  Infernal  \n",
       "2                Humans    Common  \n",
       "3    Aboleths, Cloakers      None  \n",
       "4   Dragons, Dragonborn  Draconic  \n",
       "5               Dwarves  Dwarvish  \n",
       "6                 Elves    Elvish  \n",
       "7         Ogres, Giants  Dwarvish  \n",
       "8                Gnomes  Dwarvish  \n",
       "9            Goblinoids  Dwarvish  \n",
       "10            Halflings    Common  \n",
       "11               Devils  Infernal  \n",
       "12                 Orcs  Dwarvish  \n",
       "13           Elementals  Dwarvish  \n",
       "14        Fey creatures    Elvish  \n",
       "15    Underdark traders    Elvish  "
      ]
     },
     "execution_count": 359,
     "metadata": {},
     "output_type": "execute_result"
    }
   ],
   "source": [
    "languages"
   ]
  },
  {
   "cell_type": "code",
   "execution_count": 360,
   "id": "153d1628",
   "metadata": {},
   "outputs": [],
   "source": [
    "languages.to_csv('../data/clean/cl_languages.csv', index=False)"
   ]
  },
  {
   "cell_type": "markdown",
   "id": "e62417e3",
   "metadata": {},
   "source": [
    "Finalmente, se emplea como tabla informativa para el jugador."
   ]
  }
 ],
 "metadata": {
  "kernelspec": {
   "display_name": "Clase",
   "language": "python",
   "name": "clase"
  },
  "language_info": {
   "codemirror_mode": {
    "name": "ipython",
    "version": 3
   },
   "file_extension": ".py",
   "mimetype": "text/x-python",
   "name": "python",
   "nbconvert_exporter": "python",
   "pygments_lexer": "ipython3",
   "version": "3.8.13"
  }
 },
 "nbformat": 4,
 "nbformat_minor": 5
}

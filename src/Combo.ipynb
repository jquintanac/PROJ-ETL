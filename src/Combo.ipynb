{
 "cells": [
  {
   "cell_type": "code",
   "execution_count": 1,
   "id": "a110a328",
   "metadata": {},
   "outputs": [],
   "source": [
    "import pandas as pd\n",
    "pd.set_option('display.max_columns', None)\n",
    "\n",
    "import numpy as np\n",
    "\n",
    "import warnings\n",
    "warnings.filterwarnings('ignore')\n",
    "\n",
    "import json\n",
    "from pandas.io.json import json_normalize"
   ]
  },
  {
   "cell_type": "markdown",
   "id": "572dc0b6",
   "metadata": {},
   "source": [
    "Debido a la necesidad de unir clases y razas, se investiga sobre las combinaciones de ambos parámetros. En base a una tabla de 10000 personajes creados, se establecen los valores en mayor proporción como 'recommended', los menos frecuentes como 'infrecuents' y el resto como neutrales. La tabla se crea con la referencia como base pero transformando el número de personajes en porcentajes en base al total. Se realiza en excel por comodidad aunque es #mejorable para realizarlo en pandas."
   ]
  },
  {
   "cell_type": "code",
   "execution_count": 20,
   "id": "73fba3d5",
   "metadata": {},
   "outputs": [],
   "source": [
    "combo = pd.read_excel('../data/clean/combination.xlsx')"
   ]
  },
  {
   "cell_type": "code",
   "execution_count": 21,
   "id": "b43109e7",
   "metadata": {},
   "outputs": [
    {
     "data": {
      "text/html": [
       "<div>\n",
       "<style scoped>\n",
       "    .dataframe tbody tr th:only-of-type {\n",
       "        vertical-align: middle;\n",
       "    }\n",
       "\n",
       "    .dataframe tbody tr th {\n",
       "        vertical-align: top;\n",
       "    }\n",
       "\n",
       "    .dataframe thead th {\n",
       "        text-align: right;\n",
       "    }\n",
       "</style>\n",
       "<table border=\"1\" class=\"dataframe\">\n",
       "  <thead>\n",
       "    <tr style=\"text-align: right;\">\n",
       "      <th></th>\n",
       "      <th>id_races</th>\n",
       "      <th>id_class</th>\n",
       "      <th>combination</th>\n",
       "    </tr>\n",
       "  </thead>\n",
       "  <tbody>\n",
       "    <tr>\n",
       "      <th>0</th>\n",
       "      <td>1</td>\n",
       "      <td>1</td>\n",
       "      <td>Neutral</td>\n",
       "    </tr>\n",
       "    <tr>\n",
       "      <th>1</th>\n",
       "      <td>1</td>\n",
       "      <td>2</td>\n",
       "      <td>Neutral</td>\n",
       "    </tr>\n",
       "    <tr>\n",
       "      <th>2</th>\n",
       "      <td>1</td>\n",
       "      <td>3</td>\n",
       "      <td>Neutral</td>\n",
       "    </tr>\n",
       "    <tr>\n",
       "      <th>3</th>\n",
       "      <td>1</td>\n",
       "      <td>4</td>\n",
       "      <td>Infrequent</td>\n",
       "    </tr>\n",
       "    <tr>\n",
       "      <th>4</th>\n",
       "      <td>1</td>\n",
       "      <td>5</td>\n",
       "      <td>Recommended</td>\n",
       "    </tr>\n",
       "    <tr>\n",
       "      <th>...</th>\n",
       "      <td>...</td>\n",
       "      <td>...</td>\n",
       "      <td>...</td>\n",
       "    </tr>\n",
       "    <tr>\n",
       "      <th>103</th>\n",
       "      <td>9</td>\n",
       "      <td>8</td>\n",
       "      <td>Infrequent</td>\n",
       "    </tr>\n",
       "    <tr>\n",
       "      <th>104</th>\n",
       "      <td>9</td>\n",
       "      <td>9</td>\n",
       "      <td>Neutral</td>\n",
       "    </tr>\n",
       "    <tr>\n",
       "      <th>105</th>\n",
       "      <td>9</td>\n",
       "      <td>10</td>\n",
       "      <td>Recommended</td>\n",
       "    </tr>\n",
       "    <tr>\n",
       "      <th>106</th>\n",
       "      <td>9</td>\n",
       "      <td>11</td>\n",
       "      <td>Recommended</td>\n",
       "    </tr>\n",
       "    <tr>\n",
       "      <th>107</th>\n",
       "      <td>9</td>\n",
       "      <td>12</td>\n",
       "      <td>Neutral</td>\n",
       "    </tr>\n",
       "  </tbody>\n",
       "</table>\n",
       "<p>108 rows × 3 columns</p>\n",
       "</div>"
      ],
      "text/plain": [
       "     id_races  id_class  combination\n",
       "0           1         1      Neutral\n",
       "1           1         2      Neutral\n",
       "2           1         3      Neutral\n",
       "3           1         4   Infrequent\n",
       "4           1         5  Recommended\n",
       "..        ...       ...          ...\n",
       "103         9         8   Infrequent\n",
       "104         9         9      Neutral\n",
       "105         9        10  Recommended\n",
       "106         9        11  Recommended\n",
       "107         9        12      Neutral\n",
       "\n",
       "[108 rows x 3 columns]"
      ]
     },
     "execution_count": 21,
     "metadata": {},
     "output_type": "execute_result"
    }
   ],
   "source": [
    "combo"
   ]
  },
  {
   "cell_type": "code",
   "execution_count": 22,
   "id": "57604019",
   "metadata": {},
   "outputs": [],
   "source": [
    "combo.to_csv('../data/clean/combination.csv', index=False)"
   ]
  }
 ],
 "metadata": {
  "kernelspec": {
   "display_name": "Clase",
   "language": "python",
   "name": "clase"
  },
  "language_info": {
   "codemirror_mode": {
    "name": "ipython",
    "version": 3
   },
   "file_extension": ".py",
   "mimetype": "text/x-python",
   "name": "python",
   "nbconvert_exporter": "python",
   "pygments_lexer": "ipython3",
   "version": "3.8.13"
  }
 },
 "nbformat": 4,
 "nbformat_minor": 5
}

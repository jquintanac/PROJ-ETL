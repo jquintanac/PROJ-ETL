{
 "cells": [
  {
   "cell_type": "code",
   "execution_count": 1,
   "id": "ea045b9e",
   "metadata": {},
   "outputs": [],
   "source": [
    "import pandas as pd\n",
    "pd.set_option('display.max_columns', None)\n",
    "\n",
    "import numpy as np\n",
    "\n",
    "import warnings\n",
    "warnings.filterwarnings('ignore')\n",
    "\n",
    "import json\n",
    "from pandas.io.json import json_normalize\n",
    "\n",
    "import random\n",
    "\n",
    "import math"
   ]
  },
  {
   "cell_type": "markdown",
   "id": "83befef1",
   "metadata": {},
   "source": [
    "## Funciones para dados y stats "
   ]
  },
  {
   "cell_type": "markdown",
   "id": "a86442f5",
   "metadata": {},
   "source": [
    "Defino función para dado de seis caras."
   ]
  },
  {
   "cell_type": "code",
   "execution_count": 2,
   "id": "640074e4",
   "metadata": {},
   "outputs": [],
   "source": [
    "def dado6():\n",
    "    return random.choice([e for e in range(1,7)])"
   ]
  },
  {
   "cell_type": "code",
   "execution_count": 3,
   "id": "9d6296d8",
   "metadata": {},
   "outputs": [
    {
     "data": {
      "text/plain": [
       "3"
      ]
     },
     "execution_count": 3,
     "metadata": {},
     "output_type": "execute_result"
    }
   ],
   "source": [
    "dado6()"
   ]
  },
  {
   "cell_type": "markdown",
   "id": "4c8141eb",
   "metadata": {},
   "source": [
    "Defino generación de valor para stats: cuatro tiradas de un dado de 6 caras, quedándote con la suma de los 3 resultados más altos."
   ]
  },
  {
   "cell_type": "code",
   "execution_count": 4,
   "id": "c8adb1da",
   "metadata": {},
   "outputs": [],
   "source": [
    "def stat():\n",
    "    \n",
    "    a=[dado6(),dado6(),dado6(),dado6()]\n",
    "    a.sort(reverse=True)\n",
    "    a.pop()\n",
    "    \n",
    "    return sum(a)"
   ]
  },
  {
   "cell_type": "code",
   "execution_count": 5,
   "id": "930f7a9a",
   "metadata": {},
   "outputs": [
    {
     "data": {
      "text/plain": [
       "9"
      ]
     },
     "execution_count": 5,
     "metadata": {},
     "output_type": "execute_result"
    }
   ],
   "source": [
    "stat()"
   ]
  },
  {
   "cell_type": "markdown",
   "id": "326824b5",
   "metadata": {},
   "source": [
    "Modificador: el resultado del stat -10 y entre dos, redondeado a la baja."
   ]
  },
  {
   "cell_type": "code",
   "execution_count": 30,
   "id": "da3b92a2",
   "metadata": {},
   "outputs": [],
   "source": [
    "def modifier(c):\n",
    "    c=stat()    \n",
    "    a=c-10\n",
    "    b=a//2\n",
    "    return b"
   ]
  },
  {
   "cell_type": "code",
   "execution_count": 31,
   "id": "b115ab44",
   "metadata": {},
   "outputs": [
    {
     "data": {
      "text/plain": [
       "3"
      ]
     },
     "execution_count": 31,
     "metadata": {},
     "output_type": "execute_result"
    }
   ],
   "source": [
    "modifier(stat)"
   ]
  },
  {
   "cell_type": "markdown",
   "id": "a9c04830",
   "metadata": {},
   "source": [
    "## Creación stats "
   ]
  },
  {
   "cell_type": "code",
   "execution_count": 9,
   "id": "84c1b9d5",
   "metadata": {},
   "outputs": [
    {
     "data": {
      "text/html": [
       "<div>\n",
       "<style scoped>\n",
       "    .dataframe tbody tr th:only-of-type {\n",
       "        vertical-align: middle;\n",
       "    }\n",
       "\n",
       "    .dataframe tbody tr th {\n",
       "        vertical-align: top;\n",
       "    }\n",
       "\n",
       "    .dataframe thead th {\n",
       "        text-align: right;\n",
       "    }\n",
       "</style>\n",
       "<table border=\"1\" class=\"dataframe\">\n",
       "  <thead>\n",
       "    <tr style=\"text-align: right;\">\n",
       "      <th></th>\n",
       "      <th>class_name</th>\n",
       "      <th>CHA</th>\n",
       "      <th>CHA_modifier</th>\n",
       "      <th>CON</th>\n",
       "      <th>CON_modifier</th>\n",
       "      <th>DEX</th>\n",
       "      <th>DEX_modifier</th>\n",
       "      <th>STR</th>\n",
       "      <th>STR_modifier</th>\n",
       "      <th>INT</th>\n",
       "      <th>INT_modifier</th>\n",
       "      <th>WIS</th>\n",
       "      <th>WIS_modifier</th>\n",
       "    </tr>\n",
       "  </thead>\n",
       "  <tbody>\n",
       "  </tbody>\n",
       "</table>\n",
       "</div>"
      ],
      "text/plain": [
       "Empty DataFrame\n",
       "Columns: [class_name, CHA, CHA_modifier, CON, CON_modifier, DEX, DEX_modifier, STR, STR_modifier, INT, INT_modifier, WIS, WIS_modifier]\n",
       "Index: []"
      ]
     },
     "execution_count": 9,
     "metadata": {},
     "output_type": "execute_result"
    }
   ],
   "source": [
    "columns=['class_name', 'CHA', 'CHA_modifier', 'CON','CON_modifier', 'DEX','DEX_modifier', 'STR','STR_modifier', 'INT', 'INT_modifier', 'WIS', 'WIS_modifier' ]\n",
    "\n",
    "stats= pd.DataFrame(columns=columns)\n",
    "\n",
    "stats"
   ]
  },
  {
   "cell_type": "markdown",
   "id": "b6ec6e4f",
   "metadata": {},
   "source": [
    "Debido a la necesidad de unir los stats con las clases y añadirlo a la tabla final, se buscan los valores básicos por defecto para cada clase y establecerlos de manera predefinida, pero podrían modificarse si se quisiera escoger otros con las funciones previamente definidas."
   ]
  },
  {
   "cell_type": "code",
   "execution_count": 11,
   "id": "deaafecb",
   "metadata": {},
   "outputs": [],
   "source": [
    "barbstats= ['Barbarian', 15, 2, 14, 2, 14, 2, 8, -1, 10, 0, 10, 0]\n",
    "\n",
    "stats.loc[len(stats)]= barbstats\n",
    "\n",
    "\n",
    "bardstats= ['Bard', 8, -1, 15, 2, 13, 1, 12, 1, 8, -1, 15, 2]\n",
    "\n",
    "stats.loc[len(stats)]= bardstats\n",
    "\n",
    "\n",
    "clerstats= ['Cleric', 15, 2, 14, 2, 14, 2, 8, -1, 10, 0, 10, 0]\n",
    "\n",
    "stats.loc[len(stats)]= clerstats\n",
    "\n",
    "\n",
    "druidstats= ['Druid', 8, -1, 14, 2, 14, 2, 12, 1, 15, 2, 8, -1]\n",
    "\n",
    "stats.loc[len(stats)]= druidstats\n",
    "\n",
    "\n",
    "figstats= ['Figther', 15, 2, 8, -1, 14, 2, 14, 2, 12, 1, 8, -1]\n",
    "\n",
    "stats.loc[len(stats)]= figstats\n",
    "\n",
    "\n",
    "monkstats= ['Monk', 8, -1, 15, 2, 14, 2, 10, 1, 15, 2, 8, -1]\n",
    "\n",
    "stats.loc[len(stats)]= monkstats\n",
    "\n",
    "\n",
    "palastats= ['Paladin', 8, -1, 15, 2, 15, 2, 8, -1, 8, -1, 15, 2]\n",
    "\n",
    "stats.loc[len(stats)]= palastats\n",
    "\n",
    "\n",
    "rangstats= ['Ranger', 15, 2, 14, 2, 14, 2, 8, -1, 8, -1, 15, 2]\n",
    "\n",
    "stats.loc[len(stats)]= rangstats\n",
    "\n",
    "\n",
    "rogstats= ['Rogue', 8, -1, 15, 2, 14, 2, 11, 0, 12, 1, 12, 1]\n",
    "\n",
    "stats.loc[len(stats)]= rogstats\n",
    "\n",
    "\n",
    "sorcstats= ['Sorcerer', 8, -1, 14, 2, 14, 2, 10, 0, 10, 0, 15, 2]\n",
    "\n",
    "stats.loc[len(stats)]= sorcstats\n",
    "\n",
    "\n",
    "warlstats= ['Warlock', 8, -1, 14, 2, 14, 2, 10, 0, 10, 0, 15, 2]\n",
    "\n",
    "stats.loc[len(stats)]= warlstats\n",
    "\n",
    "\n",
    "wizstats= ['Wizard', 8, -1, 14, 2, 14, 2, 15, 2, 12, 1, 8, -1]\n",
    "\n",
    "stats.loc[len(stats)]= wizstats"
   ]
  },
  {
   "cell_type": "code",
   "execution_count": 12,
   "id": "c4be1963",
   "metadata": {},
   "outputs": [
    {
     "data": {
      "text/html": [
       "<div>\n",
       "<style scoped>\n",
       "    .dataframe tbody tr th:only-of-type {\n",
       "        vertical-align: middle;\n",
       "    }\n",
       "\n",
       "    .dataframe tbody tr th {\n",
       "        vertical-align: top;\n",
       "    }\n",
       "\n",
       "    .dataframe thead th {\n",
       "        text-align: right;\n",
       "    }\n",
       "</style>\n",
       "<table border=\"1\" class=\"dataframe\">\n",
       "  <thead>\n",
       "    <tr style=\"text-align: right;\">\n",
       "      <th></th>\n",
       "      <th>class_name</th>\n",
       "      <th>CHA</th>\n",
       "      <th>CHA_modifier</th>\n",
       "      <th>CON</th>\n",
       "      <th>CON_modifier</th>\n",
       "      <th>DEX</th>\n",
       "      <th>DEX_modifier</th>\n",
       "      <th>STR</th>\n",
       "      <th>STR_modifier</th>\n",
       "      <th>INT</th>\n",
       "      <th>INT_modifier</th>\n",
       "      <th>WIS</th>\n",
       "      <th>WIS_modifier</th>\n",
       "    </tr>\n",
       "  </thead>\n",
       "  <tbody>\n",
       "    <tr>\n",
       "      <th>0</th>\n",
       "      <td>Barbarian</td>\n",
       "      <td>15</td>\n",
       "      <td>2</td>\n",
       "      <td>14</td>\n",
       "      <td>2</td>\n",
       "      <td>14</td>\n",
       "      <td>2</td>\n",
       "      <td>8</td>\n",
       "      <td>-1</td>\n",
       "      <td>10</td>\n",
       "      <td>0</td>\n",
       "      <td>10</td>\n",
       "      <td>0</td>\n",
       "    </tr>\n",
       "    <tr>\n",
       "      <th>1</th>\n",
       "      <td>Bard</td>\n",
       "      <td>8</td>\n",
       "      <td>-1</td>\n",
       "      <td>15</td>\n",
       "      <td>2</td>\n",
       "      <td>13</td>\n",
       "      <td>1</td>\n",
       "      <td>12</td>\n",
       "      <td>1</td>\n",
       "      <td>8</td>\n",
       "      <td>-1</td>\n",
       "      <td>15</td>\n",
       "      <td>2</td>\n",
       "    </tr>\n",
       "    <tr>\n",
       "      <th>2</th>\n",
       "      <td>Cleric</td>\n",
       "      <td>15</td>\n",
       "      <td>2</td>\n",
       "      <td>14</td>\n",
       "      <td>2</td>\n",
       "      <td>14</td>\n",
       "      <td>2</td>\n",
       "      <td>8</td>\n",
       "      <td>-1</td>\n",
       "      <td>10</td>\n",
       "      <td>0</td>\n",
       "      <td>10</td>\n",
       "      <td>0</td>\n",
       "    </tr>\n",
       "    <tr>\n",
       "      <th>3</th>\n",
       "      <td>Druid</td>\n",
       "      <td>8</td>\n",
       "      <td>-1</td>\n",
       "      <td>14</td>\n",
       "      <td>2</td>\n",
       "      <td>14</td>\n",
       "      <td>2</td>\n",
       "      <td>12</td>\n",
       "      <td>1</td>\n",
       "      <td>15</td>\n",
       "      <td>2</td>\n",
       "      <td>8</td>\n",
       "      <td>-1</td>\n",
       "    </tr>\n",
       "    <tr>\n",
       "      <th>4</th>\n",
       "      <td>Figther</td>\n",
       "      <td>15</td>\n",
       "      <td>2</td>\n",
       "      <td>8</td>\n",
       "      <td>-1</td>\n",
       "      <td>14</td>\n",
       "      <td>2</td>\n",
       "      <td>14</td>\n",
       "      <td>2</td>\n",
       "      <td>12</td>\n",
       "      <td>1</td>\n",
       "      <td>8</td>\n",
       "      <td>-1</td>\n",
       "    </tr>\n",
       "    <tr>\n",
       "      <th>5</th>\n",
       "      <td>Monk</td>\n",
       "      <td>8</td>\n",
       "      <td>-1</td>\n",
       "      <td>15</td>\n",
       "      <td>2</td>\n",
       "      <td>14</td>\n",
       "      <td>2</td>\n",
       "      <td>10</td>\n",
       "      <td>1</td>\n",
       "      <td>15</td>\n",
       "      <td>2</td>\n",
       "      <td>8</td>\n",
       "      <td>-1</td>\n",
       "    </tr>\n",
       "    <tr>\n",
       "      <th>6</th>\n",
       "      <td>Paladin</td>\n",
       "      <td>8</td>\n",
       "      <td>-1</td>\n",
       "      <td>15</td>\n",
       "      <td>2</td>\n",
       "      <td>15</td>\n",
       "      <td>2</td>\n",
       "      <td>8</td>\n",
       "      <td>-1</td>\n",
       "      <td>8</td>\n",
       "      <td>-1</td>\n",
       "      <td>15</td>\n",
       "      <td>2</td>\n",
       "    </tr>\n",
       "    <tr>\n",
       "      <th>7</th>\n",
       "      <td>Ranger</td>\n",
       "      <td>15</td>\n",
       "      <td>2</td>\n",
       "      <td>14</td>\n",
       "      <td>2</td>\n",
       "      <td>14</td>\n",
       "      <td>2</td>\n",
       "      <td>8</td>\n",
       "      <td>-1</td>\n",
       "      <td>8</td>\n",
       "      <td>-1</td>\n",
       "      <td>15</td>\n",
       "      <td>2</td>\n",
       "    </tr>\n",
       "    <tr>\n",
       "      <th>8</th>\n",
       "      <td>Rogue</td>\n",
       "      <td>8</td>\n",
       "      <td>-1</td>\n",
       "      <td>15</td>\n",
       "      <td>2</td>\n",
       "      <td>14</td>\n",
       "      <td>2</td>\n",
       "      <td>11</td>\n",
       "      <td>0</td>\n",
       "      <td>12</td>\n",
       "      <td>1</td>\n",
       "      <td>12</td>\n",
       "      <td>1</td>\n",
       "    </tr>\n",
       "    <tr>\n",
       "      <th>9</th>\n",
       "      <td>Sorcerer</td>\n",
       "      <td>8</td>\n",
       "      <td>-1</td>\n",
       "      <td>14</td>\n",
       "      <td>2</td>\n",
       "      <td>14</td>\n",
       "      <td>2</td>\n",
       "      <td>10</td>\n",
       "      <td>0</td>\n",
       "      <td>10</td>\n",
       "      <td>0</td>\n",
       "      <td>15</td>\n",
       "      <td>2</td>\n",
       "    </tr>\n",
       "    <tr>\n",
       "      <th>10</th>\n",
       "      <td>Warlock</td>\n",
       "      <td>8</td>\n",
       "      <td>-1</td>\n",
       "      <td>14</td>\n",
       "      <td>2</td>\n",
       "      <td>14</td>\n",
       "      <td>2</td>\n",
       "      <td>10</td>\n",
       "      <td>0</td>\n",
       "      <td>10</td>\n",
       "      <td>0</td>\n",
       "      <td>15</td>\n",
       "      <td>2</td>\n",
       "    </tr>\n",
       "    <tr>\n",
       "      <th>11</th>\n",
       "      <td>Wizard</td>\n",
       "      <td>8</td>\n",
       "      <td>-1</td>\n",
       "      <td>14</td>\n",
       "      <td>2</td>\n",
       "      <td>14</td>\n",
       "      <td>2</td>\n",
       "      <td>15</td>\n",
       "      <td>2</td>\n",
       "      <td>12</td>\n",
       "      <td>1</td>\n",
       "      <td>8</td>\n",
       "      <td>-1</td>\n",
       "    </tr>\n",
       "  </tbody>\n",
       "</table>\n",
       "</div>"
      ],
      "text/plain": [
       "   class_name  CHA  CHA_modifier  CON  CON_modifier  DEX  DEX_modifier  STR  \\\n",
       "0   Barbarian   15             2   14             2   14             2    8   \n",
       "1        Bard    8            -1   15             2   13             1   12   \n",
       "2      Cleric   15             2   14             2   14             2    8   \n",
       "3       Druid    8            -1   14             2   14             2   12   \n",
       "4     Figther   15             2    8            -1   14             2   14   \n",
       "5        Monk    8            -1   15             2   14             2   10   \n",
       "6     Paladin    8            -1   15             2   15             2    8   \n",
       "7      Ranger   15             2   14             2   14             2    8   \n",
       "8       Rogue    8            -1   15             2   14             2   11   \n",
       "9    Sorcerer    8            -1   14             2   14             2   10   \n",
       "10    Warlock    8            -1   14             2   14             2   10   \n",
       "11     Wizard    8            -1   14             2   14             2   15   \n",
       "\n",
       "    STR_modifier  INT  INT_modifier  WIS  WIS_modifier  \n",
       "0             -1   10             0   10             0  \n",
       "1              1    8            -1   15             2  \n",
       "2             -1   10             0   10             0  \n",
       "3              1   15             2    8            -1  \n",
       "4              2   12             1    8            -1  \n",
       "5              1   15             2    8            -1  \n",
       "6             -1    8            -1   15             2  \n",
       "7             -1    8            -1   15             2  \n",
       "8              0   12             1   12             1  \n",
       "9              0   10             0   15             2  \n",
       "10             0   10             0   15             2  \n",
       "11             2   12             1    8            -1  "
      ]
     },
     "execution_count": 12,
     "metadata": {},
     "output_type": "execute_result"
    }
   ],
   "source": [
    "stats"
   ]
  },
  {
   "cell_type": "markdown",
   "id": "96f48af6",
   "metadata": {},
   "source": [
    "## Exportación"
   ]
  },
  {
   "cell_type": "code",
   "execution_count": 15,
   "id": "ab4a89bc",
   "metadata": {},
   "outputs": [],
   "source": [
    "\n",
    "stats.to_csv('../data/clean/stats.csv', index=False)"
   ]
  }
 ],
 "metadata": {
  "kernelspec": {
   "display_name": "Clase",
   "language": "python",
   "name": "clase"
  },
  "language_info": {
   "codemirror_mode": {
    "name": "ipython",
    "version": 3
   },
   "file_extension": ".py",
   "mimetype": "text/x-python",
   "name": "python",
   "nbconvert_exporter": "python",
   "pygments_lexer": "ipython3",
   "version": "3.8.13"
  }
 },
 "nbformat": 4,
 "nbformat_minor": 5
}
